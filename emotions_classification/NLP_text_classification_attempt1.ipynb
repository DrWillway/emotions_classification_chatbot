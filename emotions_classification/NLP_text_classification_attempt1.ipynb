{
 "cells": [
  {
   "cell_type": "markdown",
   "metadata": {},
   "source": [
    "### IMPORTING PACKAGES"
   ]
  },
  {
   "cell_type": "code",
   "execution_count": 27,
   "metadata": {},
   "outputs": [
    {
     "name": "stderr",
     "output_type": "stream",
     "text": [
      "[nltk_data] Downloading package punkt to\n",
      "[nltk_data]     C:\\Users\\GuilhermeFranco\\AppData\\Roaming\\nltk_data...\n",
      "[nltk_data]   Package punkt is already up-to-date!\n",
      "[nltk_data] Downloading package averaged_perceptron_tagger to\n",
      "[nltk_data]     C:\\Users\\GuilhermeFranco\\AppData\\Roaming\\nltk_data...\n",
      "[nltk_data]   Package averaged_perceptron_tagger is already up-to-\n",
      "[nltk_data]       date!\n",
      "[nltk_data] Downloading package wordnet to\n",
      "[nltk_data]     C:\\Users\\GuilhermeFranco\\AppData\\Roaming\\nltk_data...\n",
      "[nltk_data]   Package wordnet is already up-to-date!\n"
     ]
    }
   ],
   "source": [
    "import pandas as pd\n",
    "import numpy as np\n",
    "\n",
    "import seaborn as sns\n",
    "import matplotlib.pyplot as plt\n",
    "\n",
    "#for text pre-processing\n",
    "import re, string\n",
    "import nltk\n",
    "from nltk.tokenize import word_tokenize\n",
    "from nltk.corpus import stopwords\n",
    "from nltk.tokenize import word_tokenize\n",
    "from nltk.stem import SnowballStemmer\n",
    "from nltk.corpus import wordnet\n",
    "from nltk.stem import WordNetLemmatizer\n",
    "\n",
    "nltk.download('punkt')\n",
    "nltk.download('averaged_perceptron_tagger')\n",
    "nltk.download('wordnet')\n",
    "\n",
    "#for model-building\n",
    "from sklearn.model_selection import train_test_split\n",
    "from sklearn.linear_model import LogisticRegression\n",
    "from sklearn.linear_model import SGDClassifier\n",
    "from sklearn.naive_bayes import MultinomialNB\n",
    "from sklearn.metrics import classification_report, f1_score, accuracy_score, confusion_matrix\n",
    "from sklearn.metrics import roc_curve, auc, roc_auc_score\n",
    "\n",
    "# bag of words\n",
    "from sklearn.feature_extraction.text import TfidfVectorizer\n",
    "from sklearn.feature_extraction.text import CountVectorizer\n",
    "\n",
    "#for word embedding\n",
    "import gensim\n",
    "from gensim.models import Word2Vec #Word2Vec is mostly used for huge datasets"
   ]
  },
  {
   "cell_type": "code",
   "execution_count": 28,
   "metadata": {},
   "outputs": [
    {
     "name": "stderr",
     "output_type": "stream",
     "text": [
      "c:\\Universidade\\Mestrado\\2º ano\\MEIA-8-T3\\.venv\\lib\\site-packages\\datasets\\load.py:1461: FutureWarning: The repository for dair-ai/emotion contains custom code which must be executed to correctly load the dataset. You can inspect the repository content at https://hf.co/datasets/dair-ai/emotion\n",
      "You can avoid this message in future by passing the argument `trust_remote_code=True`.\n",
      "Passing `trust_remote_code=True` will be mandatory to load this dataset from the next major release of `datasets`.\n",
      "  warnings.warn(\n"
     ]
    }
   ],
   "source": [
    "from datasets import load_dataset\n",
    "\n",
    "dataset = load_dataset(\"dair-ai/emotion\")"
   ]
  },
  {
   "cell_type": "markdown",
   "metadata": {},
   "source": [
    "## Loading Data"
   ]
  },
  {
   "cell_type": "code",
   "execution_count": 29,
   "metadata": {},
   "outputs": [
    {
     "name": "stdout",
     "output_type": "stream",
     "text": [
      "(16000, 2)\n",
      "                                                text  label\n",
      "0                            i didnt feel humiliated      0\n",
      "1  i can go from feeling so hopeless to so damned...      0\n",
      "2   im grabbing a minute to post i feel greedy wrong      3\n",
      "3  i am ever feeling nostalgic about the fireplac...      2\n",
      "4                               i am feeling grouchy      3\n"
     ]
    }
   ],
   "source": [
    "# Convert the dataset to a Pandas DataFrame\n",
    "df_train = pd.DataFrame(dataset['train'])\n",
    "\n",
    "# Print the shape and head of the DataFrame\n",
    "print(df_train.shape)\n",
    "print(df_train.head())\n"
   ]
  },
  {
   "cell_type": "markdown",
   "metadata": {},
   "source": [
    "## EDA"
   ]
  },
  {
   "cell_type": "code",
   "execution_count": 30,
   "metadata": {},
   "outputs": [
    {
     "name": "stdout",
     "output_type": "stream",
     "text": [
      "label\n",
      "1    5362\n",
      "0    4666\n",
      "3    2159\n",
      "4    1937\n",
      "2    1304\n",
      "5     572\n",
      "Name: count, dtype: int64\n"
     ]
    },
    {
     "data": {
      "text/plain": [
       "<Axes: xlabel='label', ylabel='count'>"
      ]
     },
     "execution_count": 30,
     "metadata": {},
     "output_type": "execute_result"
    },
    {
     "data": {
      "image/png": "[encoded data removed]",
      "text/plain": [
       "<Figure size 640x480 with 1 Axes>"
      ]
     },
     "metadata": {},
     "output_type": "display_data"
    }
   ],
   "source": [
    "# CLASS DISTRIBUTION \n",
    "# 0 sadness\n",
    "# 1 joy\n",
    "# 2 love\n",
    "# 3 anger\n",
    "# 4 fear\n",
    "# 5 surprise\n",
    "# if dataset is balanced or not\n",
    "# Change these emotions. \n",
    "# Final emotions to use: Happiness, Surprise, Anger, Sadness, Fear, Disgust and Neutral\n",
    "x=df_train['label'].value_counts()\n",
    "print(x)\n",
    "sns.barplot(x=x.index, y=x, alpha=0.8)"
   ]
  },
  {
   "cell_type": "code",
   "execution_count": 31,
   "metadata": {},
   "outputs": [
    {
     "data": {
      "text/plain": [
       "text     0\n",
       "label    0\n",
       "dtype: int64"
      ]
     },
     "execution_count": 31,
     "metadata": {},
     "output_type": "execute_result"
    }
   ],
   "source": [
    "#Missing values\n",
    "df_train.isna().sum()"
   ]
  },
  {
   "cell_type": "code",
   "execution_count": 32,
   "metadata": {},
   "outputs": [
    {
     "name": "stdout",
     "output_type": "stream",
     "text": [
      "WORD-COUNT\n",
      "18.361980282897555\n",
      "19.498135024244686\n",
      "20.70015337423313\n",
      "19.229735988883743\n",
      "18.84460505937016\n",
      "19.97027972027972\n",
      "\n",
      "CHARACTER-COUNT\n",
      "92.55057865409344\n"
     ]
    },
    {
     "name": "stdout",
     "output_type": "stream",
     "text": [
      "98.5544572920552\n",
      "104.03374233128834\n",
      "96.91153311718388\n",
      "96.12390294269488\n",
      "101.67657342657343\n",
      "\n",
      "UNIQUE WORD-COUNTT\n",
      "16.24903557651093\n",
      "17.290936217829167\n",
      "18.197852760736197\n",
      "16.930523390458546\n",
      "16.735673722250905\n",
      "17.692307692307693\n"
     ]
    }
   ],
   "source": [
    "# sadness, joy, love, anger, fear, and surprise\n",
    "\n",
    "#1. WORD-COUNT\n",
    "print(\"WORD-COUNT\")\n",
    "df_train['word_count'] = df_train['text'].apply(lambda x: len(str(x).split()))\n",
    "print(df_train[df_train['label']==0]['word_count'].mean()) #sadness\n",
    "print(df_train[df_train['label']==1]['word_count'].mean()) #joy\n",
    "print(df_train[df_train['label']==2]['word_count'].mean()) #love\n",
    "print(df_train[df_train['label']==3]['word_count'].mean()) #anger\n",
    "print(df_train[df_train['label']==4]['word_count'].mean()) #fear\n",
    "print(df_train[df_train['label']==5]['word_count'].mean()) #surprise\n",
    "\n",
    "print(\"\\nCHARACTER-COUNT\")\n",
    "#2. CHARACTER-COUNT\n",
    "df_train['char_count'] = df_train['text'].apply(lambda x: len(str(x)))\n",
    "print(df_train[df_train['label']==0]['char_count'].mean())\n",
    "print(df_train[df_train['label']==1]['char_count'].mean())\n",
    "print(df_train[df_train['label']==2]['char_count'].mean())\n",
    "print(df_train[df_train['label']==3]['char_count'].mean())\n",
    "print(df_train[df_train['label']==4]['char_count'].mean())\n",
    "print(df_train[df_train['label']==5]['char_count'].mean())\n",
    "\n",
    "print(\"\\nUNIQUE WORD-COUNTT\")\n",
    "#3. UNIQUE WORD-COUNT\n",
    "df_train['unique_word_count'] = df_train['text'].apply(lambda x: len(set(str(x).split())))\n",
    "print(df_train[df_train['label']==0]['unique_word_count'].mean())\n",
    "print(df_train[df_train['label']==1]['unique_word_count'].mean())\n",
    "print(df_train[df_train['label']==2]['unique_word_count'].mean())\n",
    "print(df_train[df_train['label']==3]['unique_word_count'].mean())\n",
    "print(df_train[df_train['label']==4]['unique_word_count'].mean())\n",
    "print(df_train[df_train['label']==5]['unique_word_count'].mean())"
   ]
  },
  {
   "cell_type": "code",
   "execution_count": 33,
   "metadata": {},
   "outputs": [
    {
     "data": {
      "image/png": "[encoded data removed]",
      "text/plain": [
       "<Figure size 1500x800 with 6 Axes>"
      ]
     },
     "metadata": {},
     "output_type": "display_data"
    }
   ],
   "source": [
    "\n",
    "# Define a mapping from numeric labels to emotion names\n",
    "label_mapping = {0: 'sadness', 1: 'joy', 2: 'love', 3: 'anger', 4: 'fear', 5: 'surprise'}\n",
    "\n",
    "# Define a color palette for the emotions\n",
    "colors = sns.color_palette(\"husl\", len(label_mapping))\n",
    "\n",
    "# Plotting word-count per tweet for each label\n",
    "fig, axes = plt.subplots(2, 3, figsize=(15, 8))\n",
    "\n",
    "for idx, (label_num, label_name) in enumerate(label_mapping.items()):\n",
    "    row = idx // 3\n",
    "    col = idx % 3\n",
    "    ax = axes[row, col]\n",
    "    train_words = df_train[df_train['label'] == label_num]['word_count']\n",
    "    ax.hist(train_words, color=colors[label_num])\n",
    "    ax.set_title(label_name.capitalize())\n",
    "\n",
    "fig.suptitle('Words per tweet for different labels')\n",
    "plt.tight_layout()\n",
    "plt.show()"
   ]
  },
  {
   "cell_type": "markdown",
   "metadata": {},
   "source": [
    "## PRE-PROCESSING"
   ]
  },
  {
   "cell_type": "code",
   "execution_count": 34,
   "metadata": {},
   "outputs": [
    {
     "name": "stdout",
     "output_type": "stream",
     "text": [
      "this is a message to be cleaned it may involve some things like adjacent spaces and tabs\n"
     ]
    }
   ],
   "source": [
    "#1. Common text preprocessing\n",
    "text = \"   This is a message to be cleaned. It may involve some things like: <br>, ?, :, ''  adjacent spaces and tabs     .  \"\n",
    "\n",
    "#convert to lowercase and remove punctuations and characters and then strip\n",
    "def preprocess(text):\n",
    "    text = text.lower() #lowercase text\n",
    "    text=text.strip()  #get rid of leading/trailing whitespace \n",
    "    text=re.compile('<.*?>').sub('', text) #Remove HTML tags/markups\n",
    "    text = re.compile('[%s]' % re.escape(string.punctuation)).sub(' ', text)  #Replace punctuation with space. Careful since punctuation can sometime be useful\n",
    "    text = re.sub('\\s+', ' ', text)  #Remove extra space and tabs\n",
    "    text = re.sub(r'\\[[0-9]*\\]',' ',text) #[0-9] matches any digit (0 to 10000...)\n",
    "    text=re.sub(r'[^\\w\\s]', '', str(text).lower().strip())\n",
    "    text = re.sub(r'\\d',' ',text) #matches any digit from 0 to 100000..., \\D matches non-digits\n",
    "    text = re.sub(r'\\s+',' ',text) #\\s matches any whitespace, \\s+ matches multiple whitespace, \\S matches non-whitespace \n",
    "    \n",
    "    return text\n",
    "\n",
    "text=preprocess(text)\n",
    "print(text)  #text is a string"
   ]
  },
  {
   "cell_type": "code",
   "execution_count": 35,
   "metadata": {},
   "outputs": [
    {
     "name": "stdout",
     "output_type": "stream",
     "text": [
      "Processing text for label: sadness\n",
      "Processed text for sadness : sampl text . includ stopword , plural , differ verb form like run , ran , run .\n",
      "\n",
      "Processing text for label: joy\n",
      "Processed text for joy : sampl text . includ stopword , plural , differ verb form like run , ran , run .\n",
      "\n",
      "Processing text for label: love\n",
      "Processed text for love : sampl text . includ stopword , plural , differ verb form like run , ran , run .\n",
      "\n",
      "Processing text for label: anger\n",
      "Processed text for anger : sampl text . includ stopword , plural , differ verb form like run , ran , run .\n",
      "\n",
      "Processing text for label: fear\n",
      "Processed text for fear : sampl text . includ stopword , plural , differ verb form like run , ran , run .\n",
      "\n",
      "Processing text for label: surprise\n",
      "Processed text for surprise : sampl text . includ stopword , plural , differ verb form like run , ran , run .\n",
      "\n"
     ]
    }
   ],
   "source": [
    "import nltk\n",
    "from nltk.corpus import stopwords\n",
    "from nltk.stem import SnowballStemmer, WordNetLemmatizer\n",
    "from nltk.tokenize import word_tokenize\n",
    "from nltk.corpus import wordnet\n",
    "\n",
    "# Sample text\n",
    "text = \"This is a sample text. It includes stopwords, plurals, and different verb forms like running, ran, and runs.\"\n",
    "\n",
    "# 1. STOPWORD REMOVAL\n",
    "def stopword(string):\n",
    "    return ' '.join([i for i in string.split() if i.lower() not in stopwords.words('english')])\n",
    "\n",
    "# 2. STEMMING\n",
    "snow = SnowballStemmer('english')\n",
    "def stemming(string):\n",
    "    return \" \".join([snow.stem(i) for i in word_tokenize(string)])\n",
    "\n",
    "# 3. LEMMATIZATION\n",
    "wl = WordNetLemmatizer()\n",
    "def get_wordnet_pos(tag):\n",
    "    if tag.startswith('J'):\n",
    "        return wordnet.ADJ\n",
    "    elif tag.startswith('V'):\n",
    "        return wordnet.VERB\n",
    "    elif tag.startswith('N'):\n",
    "        return wordnet.NOUN\n",
    "    elif tag.startswith('R'):\n",
    "        return wordnet.ADV\n",
    "    else:\n",
    "        return wordnet.NOUN\n",
    "\n",
    "def lemmatizer(string):\n",
    "    word_pos_tags = nltk.pos_tag(word_tokenize(string))\n",
    "    return \" \".join([wl.lemmatize(tag[0], get_wordnet_pos(tag[1])) for idx, tag in enumerate(word_pos_tags)])\n",
    "\n",
    "# Labels (tags)\n",
    "labels = ['sadness','joy','love','anger','fear','surprise']\n",
    "\n",
    "# Iterate over each label and apply text processing techniques\n",
    "for label in labels:\n",
    "    print(\"Processing text for label:\", label)\n",
    "    text_processed = text.lower()  # Convert text to lowercase\n",
    "    text_processed = stopword(text_processed)\n",
    "    text_processed = stemming(text_processed)\n",
    "    text_processed = lemmatizer(text_processed)\n",
    "    print(\"Processed text for\", label, \":\", text_processed)\n",
    "    print()\n"
   ]
  },
  {
   "cell_type": "code",
   "execution_count": 36,
   "metadata": {},
   "outputs": [
    {
     "data": {
      "text/html": [
       "<div>\n",
       "<style scoped>\n",
       "    .dataframe tbody tr th:only-of-type {\n",
       "        vertical-align: middle;\n",
       "    }\n",
       "\n",
       "    .dataframe tbody tr th {\n",
       "        vertical-align: top;\n",
       "    }\n",
       "\n",
       "    .dataframe thead th {\n",
       "        text-align: right;\n",
       "    }\n",
       "</style>\n",
       "<table border=\"1\" class=\"dataframe\">\n",
       "  <thead>\n",
       "    <tr style=\"text-align: right;\">\n",
       "      <th></th>\n",
       "      <th>text</th>\n",
       "      <th>label</th>\n",
       "      <th>clean_text</th>\n",
       "    </tr>\n",
       "  </thead>\n",
       "  <tbody>\n",
       "    <tr>\n",
       "      <th>0</th>\n",
       "      <td>i didnt feel humiliated</td>\n",
       "      <td>0</td>\n",
       "      <td>didnt feel humiliate</td>\n",
       "    </tr>\n",
       "    <tr>\n",
       "      <th>1</th>\n",
       "      <td>i can go from feeling so hopeless to so damned...</td>\n",
       "      <td>0</td>\n",
       "      <td>go feeling hopeless damn hopeful around someon...</td>\n",
       "    </tr>\n",
       "    <tr>\n",
       "      <th>2</th>\n",
       "      <td>im grabbing a minute to post i feel greedy wrong</td>\n",
       "      <td>3</td>\n",
       "      <td>im grab minute post feel greedy wrong</td>\n",
       "    </tr>\n",
       "    <tr>\n",
       "      <th>3</th>\n",
       "      <td>i am ever feeling nostalgic about the fireplac...</td>\n",
       "      <td>2</td>\n",
       "      <td>ever feel nostalgic fireplace know still property</td>\n",
       "    </tr>\n",
       "    <tr>\n",
       "      <th>4</th>\n",
       "      <td>i am feeling grouchy</td>\n",
       "      <td>3</td>\n",
       "      <td>feel grouchy</td>\n",
       "    </tr>\n",
       "  </tbody>\n",
       "</table>\n",
       "</div>"
      ],
      "text/plain": [
       "                                                text  label  \\\n",
       "0                            i didnt feel humiliated      0   \n",
       "1  i can go from feeling so hopeless to so damned...      0   \n",
       "2   im grabbing a minute to post i feel greedy wrong      3   \n",
       "3  i am ever feeling nostalgic about the fireplac...      2   \n",
       "4                               i am feeling grouchy      3   \n",
       "\n",
       "                                          clean_text  \n",
       "0                               didnt feel humiliate  \n",
       "1  go feeling hopeless damn hopeful around someon...  \n",
       "2              im grab minute post feel greedy wrong  \n",
       "3  ever feel nostalgic fireplace know still property  \n",
       "4                                       feel grouchy  "
      ]
     },
     "execution_count": 36,
     "metadata": {},
     "output_type": "execute_result"
    }
   ],
   "source": [
    "#FINAL PREPROCESSING\n",
    "def finalpreprocess(string):\n",
    "    return lemmatizer(stopword(preprocess(string)))\n",
    "\n",
    "df_train['clean_text'] = df_train['text'].apply(lambda x: finalpreprocess(x))\n",
    "df_train=df_train.drop(columns=['word_count','char_count','unique_word_count'])\n",
    "df_train.head()"
   ]
  },
  {
   "cell_type": "markdown",
   "metadata": {},
   "source": [
    "### Word2Vec model"
   ]
  },
  {
   "cell_type": "code",
   "execution_count": 37,
   "metadata": {},
   "outputs": [],
   "source": [
    "# Create Word2Vec model\n",
    "# Here words_f should be a list containing words from each document. say 1st row of the list is words from the 1st document/sentence\n",
    "# Length of words_f is the number of documents/sentences in your dataset\n",
    "df_train['clean_text_tok'] = [nltk.word_tokenize(i) for i in df_train['clean_text']]  # Convert preprocessed sentence to tokenized sentence\n",
    "model = Word2Vec(df_train['clean_text_tok'], min_count=1)  # Min_count=1 means word should be present at least across all documents,\n",
    "# If min_count=2 means if the word is present less than 2 times across all the documents then we shouldn't consider it\n",
    "\n",
    "w2v = dict(zip(model.wv.index_to_key, model.wv.vectors))  # Combination of word and its vector\n",
    "\n",
    "# For converting sentence to vectors/numbers from word vectors result by Word2Vec\n",
    "class MeanEmbeddingVectorizer(object):\n",
    "    def __init__(self, word2vec):\n",
    "        self.word2vec = word2vec\n",
    "        # If a text is empty we should return a vector of zeros\n",
    "        # with the same dimensionality as all the other vectors\n",
    "        self.dim = len(next(iter(word2vec.values())))\n",
    "\n",
    "    def fit(self, X, y):\n",
    "        return self\n",
    "\n",
    "    def transform(self, X):\n",
    "        return np.array([\n",
    "            np.mean([self.word2vec[w] for w in words if w in self.word2vec]\n",
    "                    or [np.zeros(self.dim)], axis=0)\n",
    "            for words in X\n",
    "        ])"
   ]
  },
  {
   "cell_type": "markdown",
   "metadata": {},
   "source": [
    "### TRAIN TEST SPLITTING OF LABELLED DATASET"
   ]
  },
  {
   "cell_type": "code",
   "execution_count": 38,
   "metadata": {},
   "outputs": [],
   "source": [
    "#SPLITTING THE TRAINING DATASET INTO TRAINING AND VALIDATION\n",
    " \n",
    "# Input: \"reviewText\", \"rating\" and \"time\"\n",
    "# Target: \"log_votes\"\n",
    "X_train, X_val, y_train, y_val = train_test_split(df_train[\"clean_text\"],\n",
    "                                                  df_train[\"label\"],\n",
    "                                                  test_size=0.2,\n",
    "                                                  shuffle=True)\n",
    "X_train_tok= [nltk.word_tokenize(i) for i in X_train]  #for word2vec\n",
    "X_val_tok= [nltk.word_tokenize(i) for i in X_val]      #for word2vec\n",
    "\n",
    "#TF-IDF\n",
    "# Convert x_train to vector since model can only run on numbers and not words- Fit and transform\n",
    "tfidf_vectorizer = TfidfVectorizer(use_idf=True)\n",
    "X_train_vectors_tfidf = tfidf_vectorizer.fit_transform(X_train) #tfidf runs on non-tokenized sentences unlike word2vec\n",
    "# Only transform x_test (not fit and transform)\n",
    "X_val_vectors_tfidf = tfidf_vectorizer.transform(X_val) #Don't fit() your TfidfVectorizer to your test data: it will \n",
    "#change the word-indexes & weights to match test data. Rather, fit on the training data, then use the same train-data-\n",
    "#fit model on the test data, to reflect the fact you're analyzing the test data only based on what was learned without \n",
    "#it, and the have compatible\n",
    "\n",
    "\n",
    "#Word2vec\n",
    "# Fit and transform\n",
    "modelw = MeanEmbeddingVectorizer(w2v)\n",
    "X_train_vectors_w2v = modelw.transform(X_train_tok)\n",
    "X_val_vectors_w2v = modelw.transform(X_val_tok)"
   ]
  },
  {
   "cell_type": "markdown",
   "metadata": {},
   "source": [
    "### Building AI models (Text-classification)"
   ]
  },
  {
   "cell_type": "code",
   "execution_count": 39,
   "metadata": {},
   "outputs": [
    {
     "name": "stdout",
     "output_type": "stream",
     "text": [
      "Iteration 1, loss = 1.63347060\n",
      "Iteration 2, loss = 1.25076597\n",
      "Accuracy: 0.668125\n",
      "Precision: 0.7640501180550092\n",
      "Recall: 0.668125\n",
      "F1-score: 0.6044007804319251\n",
      "Confusion Matrix:\n",
      " [[ 821   84    0    1    0    0]\n",
      " [  41 1022    0    0    0    0]\n",
      " [  47  233   11    2    0    0]\n",
      " [ 108  155    0  168    3    0]\n",
      " [ 114  153    0    7  115    0]\n",
      " [  41   66    0    1    6    1]]\n"
     ]
    },
    {
     "name": "stderr",
     "output_type": "stream",
     "text": [
      "c:\\Universidade\\Mestrado\\2º ano\\MEIA-8-T3\\.venv\\lib\\site-packages\\sklearn\\neural_network\\_multilayer_perceptron.py:691: ConvergenceWarning: Stochastic Optimizer: Maximum iterations (2) reached and the optimization hasn't converged yet.\n",
      "  warnings.warn(\n"
     ]
    }
   ],
   "source": [
    "from sklearn.neural_network import MLPClassifier\n",
    "from sklearn.metrics import classification_report, confusion_matrix, roc_curve, auc\n",
    "\n",
    "# Create an MLP classifier\n",
    "mlp_classifier = MLPClassifier(hidden_layer_sizes=(100,), max_iter=2, alpha=1e-4,\n",
    "                               solver='adam', verbose=10, random_state=42,\n",
    "                               learning_rate_init=0.001)\n",
    "\n",
    "# Fit the MLP classifier on TF-IDF vectors\n",
    "mlp_classifier.fit(X_train_vectors_tfidf, y_train)\n",
    "\n",
    "# Predict y value for validation dataset\n",
    "y_predict = mlp_classifier.predict(X_val_vectors_tfidf)\n",
    "y_prob = mlp_classifier.predict_proba(X_val_vectors_tfidf)[:, 1]\n",
    "\n",
    "from sklearn.metrics import accuracy_score, precision_score, recall_score, f1_score, confusion_matrix\n",
    "\n",
    "# Compute accuracy\n",
    "accuracy = accuracy_score(y_val, y_predict)\n",
    "print('Accuracy:', accuracy)\n",
    "\n",
    "# Compute precision\n",
    "precision = precision_score(y_val, y_predict, average='weighted')\n",
    "print('Precision:', precision)\n",
    "\n",
    "# Compute recall\n",
    "recall = recall_score(y_val, y_predict, average='weighted')\n",
    "print('Recall:', recall)\n",
    "\n",
    "# Compute F1-score\n",
    "f1 = f1_score(y_val, y_predict, average='weighted')\n",
    "print('F1-score:', f1)\n",
    "\n",
    "# Compute confusion matrix\n",
    "conf_matrix = confusion_matrix(y_val, y_predict)\n",
    "print('Confusion Matrix:\\n', conf_matrix)\n"
   ]
  },
  {
   "cell_type": "code",
   "execution_count": 40,
   "metadata": {},
   "outputs": [
    {
     "data": {
      "text/html": [
       "<div>\n",
       "<style scoped>\n",
       "    .dataframe tbody tr th:only-of-type {\n",
       "        vertical-align: middle;\n",
       "    }\n",
       "\n",
       "    .dataframe tbody tr th {\n",
       "        vertical-align: top;\n",
       "    }\n",
       "\n",
       "    .dataframe thead th {\n",
       "        text-align: right;\n",
       "    }\n",
       "</style>\n",
       "<table border=\"1\" class=\"dataframe\">\n",
       "  <thead>\n",
       "    <tr style=\"text-align: right;\">\n",
       "      <th></th>\n",
       "      <th>text</th>\n",
       "      <th>label</th>\n",
       "    </tr>\n",
       "  </thead>\n",
       "  <tbody>\n",
       "    <tr>\n",
       "      <th>0</th>\n",
       "      <td>im feeling rather rotten so im not very ambiti...</td>\n",
       "      <td>0</td>\n",
       "    </tr>\n",
       "    <tr>\n",
       "      <th>1</th>\n",
       "      <td>im updating my blog because i feel shitty</td>\n",
       "      <td>0</td>\n",
       "    </tr>\n",
       "    <tr>\n",
       "      <th>2</th>\n",
       "      <td>i never make her separate from me because i do...</td>\n",
       "      <td>0</td>\n",
       "    </tr>\n",
       "    <tr>\n",
       "      <th>3</th>\n",
       "      <td>i left with my bouquet of red and yellow tulip...</td>\n",
       "      <td>1</td>\n",
       "    </tr>\n",
       "    <tr>\n",
       "      <th>4</th>\n",
       "      <td>i was feeling a little vain when i did this one</td>\n",
       "      <td>0</td>\n",
       "    </tr>\n",
       "    <tr>\n",
       "      <th>...</th>\n",
       "      <td>...</td>\n",
       "      <td>...</td>\n",
       "    </tr>\n",
       "    <tr>\n",
       "      <th>1995</th>\n",
       "      <td>i just keep feeling like someone is being unki...</td>\n",
       "      <td>3</td>\n",
       "    </tr>\n",
       "    <tr>\n",
       "      <th>1996</th>\n",
       "      <td>im feeling a little cranky negative after this...</td>\n",
       "      <td>3</td>\n",
       "    </tr>\n",
       "    <tr>\n",
       "      <th>1997</th>\n",
       "      <td>i feel that i am useful to my people and that ...</td>\n",
       "      <td>1</td>\n",
       "    </tr>\n",
       "    <tr>\n",
       "      <th>1998</th>\n",
       "      <td>im feeling more comfortable with derby i feel ...</td>\n",
       "      <td>1</td>\n",
       "    </tr>\n",
       "    <tr>\n",
       "      <th>1999</th>\n",
       "      <td>i feel all weird when i have to meet w people ...</td>\n",
       "      <td>4</td>\n",
       "    </tr>\n",
       "  </tbody>\n",
       "</table>\n",
       "<p>2000 rows × 2 columns</p>\n",
       "</div>"
      ],
      "text/plain": [
       "                                                   text  label\n",
       "0     im feeling rather rotten so im not very ambiti...      0\n",
       "1             im updating my blog because i feel shitty      0\n",
       "2     i never make her separate from me because i do...      0\n",
       "3     i left with my bouquet of red and yellow tulip...      1\n",
       "4       i was feeling a little vain when i did this one      0\n",
       "...                                                 ...    ...\n",
       "1995  i just keep feeling like someone is being unki...      3\n",
       "1996  im feeling a little cranky negative after this...      3\n",
       "1997  i feel that i am useful to my people and that ...      1\n",
       "1998  im feeling more comfortable with derby i feel ...      1\n",
       "1999  i feel all weird when i have to meet w people ...      4\n",
       "\n",
       "[2000 rows x 2 columns]"
      ]
     },
     "execution_count": 40,
     "metadata": {},
     "output_type": "execute_result"
    }
   ],
   "source": [
    "# Load the new dataset for testing\n",
    "df_test = pd.DataFrame(dataset['test'])\n",
    "df_test"
   ]
  },
  {
   "cell_type": "markdown",
   "metadata": {},
   "source": [
    "### TESTING THE MODEL ON UNLABELLED DATASET"
   ]
  },
  {
   "cell_type": "code",
   "execution_count": 41,
   "metadata": {},
   "outputs": [
    {
     "name": "stdout",
     "output_type": "stream",
     "text": [
      "Predictions for test dataset:\n",
      "[0 0 0 ... 1 1 0]\n"
     ]
    }
   ],
   "source": [
    "# Load the new dataset for testing\n",
    "df_test = pd.DataFrame(dataset['test'])\n",
    "\n",
    "# Preprocess the text in the test dataset\n",
    "df_test['clean_text'] = df_test['text'].apply(finalpreprocess)\n",
    "\n",
    "# Convert the preprocessed text to TF-IDF vectors\n",
    "X_test_vectors_tfidf = tfidf_vectorizer.transform(df_test['clean_text'])\n",
    "\n",
    "# Predict the labels for the test dataset using the trained MLP classifier\n",
    "y_predict_test = mlp_classifier.predict(X_test_vectors_tfidf)\n",
    "\n",
    "# Print the predictions\n",
    "print(\"Predictions for test dataset:\")\n",
    "print(y_predict_test)\n",
    "\n",
    "# Optionally, you can compute and print other evaluation metrics for the test dataset\n",
    "# For example, if you have ground truth labels for the test dataset (df_test['ground_truth_labels']),\n",
    "# you can compute accuracy, precision, recall, F1-score, and confusion matrix\n",
    "# using the same metrics as shown in the previous code snippet.\n",
    "\n",
    "# Save the predictions to a CSV file\n",
    "df_test['id'] = df_test.index  # Assuming the index serves as the ID\n",
    "df_test[['id', 'label']].to_csv('submission.csv', index=False)"
   ]
  },
  {
   "cell_type": "code",
   "execution_count": 42,
   "metadata": {},
   "outputs": [],
   "source": [
    "# Define a mapping from numeric labels to emotions\n",
    "emotion_mapping = {\n",
    "    0: 'sadness',\n",
    "    1: 'joy',\n",
    "    2: 'love',\n",
    "    3: 'anger',\n",
    "    4: 'fear',\n",
    "    5: 'surprise'\n",
    "}"
   ]
  },
  {
   "cell_type": "code",
   "execution_count": 43,
   "metadata": {},
   "outputs": [
    {
     "name": "stdout",
     "output_type": "stream",
     "text": [
      "Predicted Emotion: anger\n",
      "Probability of Being Positive: 0.12919493051249584\n"
     ]
    }
   ],
   "source": [
    "# Preprocess the single input\n",
    "input_test = \"I am feeling so angry\"\n",
    "input_test = finalpreprocess(input_test)  # preprocess the data\n",
    "\n",
    "# Convert the preprocessed input to a vector using TF-IDF vectorizer\n",
    "X_vector = tfidf_vectorizer.transform([input_test])  # converting input_test to vector\n",
    "\n",
    "# Use the trained model to predict on the input vector\n",
    "y_predict = mlp_classifier.predict(X_vector)  # use the trained MLP classifier on X_vector\n",
    "y_prob = mlp_classifier.predict_proba(X_vector)[:, 1]\n",
    "\n",
    "# Map numeric labels to emotions\n",
    "predicted_emotion = emotion_mapping[y_predict[0]]\n",
    "\n",
    "# Print the predicted emotion and its probability\n",
    "print(\"Predicted Emotion:\", predicted_emotion)\n",
    "print(\"Probability of Being Positive:\", y_prob[0])\n"
   ]
  },
  {
   "cell_type": "code",
   "execution_count": 44,
   "metadata": {},
   "outputs": [
    {
     "name": "stdout",
     "output_type": "stream",
     "text": [
      "Predicted Emotion: sadness\n",
      "Probability of Being Positive: 0.14695395428658126\n"
     ]
    }
   ],
   "source": [
    "# Preprocess the single input\n",
    "input_test = \"I am feeling so sad\"\n",
    "input_test = finalpreprocess(input_test)  # preprocess the data\n",
    "\n",
    "# Convert the preprocessed input to a vector using TF-IDF vectorizer\n",
    "X_vector = tfidf_vectorizer.transform([input_test])  # converting input_test to vector\n",
    "\n",
    "# Use the trained model to predict on the input vector\n",
    "y_predict = mlp_classifier.predict(X_vector)  # use the trained MLP classifier on X_vector\n",
    "y_prob = mlp_classifier.predict_proba(X_vector)[:, 1]\n",
    "\n",
    "# Map numeric labels to emotions\n",
    "predicted_emotion = emotion_mapping[y_predict[0]]\n",
    "\n",
    "# Print the predicted emotion and its probability\n",
    "print(\"Predicted Emotion:\", predicted_emotion)\n",
    "print(\"Probability of Being Positive:\", y_prob[0])\n"
   ]
  }
 ],
 "metadata": {
  "kernelspec": {
   "display_name": "Python 3",
   "language": "python",
   "name": "python3"
  },
  "language_info": {
   "codemirror_mode": {
    "name": "ipython",
    "version": 3
   },
   "file_extension": ".py",
   "mimetype": "text/x-python",
   "name": "python",
   "nbconvert_exporter": "python",
   "pygments_lexer": "ipython3",
   "version": "3.7.9"
  }
 },
 "nbformat": 4,
 "nbformat_minor": 2
}
