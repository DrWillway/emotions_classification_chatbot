{
 "cells": [
  {
   "cell_type": "markdown",
   "metadata": {},
   "source": [
    "### IMPORTING PACKAGES"
   ]
  },
  {
   "cell_type": "code",
   "execution_count": 43,
   "metadata": {},
   "outputs": [
    {
     "name": "stderr",
     "output_type": "stream",
     "text": [
      "[nltk_data] Downloading package stopwords to\n",
      "[nltk_data]     C:\\Users\\guilf\\AppData\\Roaming\\nltk_data...\n",
      "[nltk_data]   Package stopwords is already up-to-date!\n",
      "[nltk_data] Downloading package punkt to\n",
      "[nltk_data]     C:\\Users\\guilf\\AppData\\Roaming\\nltk_data...\n",
      "[nltk_data]   Package punkt is already up-to-date!\n",
      "[nltk_data] Downloading package averaged_perceptron_tagger to\n",
      "[nltk_data]     C:\\Users\\guilf\\AppData\\Roaming\\nltk_data...\n",
      "[nltk_data]   Package averaged_perceptron_tagger is already up-to-\n",
      "[nltk_data]       date!\n",
      "[nltk_data] Downloading package wordnet to\n",
      "[nltk_data]     C:\\Users\\guilf\\AppData\\Roaming\\nltk_data...\n",
      "[nltk_data]   Package wordnet is already up-to-date!\n"
     ]
    }
   ],
   "source": [
    "import pandas as pd\n",
    "import numpy as np\n",
    "import json\n",
    "\n",
    "import seaborn as sns\n",
    "\n",
    "#for text pre-processing\n",
    "import re, string\n",
    "import nltk\n",
    "from nltk.tokenize import word_tokenize\n",
    "from nltk.corpus import stopwords\n",
    "from nltk.tokenize import word_tokenize\n",
    "from nltk.stem import SnowballStemmer\n",
    "from nltk.corpus import wordnet\n",
    "from nltk.stem import WordNetLemmatizer\n",
    "\n",
    "nltk.download('stopwords')\n",
    "nltk.download('punkt')\n",
    "nltk.download('averaged_perceptron_tagger')\n",
    "nltk.download('wordnet')\n",
    "\n",
    "#for model-building\n",
    "from sklearn.model_selection import train_test_split\n",
    "from sklearn.neural_network import MLPClassifier\n",
    "from sklearn.metrics import precision_score, f1_score, accuracy_score, confusion_matrix, recall_score\n",
    "\n",
    "# bag of words\n",
    "from sklearn.feature_extraction.text import TfidfVectorizer\n",
    "\n",
    "#for word embedding\n",
    "from gensim.models import Word2Vec #Word2Vec is mostly used for huge datasets\n",
    "\n",
    "#for huggingface datasets\n",
    "from datasets import load_dataset\n",
    "\n",
    "import json\n",
    "\n",
    "from keras.preprocessing.text import Tokenizer\n",
    "from keras.utils import pad_sequences\n",
    "from keras.models import Sequential\n",
    "from keras.layers import Dense, Embedding, LSTM\n",
    "from sklearn.preprocessing import LabelEncoder\n",
    "from sklearn.model_selection import train_test_split\n",
    "\n"
   ]
  },
  {
   "cell_type": "markdown",
   "metadata": {},
   "source": [
    "## Loading Data\n",
    "\n",
    "### Dataset 1 - dair-ai/emotion"
   ]
  },
  {
   "cell_type": "code",
   "execution_count": 44,
   "metadata": {},
   "outputs": [
    {
     "name": "stderr",
     "output_type": "stream",
     "text": [
      "c:\\Users\\guilf\\miniconda3\\envs\\tf\\lib\\site-packages\\datasets\\load.py:1461: FutureWarning: The repository for dair-ai/emotion contains custom code which must be executed to correctly load the dataset. You can inspect the repository content at https://hf.co/datasets/dair-ai/emotion\n",
      "You can avoid this message in future by passing the argument `trust_remote_code=True`.\n",
      "Passing `trust_remote_code=True` will be mandatory to load this dataset from the next major release of `datasets`.\n",
      "  warnings.warn(\n"
     ]
    },
    {
     "name": "stdout",
     "output_type": "stream",
     "text": [
      "(14696, 2)\n",
      "   label                                               text\n",
      "0      0                            i didnt feel humiliated\n",
      "1      0  i can go from feeling so hopeless to so damned...\n",
      "2      3   im grabbing a minute to post i feel greedy wrong\n",
      "4      3                               i am feeling grouchy\n",
      "5      0  ive been feeling a little burdened lately wasn...\n",
      "label\n",
      "1    5362\n",
      "0    4666\n",
      "3    2159\n",
      "4    1937\n",
      "5     572\n",
      "Name: count, dtype: int64\n"
     ]
    }
   ],
   "source": [
    "# CLASS DISTRIBUTION \n",
    "# 0 sadness\n",
    "# 1 joy\n",
    "# 2 love\n",
    "# 3 anger\n",
    "# 4 fear\n",
    "# 5 surprise\n",
    "\n",
    "dataset_emotion = load_dataset(\"dair-ai/emotion\")\n",
    "\n",
    "# Convert the dataset to a Pandas DataFrame\n",
    "dataset2 = pd.DataFrame(dataset_emotion['train'])\n",
    "\n",
    "# Removing class 2 (love)\n",
    "label_to_remove = 2\n",
    "dataset2 = dataset2[dataset2['label'] != label_to_remove]\n",
    "dataset2 = dataset2.reindex([\"label\", \"text\"], axis=1)\n",
    "\n",
    "# Print the shape and head of the DataFrame\n",
    "print(dataset2.shape)\n",
    "print(dataset2.head())\n",
    "print(dataset2['label'].value_counts())\n",
    "\n",
    "\n"
   ]
  },
  {
   "cell_type": "markdown",
   "metadata": {},
   "source": [
    "### Dataset 2 - empathetic_dialogues"
   ]
  },
  {
   "cell_type": "code",
   "execution_count": 45,
   "metadata": {},
   "outputs": [],
   "source": [
    "dataset_empathetic_dialogues = load_dataset(\"empathetic_dialogues\")\n",
    "\n",
    "# Convert the dataset to a Pandas DataFrame\n",
    "df_train_empathetic = pd.DataFrame(dataset_empathetic_dialogues['train'])\n"
   ]
  },
  {
   "cell_type": "code",
   "execution_count": 46,
   "metadata": {},
   "outputs": [
    {
     "name": "stdout",
     "output_type": "stream",
     "text": [
      "Total 32\n",
      "['sentimental' 'afraid' 'proud' 'faithful' 'terrified' 'joyful' 'angry'\n",
      " 'sad' 'jealous' 'grateful' 'prepared' 'embarrassed' 'excited' 'annoyed'\n",
      " 'lonely' 'ashamed' 'guilty' 'surprised' 'nostalgic' 'confident' 'furious'\n",
      " 'disappointed' 'caring' 'trusting' 'disgusted' 'anticipating' 'anxious'\n",
      " 'hopeful' 'content' 'impressed' 'apprehensive' 'devastated']\n"
     ]
    }
   ],
   "source": [
    "unique_values = df_train_empathetic['context'].unique()\n",
    "print(\"Total\",unique_values.size)\n",
    "print(unique_values)"
   ]
  },
  {
   "cell_type": "code",
   "execution_count": 47,
   "metadata": {},
   "outputs": [
    {
     "name": "stdout",
     "output_type": "stream",
     "text": [
      "(4347, 2)\n",
      "        label                                               text\n",
      "6      afraid                       i used to scare for darkness\n",
      "21  terrified  A recent job interview that I had made me feel...\n",
      "26     joyful  I am very happy to have been first over 300 st...\n",
      "30      angry                    I once lost my job and got mad.\n",
      "34        sad  One year during christmas_comma_ i did not get...\n"
     ]
    }
   ],
   "source": [
    "\n",
    "# Print the shape and head of the DataFrame\n",
    "# print(df_train_empathetic.shape)\n",
    "# print(df_train_empathetic.head())\n",
    "\n",
    "# Print the shape and head of the DataFrame\n",
    "df_context_prompt = df_train_empathetic[['context', 'prompt']]\n",
    "df_unique_prompt = df_context_prompt.drop_duplicates(subset=['prompt'])\n",
    "\n",
    "# print(df_unique_prompt.shape)\n",
    "# print(df_unique_prompt.head())\n",
    "\n",
    "target_emotions = ['joyful', 'surprised', 'angry', 'sad', 'terrified', 'afraid', 'content']\n",
    "\n",
    "# Filter the DataFrame based on the specified emotions\n",
    "dataset1 = df_unique_prompt[df_unique_prompt['context'].str.contains('|'.join(target_emotions), case=False)]\n",
    "dataset1 = dataset1.rename(columns={'context': 'label', 'prompt': 'text'})\n",
    "\n",
    "print(dataset1.shape)\n",
    "print(dataset1.head())"
   ]
  },
  {
   "cell_type": "code",
   "execution_count": 48,
   "metadata": {},
   "outputs": [
    {
     "name": "stdout",
     "output_type": "stream",
     "text": [
      "(4347, 2)\n",
      "    label                                               text\n",
      "6       4                       i used to scare for darkness\n",
      "21      4  A recent job interview that I had made me feel...\n",
      "26      1  I am very happy to have been first over 300 st...\n",
      "30      3                    I once lost my job and got mad.\n",
      "34      0  One year during christmas_comma_ i did not get...\n",
      "label\n",
      "4    1141\n",
      "5     918\n",
      "3     621\n",
      "0     602\n",
      "1     552\n",
      "6     513\n",
      "Name: count, dtype: int64\n"
     ]
    }
   ],
   "source": [
    "# Mapping emotions to respective classes\n",
    "mapping_emotions = {\n",
    "    'sad': 0,\n",
    "    'joyful': 1,\n",
    "    'angry': 3,\n",
    "    'terrified' : 4,\n",
    "    'afraid' : 4,\n",
    "    'surprised': 5,\n",
    "    'content' : 6\n",
    "}\n",
    "\n",
    "dataset1['label'] = dataset1['label'].map(mapping_emotions)\n",
    "print(dataset1.shape)\n",
    "print(dataset1.head())\n",
    "print(dataset1['label'].value_counts())\n"
   ]
  },
  {
   "cell_type": "markdown",
   "metadata": {},
   "source": [
    "### Dataset 3 - https://github.com/SannketNikam/Emotion-Detection-in-Text  (not used)"
   ]
  },
  {
   "cell_type": "code",
   "execution_count": 49,
   "metadata": {},
   "outputs": [],
   "source": [
    "csv_path = 'data/emotion_dataset.csv'\n",
    "df_emotion_original = pd.read_csv(csv_path)"
   ]
  },
  {
   "cell_type": "code",
   "execution_count": 50,
   "metadata": {},
   "outputs": [
    {
     "name": "stdout",
     "output_type": "stream",
     "text": [
      "Total 8\n",
      "['joy' 'sadness' 'fear' 'surprise' 'anger' 'shame' 'neutral' 'disgust']\n",
      "Emotion\n",
      "joy         11037\n",
      "sadness      6719\n",
      "fear         5409\n",
      "anger        4286\n",
      "surprise     4062\n",
      "neutral      1811\n",
      "disgust       856\n",
      "shame         146\n",
      "Name: count, dtype: int64\n"
     ]
    },
    {
     "data": {
      "text/html": [
       "<div>\n",
       "<style scoped>\n",
       "    .dataframe tbody tr th:only-of-type {\n",
       "        vertical-align: middle;\n",
       "    }\n",
       "\n",
       "    .dataframe tbody tr th {\n",
       "        vertical-align: top;\n",
       "    }\n",
       "\n",
       "    .dataframe thead th {\n",
       "        text-align: right;\n",
       "    }\n",
       "</style>\n",
       "<table border=\"1\" class=\"dataframe\">\n",
       "  <thead>\n",
       "    <tr style=\"text-align: right;\">\n",
       "      <th></th>\n",
       "      <th>Emotion</th>\n",
       "      <th>Clean_Text</th>\n",
       "    </tr>\n",
       "  </thead>\n",
       "  <tbody>\n",
       "    <tr>\n",
       "      <th>1</th>\n",
       "      <td>joy</td>\n",
       "      <td>Sage Act upgrade list tommorow</td>\n",
       "    </tr>\n",
       "    <tr>\n",
       "      <th>2</th>\n",
       "      <td>sadness</td>\n",
       "      <td>WAY HOMEGIRL BABY FUNERAL MAN HATE FUNERALS SH...</td>\n",
       "    </tr>\n",
       "    <tr>\n",
       "      <th>3</th>\n",
       "      <td>joy</td>\n",
       "      <td>eye  true hazel eyeand brilliant  Regular feat...</td>\n",
       "    </tr>\n",
       "    <tr>\n",
       "      <th>4</th>\n",
       "      <td>joy</td>\n",
       "      <td>ugh babe hugggzzz u  babe naamazed nga ako e...</td>\n",
       "    </tr>\n",
       "    <tr>\n",
       "      <th>5</th>\n",
       "      <td>fear</td>\n",
       "      <td>Im expecting extremely important phonecall min...</td>\n",
       "    </tr>\n",
       "  </tbody>\n",
       "</table>\n",
       "</div>"
      ],
      "text/plain": [
       "   Emotion                                         Clean_Text\n",
       "1      joy                     Sage Act upgrade list tommorow\n",
       "2  sadness  WAY HOMEGIRL BABY FUNERAL MAN HATE FUNERALS SH...\n",
       "3      joy  eye  true hazel eyeand brilliant  Regular feat...\n",
       "4      joy    ugh babe hugggzzz u  babe naamazed nga ako e...\n",
       "5     fear  Im expecting extremely important phonecall min..."
      ]
     },
     "execution_count": 50,
     "metadata": {},
     "output_type": "execute_result"
    }
   ],
   "source": [
    "dataset3 = df_emotion_original.copy()\n",
    "\n",
    "dataset3.drop(columns=['Unnamed: 0'], inplace=True)\n",
    "dataset3.drop(columns=['Text'], inplace=True)\n",
    "dataset3.dropna(inplace=True)\n",
    "\n",
    "unique_values = dataset3['Emotion'].unique()\n",
    "print(\"Total\",unique_values.size)\n",
    "print(unique_values)\n",
    "\n",
    "x=dataset3['Emotion'].value_counts()\n",
    "print(x)\n",
    "\n",
    "dataset3.head()"
   ]
  },
  {
   "cell_type": "code",
   "execution_count": 51,
   "metadata": {},
   "outputs": [
    {
     "name": "stdout",
     "output_type": "stream",
     "text": [
      "(34326, 2)\n",
      "Emotion\n",
      "1.0    11037\n",
      "0.0     6719\n",
      "4.0     5409\n",
      "3.0     4286\n",
      "5.0     4062\n",
      "6.0     1811\n",
      "Name: count, dtype: int64\n"
     ]
    }
   ],
   "source": [
    "# Mapping emotions to respective classes\n",
    "mapping_emotions = {\n",
    "    'sadness': 0,\n",
    "    'joy': 1,\n",
    "    'anger': 3,\n",
    "    'fear' : 4,\n",
    "    'surprise': 5,\n",
    "    'neutral' : 6\n",
    "}\n",
    "\n",
    "dataset3['Emotion'] = dataset3['Emotion'].map(mapping_emotions)\n",
    "print(dataset3.shape)\n",
    "print(dataset3['Emotion'].value_counts())"
   ]
  },
  {
   "cell_type": "code",
   "execution_count": 52,
   "metadata": {},
   "outputs": [
    {
     "name": "stdout",
     "output_type": "stream",
     "text": [
      "       label                                               text\n",
      "1        1.0                     Sage Act upgrade list tommorow\n",
      "2        0.0  WAY HOMEGIRL BABY FUNERAL MAN HATE FUNERALS SH...\n",
      "3        1.0  eye  true hazel eyeand brilliant  Regular feat...\n",
      "4        1.0    ugh babe hugggzzz u  babe naamazed nga ako e...\n",
      "5        4.0  Im expecting extremely important phonecall min...\n",
      "...      ...                                                ...\n",
      "34787    5.0         gift Hope like it hand wear  Itll warm Lol\n",
      "34788    1.0         world didnt meso world DEFINITELY cnt away\n",
      "34789    3.0                                  man robbed today \n",
      "34790    4.0                          Youu JEALOUSY #Losing YOU\n",
      "34791    0.0                              think baby dream time\n",
      "\n",
      "[34326 rows x 2 columns]\n"
     ]
    }
   ],
   "source": [
    "dataset3 = dataset3.rename(columns={'Emotion': 'label', 'Clean_Text': 'text'})\n",
    "print(dataset3)"
   ]
  },
  {
   "cell_type": "markdown",
   "metadata": {},
   "source": [
    "### Dataset 4 - https://doraemon.iis.sinica.edu.tw/emotionlines/index.html"
   ]
  },
  {
   "cell_type": "code",
   "execution_count": 53,
   "metadata": {},
   "outputs": [
    {
     "data": {
      "text/html": [
       "<div>\n",
       "<style scoped>\n",
       "    .dataframe tbody tr th:only-of-type {\n",
       "        vertical-align: middle;\n",
       "    }\n",
       "\n",
       "    .dataframe tbody tr th {\n",
       "        vertical-align: top;\n",
       "    }\n",
       "\n",
       "    .dataframe thead th {\n",
       "        text-align: right;\n",
       "    }\n",
       "</style>\n",
       "<table border=\"1\" class=\"dataframe\">\n",
       "  <thead>\n",
       "    <tr style=\"text-align: right;\">\n",
       "      <th></th>\n",
       "      <th>speaker</th>\n",
       "      <th>utterance</th>\n",
       "      <th>emotion</th>\n",
       "      <th>annotation</th>\n",
       "    </tr>\n",
       "  </thead>\n",
       "  <tbody>\n",
       "    <tr>\n",
       "      <th>0</th>\n",
       "      <td>Chandler</td>\n",
       "      <td>also I was the point person on my companys tr...</td>\n",
       "      <td>neutral</td>\n",
       "      <td>4100000</td>\n",
       "    </tr>\n",
       "    <tr>\n",
       "      <th>1</th>\n",
       "      <td>The Interviewer</td>\n",
       "      <td>You mustve had your hands full.</td>\n",
       "      <td>neutral</td>\n",
       "      <td>5000000</td>\n",
       "    </tr>\n",
       "    <tr>\n",
       "      <th>2</th>\n",
       "      <td>Chandler</td>\n",
       "      <td>That I did. That I did.</td>\n",
       "      <td>neutral</td>\n",
       "      <td>5000000</td>\n",
       "    </tr>\n",
       "    <tr>\n",
       "      <th>3</th>\n",
       "      <td>The Interviewer</td>\n",
       "      <td>So lets talk a little bit about your duties.</td>\n",
       "      <td>neutral</td>\n",
       "      <td>5000000</td>\n",
       "    </tr>\n",
       "    <tr>\n",
       "      <th>4</th>\n",
       "      <td>Chandler</td>\n",
       "      <td>My duties?  All right.</td>\n",
       "      <td>surprise</td>\n",
       "      <td>2000030</td>\n",
       "    </tr>\n",
       "  </tbody>\n",
       "</table>\n",
       "</div>"
      ],
      "text/plain": [
       "           speaker                                          utterance  \\\n",
       "0         Chandler  also I was the point person on my companys tr...   \n",
       "1  The Interviewer                   You mustve had your hands full.   \n",
       "2         Chandler                            That I did. That I did.   \n",
       "3  The Interviewer      So lets talk a little bit about your duties.   \n",
       "4         Chandler                             My duties?  All right.   \n",
       "\n",
       "    emotion annotation  \n",
       "0   neutral    4100000  \n",
       "1   neutral    5000000  \n",
       "2   neutral    5000000  \n",
       "3   neutral    5000000  \n",
       "4  surprise    2000030  "
      ]
     },
     "execution_count": 53,
     "metadata": {},
     "output_type": "execute_result"
    }
   ],
   "source": [
    "# Assuming json_data is your JSON object\n",
    "json_data_train = json.load(open('data/friends_train.json'))\n",
    "json_data_test = json.load(open('data/friends_test.json'))\n",
    "json_data_dev = json.load(open('data/friends_dev.json'))\n",
    "\n",
    "# Flatten the data\n",
    "flattened_data_train = [item for sublist in json_data_train for item in sublist]\n",
    "flattened_data_test = [item for sublist in json_data_test for item in sublist]\n",
    "flattened_data_dev = [item for sublist in json_data_dev for item in sublist]\n",
    "\n",
    "# Convert to DataFrame\n",
    "dataset4_train = pd.json_normalize(flattened_data_train)\n",
    "dataset4_test = pd.json_normalize(flattened_data_test)\n",
    "dataset4_dev = pd.json_normalize(flattened_data_dev)\n",
    "\n",
    "# Convert to CSV\n",
    "dataset4_train.to_csv('data/friends_train.csv', index=False)\n",
    "dataset4_test.to_csv('data/friends_test.csv', index=False)\n",
    "dataset4_dev.to_csv('data/friends_dev.csv', index=False)\n",
    "\n",
    "dataset4_train.head()"
   ]
  },
  {
   "cell_type": "code",
   "execution_count": 54,
   "metadata": {},
   "outputs": [
    {
     "data": {
      "text/html": [
       "<div>\n",
       "<style scoped>\n",
       "    .dataframe tbody tr th:only-of-type {\n",
       "        vertical-align: middle;\n",
       "    }\n",
       "\n",
       "    .dataframe tbody tr th {\n",
       "        vertical-align: top;\n",
       "    }\n",
       "\n",
       "    .dataframe thead th {\n",
       "        text-align: right;\n",
       "    }\n",
       "</style>\n",
       "<table border=\"1\" class=\"dataframe\">\n",
       "  <thead>\n",
       "    <tr style=\"text-align: right;\">\n",
       "      <th></th>\n",
       "      <th>text</th>\n",
       "      <th>label</th>\n",
       "    </tr>\n",
       "  </thead>\n",
       "  <tbody>\n",
       "    <tr>\n",
       "      <th>0</th>\n",
       "      <td>also I was the point person on my companys tr...</td>\n",
       "      <td>neutral</td>\n",
       "    </tr>\n",
       "    <tr>\n",
       "      <th>1</th>\n",
       "      <td>You mustve had your hands full.</td>\n",
       "      <td>neutral</td>\n",
       "    </tr>\n",
       "    <tr>\n",
       "      <th>2</th>\n",
       "      <td>That I did. That I did.</td>\n",
       "      <td>neutral</td>\n",
       "    </tr>\n",
       "    <tr>\n",
       "      <th>3</th>\n",
       "      <td>So lets talk a little bit about your duties.</td>\n",
       "      <td>neutral</td>\n",
       "    </tr>\n",
       "    <tr>\n",
       "      <th>4</th>\n",
       "      <td>My duties?  All right.</td>\n",
       "      <td>surprise</td>\n",
       "    </tr>\n",
       "  </tbody>\n",
       "</table>\n",
       "</div>"
      ],
      "text/plain": [
       "                                                text     label\n",
       "0  also I was the point person on my companys tr...   neutral\n",
       "1                   You mustve had your hands full.   neutral\n",
       "2                            That I did. That I did.   neutral\n",
       "3      So lets talk a little bit about your duties.   neutral\n",
       "4                             My duties?  All right.  surprise"
      ]
     },
     "execution_count": 54,
     "metadata": {},
     "output_type": "execute_result"
    }
   ],
   "source": [
    "dataset4_train.drop(columns=['speaker','annotation'], inplace=True)\n",
    "dataset4_train.dropna(inplace=True)\n",
    "\n",
    "dataset4_train = dataset4_train.rename(columns={'emotion': 'label', 'utterance': 'text'})\n",
    "\n",
    "dataset4_train.head()"
   ]
  },
  {
   "cell_type": "code",
   "execution_count": 55,
   "metadata": {},
   "outputs": [
    {
     "name": "stdout",
     "output_type": "stream",
     "text": [
      "label\n",
      "neutral        4752\n",
      "non-neutral    2017\n",
      "joy            1283\n",
      "surprise       1220\n",
      "anger           513\n",
      "sadness         351\n",
      "disgust         240\n",
      "fear            185\n",
      "Name: count, dtype: int64\n"
     ]
    },
    {
     "data": {
      "text/plain": [
       "<Axes: xlabel='label', ylabel='count'>"
      ]
     },
     "execution_count": 55,
     "metadata": {},
     "output_type": "execute_result"
    },
    {
     "data": {
      "image/png": "[encoded data removed]",
      "text/plain": [
       "<Figure size 640x480 with 1 Axes>"
      ]
     },
     "metadata": {},
     "output_type": "display_data"
    }
   ],
   "source": [
    "x=dataset4_train['label'].value_counts()\n",
    "print(x)\n",
    "sns.barplot(x=x.index, y=x, alpha=0.8)"
   ]
  },
  {
   "cell_type": "code",
   "execution_count": 56,
   "metadata": {},
   "outputs": [
    {
     "name": "stdout",
     "output_type": "stream",
     "text": [
      "(10561, 2)\n",
      "label\n",
      "6.0    4752\n",
      "1.0    1283\n",
      "5.0    1220\n",
      "3.0     513\n",
      "0.0     351\n",
      "4.0     185\n",
      "Name: count, dtype: int64\n"
     ]
    }
   ],
   "source": [
    "# Mapping emotions to respective classes\n",
    "mapping_emotions = {\n",
    "    'sadness': 0,\n",
    "    'joy': 1,\n",
    "    'anger': 3,\n",
    "    'fear' : 4,\n",
    "    'surprise': 5,\n",
    "    'neutral' : 6\n",
    "}\n",
    "\n",
    "dataset4_train['label'] = dataset4_train['label'].map(mapping_emotions)\n",
    "print(dataset4_train.shape)\n",
    "print(dataset4_train['label'].value_counts())\n"
   ]
  },
  {
   "cell_type": "markdown",
   "metadata": {},
   "source": [
    "## EDA\n",
    "Now lets concat all three datasets"
   ]
  },
  {
   "cell_type": "code",
   "execution_count": 57,
   "metadata": {},
   "outputs": [
    {
     "name": "stdout",
     "output_type": "stream",
     "text": [
      "label\n",
      "joyful       7197\n",
      "sad          5619\n",
      "neutral      5265\n",
      "angry        3293\n",
      "fearful      3263\n",
      "surprised    2710\n",
      "Name: count, dtype: int64\n"
     ]
    },
    {
     "data": {
      "text/plain": [
       "<Axes: xlabel='label', ylabel='count'>"
      ]
     },
     "execution_count": 57,
     "metadata": {},
     "output_type": "execute_result"
    },
    {
     "data": {
      "image/png": "[encoded data removed]",
      "text/plain": [
       "<Figure size 640x480 with 1 Axes>"
      ]
     },
     "metadata": {},
     "output_type": "display_data"
    }
   ],
   "source": [
    "# Final emotions to use:\n",
    "# 'sad': 0,\n",
    "# 'joyful': 1,\n",
    "# 'angry': 3,\n",
    "# 'fearful' : 4,\n",
    "# 'surprised': 5,\n",
    "# 'neutral' : 6\n",
    "df_train = pd.concat([dataset1, dataset2, dataset4_train], axis=0)\n",
    "\n",
    "#Missing values\n",
    "df_train.isna().sum()\n",
    "df_train.dropna(inplace=True)\n",
    "\n",
    "\n",
    "df_train_mapped = df_train.copy()\n",
    "mapping_emotions = {\n",
    "    0:'sad',\n",
    "    1:'joyful',\n",
    "    3:'angry',\n",
    "    4:'fearful',\n",
    "    5:'surprised',\n",
    "    6:'neutral'\n",
    "}\n",
    "\n",
    "df_train_mapped['label'] = df_train_mapped['label'].map(mapping_emotions)\n",
    "x=df_train_mapped['label'].value_counts()\n",
    "print(x)\n",
    "sns.barplot(x=x.index, y=x, alpha=0.8)"
   ]
  },
  {
   "cell_type": "code",
   "execution_count": 58,
   "metadata": {},
   "outputs": [
    {
     "data": {
      "text/html": [
       "<div>\n",
       "<style scoped>\n",
       "    .dataframe tbody tr th:only-of-type {\n",
       "        vertical-align: middle;\n",
       "    }\n",
       "\n",
       "    .dataframe tbody tr th {\n",
       "        vertical-align: top;\n",
       "    }\n",
       "\n",
       "    .dataframe thead th {\n",
       "        text-align: right;\n",
       "    }\n",
       "</style>\n",
       "<table border=\"1\" class=\"dataframe\">\n",
       "  <thead>\n",
       "    <tr style=\"text-align: right;\">\n",
       "      <th></th>\n",
       "      <th>label</th>\n",
       "      <th>text</th>\n",
       "    </tr>\n",
       "  </thead>\n",
       "  <tbody>\n",
       "    <tr>\n",
       "      <th>6</th>\n",
       "      <td>4.0</td>\n",
       "      <td>i used to scare for darkness</td>\n",
       "    </tr>\n",
       "    <tr>\n",
       "      <th>21</th>\n",
       "      <td>4.0</td>\n",
       "      <td>A recent job interview that I had made me feel...</td>\n",
       "    </tr>\n",
       "    <tr>\n",
       "      <th>26</th>\n",
       "      <td>1.0</td>\n",
       "      <td>I am very happy to have been first over 300 st...</td>\n",
       "    </tr>\n",
       "    <tr>\n",
       "      <th>30</th>\n",
       "      <td>3.0</td>\n",
       "      <td>I once lost my job and got mad.</td>\n",
       "    </tr>\n",
       "    <tr>\n",
       "      <th>34</th>\n",
       "      <td>0.0</td>\n",
       "      <td>One year during christmas_comma_ i did not get...</td>\n",
       "    </tr>\n",
       "  </tbody>\n",
       "</table>\n",
       "</div>"
      ],
      "text/plain": [
       "    label                                               text\n",
       "6     4.0                       i used to scare for darkness\n",
       "21    4.0  A recent job interview that I had made me feel...\n",
       "26    1.0  I am very happy to have been first over 300 st...\n",
       "30    3.0                    I once lost my job and got mad.\n",
       "34    0.0  One year during christmas_comma_ i did not get..."
      ]
     },
     "execution_count": 58,
     "metadata": {},
     "output_type": "execute_result"
    }
   ],
   "source": [
    "df_train.head()"
   ]
  },
  {
   "cell_type": "markdown",
   "metadata": {},
   "source": [
    "## Balace Dataset\n",
    "\n",
    "We decided to keep only 2700 lines for each label."
   ]
  },
  {
   "cell_type": "code",
   "execution_count": 59,
   "metadata": {},
   "outputs": [
    {
     "data": {
      "text/html": [
       "<div>\n",
       "<style scoped>\n",
       "    .dataframe tbody tr th:only-of-type {\n",
       "        vertical-align: middle;\n",
       "    }\n",
       "\n",
       "    .dataframe tbody tr th {\n",
       "        vertical-align: top;\n",
       "    }\n",
       "\n",
       "    .dataframe thead th {\n",
       "        text-align: right;\n",
       "    }\n",
       "</style>\n",
       "<table border=\"1\" class=\"dataframe\">\n",
       "  <thead>\n",
       "    <tr style=\"text-align: right;\">\n",
       "      <th></th>\n",
       "      <th>label</th>\n",
       "      <th>text</th>\n",
       "    </tr>\n",
       "  </thead>\n",
       "  <tbody>\n",
       "    <tr>\n",
       "      <th>12169</th>\n",
       "      <td>0.0</td>\n",
       "      <td>i feel like ive been defeated</td>\n",
       "    </tr>\n",
       "    <tr>\n",
       "      <th>8601</th>\n",
       "      <td>0.0</td>\n",
       "      <td>i feel a little pained but that will probably ...</td>\n",
       "    </tr>\n",
       "    <tr>\n",
       "      <th>7717</th>\n",
       "      <td>0.0</td>\n",
       "      <td>My dog is missing. We have been looking for he...</td>\n",
       "    </tr>\n",
       "    <tr>\n",
       "      <th>4709</th>\n",
       "      <td>0.0</td>\n",
       "      <td>ive never thought i would feel so guilty for t...</td>\n",
       "    </tr>\n",
       "    <tr>\n",
       "      <th>5007</th>\n",
       "      <td>0.0</td>\n",
       "      <td>Without, without these arms, and your face, an...</td>\n",
       "    </tr>\n",
       "  </tbody>\n",
       "</table>\n",
       "</div>"
      ],
      "text/plain": [
       "       label                                               text\n",
       "12169    0.0                      i feel like ive been defeated\n",
       "8601     0.0  i feel a little pained but that will probably ...\n",
       "7717     0.0  My dog is missing. We have been looking for he...\n",
       "4709     0.0  ive never thought i would feel so guilty for t...\n",
       "5007     0.0  Without, without these arms, and your face, an..."
      ]
     },
     "execution_count": 59,
     "metadata": {},
     "output_type": "execute_result"
    }
   ],
   "source": [
    "# Group DataFrame by 'label'\n",
    "grouped = df_train.groupby('label')\n",
    "\n",
    "# Initialize an empty list to store filtered DataFrames\n",
    "dfs = []\n",
    "\n",
    "# Iterate over each group\n",
    "for label, group in grouped:\n",
    "    # Check if there are more than 2700 rows for the label\n",
    "    if len(group) > 2700:\n",
    "        # Randomly select 2700 rows\n",
    "        sample = group.sample(n=2700, random_state=42)  # Adjust random_state as needed for reproducibility\n",
    "        dfs.append(sample)\n",
    "    else:\n",
    "        # If there are fewer than 2700 rows, keep all rows\n",
    "        dfs.append(group)\n",
    "\n",
    "# Concatenate the filtered DataFrames back into a single DataFrame\n",
    "balanced_df = pd.concat(dfs)\n",
    "\n",
    "# Now, balanced_df contains 2700 rows for each label (if available) with rows randomly selected\n",
    "balanced_df['label'].value_counts()\n",
    "balanced_df.head()"
   ]
  },
  {
   "cell_type": "code",
   "execution_count": 60,
   "metadata": {},
   "outputs": [
    {
     "name": "stdout",
     "output_type": "stream",
     "text": [
      "label\n",
      "sad          2700\n",
      "joyful       2700\n",
      "angry        2700\n",
      "fearful      2700\n",
      "surprised    2700\n",
      "neutral      2700\n",
      "Name: count, dtype: int64\n"
     ]
    },
    {
     "data": {
      "text/plain": [
       "<Axes: xlabel='label', ylabel='count'>"
      ]
     },
     "execution_count": 60,
     "metadata": {},
     "output_type": "execute_result"
    },
    {
     "data": {
      "image/png": "[encoded data removed]",
      "text/plain": [
       "<Figure size 640x480 with 1 Axes>"
      ]
     },
     "metadata": {},
     "output_type": "display_data"
    }
   ],
   "source": [
    "balanced_df_mapped = balanced_df.copy()\n",
    "balanced_df_mapped['label'] = balanced_df_mapped['label'].map(mapping_emotions)\n",
    "x=balanced_df_mapped['label'].value_counts()\n",
    "print(x)\n",
    "sns.barplot(x=x.index, y=x, alpha=0.8)"
   ]
  },
  {
   "cell_type": "code",
   "execution_count": 61,
   "metadata": {},
   "outputs": [
    {
     "name": "stdout",
     "output_type": "stream",
     "text": [
      "WORD-COUNT\n",
      "17.563445452927567\n",
      "17.01208837015423\n",
      "17.30519283328272\n",
      "18.020226785167026\n",
      "13.011070110701107\n",
      "8.48281101614435\n",
      "\n",
      "CHARACTER-COUNT\n",
      "88.28812956042\n",
      "85.94330971238016\n",
      "86.9095050106286\n",
      "91.05822862396568\n",
      "65.82730627306273\n",
      "43.00835707502374\n",
      "\n",
      "UNIQUE WORD-COUNTT\n",
      "15.645844456308952\n",
      "15.202028623037377\n",
      "15.433647130276343\n",
      "16.077229543365\n",
      "11.878228782287822\n",
      "8.061918328584996\n"
     ]
    }
   ],
   "source": [
    "# 'sad': 0,\n",
    "# 'joyful': 1,\n",
    "# 'angry': 3,\n",
    "# 'fearful' : 4,\n",
    "# 'surprised': 5,\n",
    "# 'neutral' : 6\n",
    "\n",
    "#1. WORD-COUNT\n",
    "print(\"WORD-COUNT\")\n",
    "df_train['word_count'] = df_train['text'].apply(lambda x: len(str(x).split()))\n",
    "print(df_train[df_train['label']==0]['word_count'].mean()) #sadness\n",
    "print(df_train[df_train['label']==1]['word_count'].mean()) #joy\n",
    "print(df_train[df_train['label']==3]['word_count'].mean()) #angry\n",
    "print(df_train[df_train['label']==4]['word_count'].mean()) #fearful\n",
    "print(df_train[df_train['label']==5]['word_count'].mean()) #surprised\n",
    "print(df_train[df_train['label']==6]['word_count'].mean()) #neutral\n",
    "\n",
    "print(\"\\nCHARACTER-COUNT\")\n",
    "#2. CHARACTER-COUNT\n",
    "df_train['char_count'] = df_train['text'].apply(lambda x: len(str(x)))\n",
    "print(df_train[df_train['label']==0]['char_count'].mean())\n",
    "print(df_train[df_train['label']==1]['char_count'].mean())\n",
    "print(df_train[df_train['label']==3]['char_count'].mean())\n",
    "print(df_train[df_train['label']==4]['char_count'].mean())\n",
    "print(df_train[df_train['label']==5]['char_count'].mean())\n",
    "print(df_train[df_train['label']==6]['char_count'].mean())\n",
    "\n",
    "print(\"\\nUNIQUE WORD-COUNTT\")\n",
    "#3. UNIQUE WORD-COUNT\n",
    "df_train['unique_word_count'] = df_train['text'].apply(lambda x: len(set(str(x).split())))\n",
    "print(df_train[df_train['label']==0]['unique_word_count'].mean())\n",
    "print(df_train[df_train['label']==1]['unique_word_count'].mean())\n",
    "print(df_train[df_train['label']==3]['unique_word_count'].mean())\n",
    "print(df_train[df_train['label']==4]['unique_word_count'].mean())\n",
    "print(df_train[df_train['label']==5]['unique_word_count'].mean())\n",
    "print(df_train[df_train['label']==6]['unique_word_count'].mean())\n"
   ]
  },
  {
   "cell_type": "code",
   "execution_count": 62,
   "metadata": {},
   "outputs": [],
   "source": [
    "df_train=df_train.drop(columns=['word_count','char_count','unique_word_count'])"
   ]
  },
  {
   "cell_type": "code",
   "execution_count": 63,
   "metadata": {},
   "outputs": [],
   "source": [
    "\n",
    "# # Define a mapping from numeric labels to emotion names\n",
    "# label_mapping = {\n",
    "#     0:'sad',\n",
    "#     1:'joyful',\n",
    "#     3:'angry',\n",
    "#     4:'fearful',\n",
    "#     5:'surprised',\n",
    "#     6:'disgusted',\n",
    "#     7:'neutral'\n",
    "# }\n",
    "\n",
    "# # Define a color palette for the emotions\n",
    "# colors = sns.color_palette(\"husl\", len(label_mapping))\n",
    "\n",
    "# # Calculate the number of rows needed for the subplots\n",
    "# num_rows = -(-len(label_mapping) // 3)  # This is equivalent to math.ceil(len(label_mapping) / 3)\n",
    "\n",
    "# # Plotting word-count per text for each label\n",
    "# fig, axes = plt.subplots(num_rows, 3, figsize=(15, 8))\n",
    "\n",
    "# for idx, (label_num, label_name) in enumerate(label_mapping.items()):\n",
    "#     row = idx // 3\n",
    "#     col = idx % 3\n",
    "#     ax = axes[row, col]\n",
    "#     train_words = df_train[df_train['label'] == label_num]['word_count']\n",
    "#     ax.hist(train_words, color=colors[label_num])\n",
    "#     ax.set_title(label_name.capitalize())\n",
    "\n",
    "# fig.suptitle('Words per text for different emotions')\n",
    "# plt.tight_layout()\n",
    "# plt.show()"
   ]
  },
  {
   "cell_type": "markdown",
   "metadata": {},
   "source": [
    "## PRE-PROCESSING"
   ]
  },
  {
   "cell_type": "code",
   "execution_count": 64,
   "metadata": {},
   "outputs": [
    {
     "name": "stdout",
     "output_type": "stream",
     "text": [
      "this is a message to be cleaned it may involve some things like adjacent spaces and tabs and comma\n"
     ]
    }
   ],
   "source": [
    "#1. Common text preprocessing\n",
    "text = \"   This is a message to be cleaned. It may involve some things like: <br>, ?, :, ''  adjacent SPACES and tabs    and  . \\ comma_comma_\"\n",
    "\n",
    "#convert to lowercase and remove punctuations and characters and then strip\n",
    "def preprocess(text):\n",
    "    text = text.lower() #lowercase text\n",
    "    text=text.strip()  #get rid of leading/trailing whitespace \n",
    "    text = re.sub('_comma_','', text) #remove '_comma_' from the text\n",
    "    text = re.compile('<.*?>').sub('', text) #Remove HTML tags/markups\n",
    "    text = re.compile('[%s]' % re.escape(string.punctuation)).sub(' ', text)  #Replace punctuation with space. Careful since punctuation can sometime be useful\n",
    "    text = re.sub('\\s+', ' ', text)  #Remove extra space and tabs\n",
    "    text = re.sub(r'\\[[0-9]*\\]',' ',text) #[0-9] matches any digit (0 to 10000...)\n",
    "    text = re.sub(r'[^\\w\\s]', '', str(text).lower().strip())\n",
    "    text = re.sub(r'\\d',' ',text) #matches any digit from 0 to 100000..., \\D matches non-digits\n",
    "    text = re.sub(r'\\s+',' ',text) #\\s matches any whitespace, \\s+ matches multiple whitespace, \\S matches non-whitespace \n",
    "    return text\n",
    "\n",
    "text=preprocess(text)\n",
    "print(text)  #text is a string"
   ]
  },
  {
   "cell_type": "code",
   "execution_count": 65,
   "metadata": {},
   "outputs": [
    {
     "name": "stdout",
     "output_type": "stream",
     "text": [
      "Processing text for label: sad\n",
      "Processed text for sad : sampl text . includ stopword , plural , differ verb form like run , ran , run .\n",
      "\n",
      "Processing text for label: joyful\n",
      "Processed text for joyful : sampl text . includ stopword , plural , differ verb form like run , ran , run .\n",
      "\n",
      "Processing text for label: angry\n",
      "Processed text for angry : sampl text . includ stopword , plural , differ verb form like run , ran , run .\n",
      "\n",
      "Processing text for label: fearful\n",
      "Processed text for fearful : sampl text . includ stopword , plural , differ verb form like run , ran , run .\n",
      "\n",
      "Processing text for label: surprised\n",
      "Processed text for surprised : sampl text . includ stopword , plural , differ verb form like run , ran , run .\n",
      "\n",
      "Processing text for label: neutral\n",
      "Processed text for neutral : sampl text . includ stopword , plural , differ verb form like run , ran , run .\n",
      "\n"
     ]
    }
   ],
   "source": [
    "# Sample text\n",
    "text = \"This is a sample text. It includes stopwords, plurals, and different verb forms like running, ran, and runs.\"\n",
    "\n",
    "# 1. STOPWORD REMOVAL\n",
    "def stopword(string):\n",
    "    return ' '.join([i for i in string.split() if i.lower() not in stopwords.words('english')])\n",
    "\n",
    "# 2. STEMMING\n",
    "snow = SnowballStemmer('english')\n",
    "def stemming(string):\n",
    "    return \" \".join([snow.stem(i) for i in word_tokenize(string)])\n",
    "\n",
    "# 3. LEMMATIZATION\n",
    "wl = WordNetLemmatizer()\n",
    "def get_wordnet_pos(tag):\n",
    "    if tag.startswith('J'):\n",
    "        return wordnet.ADJ\n",
    "    elif tag.startswith('V'):\n",
    "        return wordnet.VERB\n",
    "    elif tag.startswith('N'):\n",
    "        return wordnet.NOUN\n",
    "    elif tag.startswith('R'):\n",
    "        return wordnet.ADV\n",
    "    else:\n",
    "        return wordnet.NOUN\n",
    "\n",
    "def lemmatizer(string):\n",
    "    word_pos_tags = nltk.pos_tag(word_tokenize(string))\n",
    "    return \" \".join([wl.lemmatize(tag[0], get_wordnet_pos(tag[1])) for idx, tag in enumerate(word_pos_tags)])\n",
    "\n",
    "# Labels (tags)\n",
    "labels = ['sad','joyful','angry','fearful','surprised','neutral']\n",
    "\n",
    "# Iterate over each label and apply text processing techniques\n",
    "for label in labels:\n",
    "    print(\"Processing text for label:\", label)\n",
    "    text_processed = text.lower()  # Convert text to lowercase\n",
    "    text_processed = stopword(text_processed)\n",
    "    text_processed = stemming(text_processed)\n",
    "    text_processed = lemmatizer(text_processed)\n",
    "    print(\"Processed text for\", label, \":\", text_processed)\n",
    "    print()\n"
   ]
  },
  {
   "cell_type": "code",
   "execution_count": 66,
   "metadata": {},
   "outputs": [
    {
     "data": {
      "text/html": [
       "<div>\n",
       "<style scoped>\n",
       "    .dataframe tbody tr th:only-of-type {\n",
       "        vertical-align: middle;\n",
       "    }\n",
       "\n",
       "    .dataframe tbody tr th {\n",
       "        vertical-align: top;\n",
       "    }\n",
       "\n",
       "    .dataframe thead th {\n",
       "        text-align: right;\n",
       "    }\n",
       "</style>\n",
       "<table border=\"1\" class=\"dataframe\">\n",
       "  <thead>\n",
       "    <tr style=\"text-align: right;\">\n",
       "      <th></th>\n",
       "      <th>label</th>\n",
       "      <th>text</th>\n",
       "      <th>clean_text</th>\n",
       "    </tr>\n",
       "  </thead>\n",
       "  <tbody>\n",
       "    <tr>\n",
       "      <th>12169</th>\n",
       "      <td>0.0</td>\n",
       "      <td>i feel like ive been defeated</td>\n",
       "      <td>feel like ive defeat</td>\n",
       "    </tr>\n",
       "    <tr>\n",
       "      <th>8601</th>\n",
       "      <td>0.0</td>\n",
       "      <td>i feel a little pained but that will probably ...</td>\n",
       "      <td>feel little pained probably pas last illusion ...</td>\n",
       "    </tr>\n",
       "    <tr>\n",
       "      <th>7717</th>\n",
       "      <td>0.0</td>\n",
       "      <td>My dog is missing. We have been looking for he...</td>\n",
       "      <td>dog miss look almost week three year old rescu...</td>\n",
       "    </tr>\n",
       "    <tr>\n",
       "      <th>4709</th>\n",
       "      <td>0.0</td>\n",
       "      <td>ive never thought i would feel so guilty for t...</td>\n",
       "      <td>ive never think would feel guilty try protect ...</td>\n",
       "    </tr>\n",
       "    <tr>\n",
       "      <th>5007</th>\n",
       "      <td>0.0</td>\n",
       "      <td>Without, without these arms, and your face, an...</td>\n",
       "      <td>without without arm face heart</td>\n",
       "    </tr>\n",
       "  </tbody>\n",
       "</table>\n",
       "</div>"
      ],
      "text/plain": [
       "       label                                               text  \\\n",
       "12169    0.0                      i feel like ive been defeated   \n",
       "8601     0.0  i feel a little pained but that will probably ...   \n",
       "7717     0.0  My dog is missing. We have been looking for he...   \n",
       "4709     0.0  ive never thought i would feel so guilty for t...   \n",
       "5007     0.0  Without, without these arms, and your face, an...   \n",
       "\n",
       "                                              clean_text  \n",
       "12169                               feel like ive defeat  \n",
       "8601   feel little pained probably pas last illusion ...  \n",
       "7717   dog miss look almost week three year old rescu...  \n",
       "4709   ive never think would feel guilty try protect ...  \n",
       "5007                      without without arm face heart  "
      ]
     },
     "execution_count": 66,
     "metadata": {},
     "output_type": "execute_result"
    }
   ],
   "source": [
    "#FINAL PREPROCESSING\n",
    "def finalpreprocess(string):\n",
    "    return lemmatizer(stopword(preprocess(string)))\n",
    "\n",
    "balanced_df['clean_text'] = balanced_df['text'].apply(lambda x: finalpreprocess(x))\n",
    "balanced_df.head()"
   ]
  },
  {
   "cell_type": "markdown",
   "metadata": {},
   "source": [
    "### Word2Vec model"
   ]
  },
  {
   "cell_type": "code",
   "execution_count": 67,
   "metadata": {},
   "outputs": [],
   "source": [
    "# Create Word2Vec model\n",
    "# Here words_f should be a list containing words from each document. say 1st row of the list is words from the 1st document/sentence\n",
    "# Length of words_f is the number of documents/sentences in your dataset\n",
    "balanced_df['clean_text_tok'] = [nltk.word_tokenize(i) for i in balanced_df['clean_text']]  # Convert preprocessed sentence to tokenized sentence\n",
    "model = Word2Vec(balanced_df['clean_text_tok'], min_count=1)  # Min_count=1 means word should be present at least across all documents,\n",
    "# If min_count=2 means if the word is present less than 2 times across all the documents then we shouldn't consider it\n",
    "\n",
    "w2v = dict(zip(model.wv.index_to_key, model.wv.vectors))  # Combination of word and its vector\n",
    "\n",
    "# For converting sentence to vectors/numbers from word vectors result by Word2Vec\n",
    "class MeanEmbeddingVectorizer(object):\n",
    "    def __init__(self, word2vec):\n",
    "        self.word2vec = word2vec\n",
    "        # If a text is empty we should return a vector of zeros\n",
    "        # with the same dimensionality as all the other vectors\n",
    "        self.dim = len(next(iter(word2vec.values())))\n",
    "\n",
    "    def fit(self, X, y):\n",
    "        return self\n",
    "\n",
    "    def transform(self, X):\n",
    "        return np.array([\n",
    "            np.mean([self.word2vec[w] for w in words if w in self.word2vec]\n",
    "                    or [np.zeros(self.dim)], axis=0)\n",
    "            for words in X\n",
    "        ])\n",
    "        \n",
    "balanced_df['clean_text_tok'].head()\n",
    "# Converting DataFrame to CSV\n",
    "csv_file_path = 'final_dataset.csv'  \n",
    "balanced_df.to_csv(csv_file_path, index=False)\n"
   ]
  },
  {
   "cell_type": "markdown",
   "metadata": {},
   "source": [
    "### TRAIN TEST SPLITTING OF LABELLED DATASET"
   ]
  },
  {
   "cell_type": "code",
   "execution_count": 68,
   "metadata": {},
   "outputs": [],
   "source": [
    "#SPLITTING THE TRAINING DATASET INTO TRAINING AND TEST\n",
    "import joblib \n",
    "X_train, X_test, y_train, y_test = train_test_split(balanced_df[\"clean_text\"],\n",
    "                                                  balanced_df[\"label\"],\n",
    "                                                  test_size=0.2,\n",
    "                                                  shuffle=True)\n",
    "X_train_tok= [nltk.word_tokenize(i) for i in X_train]  #for word2vec\n",
    "X_test_tok= [nltk.word_tokenize(i) for i in X_test]      #for word2vec\n",
    "\n",
    "#TF-IDF\n",
    "# Convert x_train to vector since model can only run on numbers and not words- Fit and transform\n",
    "tfidf_vectorizer = TfidfVectorizer(use_idf=True)\n",
    "X_train_vectors_tfidf = tfidf_vectorizer.fit_transform(X_train) #tfidf runs on non-tokenized sentences unlike word2vec\n",
    "joblib.dump(tfidf_vectorizer, 'tfidf_vectorizer.pkl')\n",
    "# Only transform x_test (not fit and transform)\n",
    "X_test_vectors_tfidf = tfidf_vectorizer.transform(X_test) #Don't fit() your TfidfVectorizer to your test data: it will \n",
    "#change the word-indexes & weights to match test data. Rather, fit on the training data, then use the same train-data-\n",
    "#fit model on the test data, to reflect the fact you're analyzing the test data only based on what was learned without \n",
    "#it, and the have compatible\n",
    "\n",
    "\n",
    "#Word2vec\n",
    "# Fit and transform\n",
    "modelw2v = MeanEmbeddingVectorizer(w2v)\n",
    "X_train_vectors_w2v = modelw2v.transform(X_train_tok)\n",
    "X_test_vectors_w2v = modelw2v.transform(X_test_tok)"
   ]
  },
  {
   "cell_type": "markdown",
   "metadata": {},
   "source": [
    "### Building AI models (Text-classification) with Multi-Layer Perceptron\n",
    "\n",
    "#### TF-IDF"
   ]
  },
  {
   "cell_type": "code",
   "execution_count": 69,
   "metadata": {},
   "outputs": [
    {
     "name": "stdout",
     "output_type": "stream",
     "text": [
      "Accuracy: 0.7271604938271605\n",
      "Precision: 0.7332337710488924\n",
      "Recall: 0.7271604938271605\n",
      "F1-score: 0.7283306383913734\n",
      "Confusion Matrix:\n",
      " [[444  18  21  25  16  12]\n",
      " [ 19 394  12   8  32  65]\n",
      " [ 29  25 390  37  23  56]\n",
      " [ 21  20  36 408  27  38]\n",
      " [ 14  20  22  40 345  99]\n",
      " [ 21  52  19  10  47 375]]\n"
     ]
    },
    {
     "name": "stderr",
     "output_type": "stream",
     "text": [
      "c:\\Users\\guilf\\miniconda3\\envs\\tf\\lib\\site-packages\\sklearn\\neural_network\\_multilayer_perceptron.py:546: ConvergenceWarning: lbfgs failed to converge (status=1):\n",
      "STOP: TOTAL NO. of ITERATIONS REACHED LIMIT.\n",
      "\n",
      "Increase the number of iterations (max_iter) or scale the data as shown in:\n",
      "    https://scikit-learn.org/stable/modules/preprocessing.html\n",
      "  self.n_iter_ = _check_optimize_result(\"lbfgs\", opt_res, self.max_iter)\n"
     ]
    }
   ],
   "source": [
    "# Create an MLP classifier\n",
    "mlp_classifier_tfidf = MLPClassifier(hidden_layer_sizes=(200,), max_iter=100, alpha=1e-4,\n",
    "                               solver='lbfgs', verbose=10, random_state=42)\n",
    "\n",
    "# Fit the MLP classifier on TF-IDF vectors\n",
    "mlp_classifier_tfidf.fit(X_train_vectors_tfidf, y_train)\n",
    "joblib.dump(mlp_classifier_tfidf,\"trained_model.pkl\") \n",
    "# Predict y value for validation dataset\n",
    "y_predict = mlp_classifier_tfidf.predict(X_test_vectors_tfidf)\n",
    "y_prob = mlp_classifier_tfidf.predict_proba(X_test_vectors_tfidf)[:, 1]\n",
    "\n",
    "# Compute accuracy\n",
    "accuracy_tfidf = accuracy_score(y_test, y_predict)\n",
    "print('Accuracy:', accuracy_tfidf)\n",
    "\n",
    "# Compute precision\n",
    "precision_tfidf = precision_score(y_test, y_predict, average='weighted')\n",
    "print('Precision:', precision_tfidf)\n",
    "\n",
    "# Compute recall\n",
    "recall_tfidf = recall_score(y_test, y_predict, average='weighted')\n",
    "print('Recall:', recall_tfidf)\n",
    "\n",
    "# Compute F1-score\n",
    "f1_tfidf = f1_score(y_test, y_predict, average='weighted')\n",
    "print('F1-score:', f1_tfidf)\n",
    "\n",
    "# Compute confusion matrix\n",
    "conf_matrix_tfidf = confusion_matrix(y_test, y_predict)\n",
    "print('Confusion Matrix:\\n', conf_matrix_tfidf)\n"
   ]
  },
  {
   "cell_type": "markdown",
   "metadata": {},
   "source": [
    "#### Word2Vec"
   ]
  },
  {
   "cell_type": "code",
   "execution_count": 70,
   "metadata": {},
   "outputs": [
    {
     "name": "stdout",
     "output_type": "stream",
     "text": [
      "Accuracy: 0.30648148148148147\n",
      "Precision: 0.29794756170178927\n",
      "Recall: 0.30648148148148147\n",
      "F1-score: 0.28512997644572896\n",
      "Confusion Matrix:\n",
      " [[266  69  39 115  26  21]\n",
      " [193  86  44  92  35  80]\n",
      " [218  55  42 140  43  62]\n",
      " [210  56  34 147  62  41]\n",
      " [ 73  24  17 149 132 145]\n",
      " [ 15   5  25  68  91 320]]\n"
     ]
    },
    {
     "name": "stderr",
     "output_type": "stream",
     "text": [
      "c:\\Users\\guilf\\miniconda3\\envs\\tf\\lib\\site-packages\\sklearn\\neural_network\\_multilayer_perceptron.py:546: ConvergenceWarning: lbfgs failed to converge (status=1):\n",
      "STOP: TOTAL NO. of ITERATIONS REACHED LIMIT.\n",
      "\n",
      "Increase the number of iterations (max_iter) or scale the data as shown in:\n",
      "    https://scikit-learn.org/stable/modules/preprocessing.html\n",
      "  self.n_iter_ = _check_optimize_result(\"lbfgs\", opt_res, self.max_iter)\n"
     ]
    }
   ],
   "source": [
    "# Create an MLP classifier\n",
    "mlp_classifier_w2v = MLPClassifier(hidden_layer_sizes=(200,), max_iter=100, alpha=1e-4,\n",
    "                               solver='lbfgs', verbose=10, random_state=42)\n",
    "\n",
    "# Fit the MLP classifier on w2v vectors\n",
    "mlp_classifier_w2v.fit(X_train_vectors_w2v, y_train)\n",
    "\n",
    "# Predict y value for validation dataset\n",
    "y_predict = mlp_classifier_w2v.predict(X_test_vectors_w2v)\n",
    "y_prob = mlp_classifier_w2v.predict_proba(X_test_vectors_w2v)[:, 1]\n",
    "\n",
    "# Compute accuracy\n",
    "accuracy_w2v = accuracy_score(y_test, y_predict)\n",
    "print('Accuracy:', accuracy_w2v)\n",
    "\n",
    "# Compute precision\n",
    "precision_w2v = precision_score(y_test, y_predict, average='weighted')\n",
    "print('Precision:', precision_w2v)\n",
    "\n",
    "# Compute recall\n",
    "recall_w2v = recall_score(y_test, y_predict, average='weighted')\n",
    "print('Recall:', recall_w2v)\n",
    "\n",
    "# Compute F1-score\n",
    "f1_w2v = f1_score(y_test, y_predict, average='weighted')\n",
    "print('F1-score:', f1_w2v)\n",
    "\n",
    "# Compute confusion matrix\n",
    "conf_matrix_w2v = confusion_matrix(y_test, y_predict)\n",
    "print('Confusion Matrix:\\n', conf_matrix_w2v)"
   ]
  },
  {
   "cell_type": "markdown",
   "metadata": {},
   "source": [
    "### Building AI models (Text-classification) with Long Short Term Memory\n"
   ]
  },
  {
   "cell_type": "code",
   "execution_count": 71,
   "metadata": {},
   "outputs": [],
   "source": [
    "# Convert labels to integers\n",
    "label_encoder = LabelEncoder()\n",
    "y_train_encoded = label_encoder.fit_transform(y_train)\n",
    "y_test_encoded = label_encoder.transform(y_test)\n",
    "\n",
    "# Tokenize and pad sequences\n",
    "tokenizer = Tokenizer()\n",
    "tokenizer.fit_on_texts(X_train)\n",
    "X_train_sequences = tokenizer.texts_to_sequences(X_train)\n",
    "X_test_sequences = tokenizer.texts_to_sequences(X_test)\n",
    "\n",
    "# Pad sequences for consistent length\n",
    "max_sequence_length = 40  # You can adjust this based on the average length of your sentences\n",
    "X_train_padded = pad_sequences(X_train_sequences, maxlen=max_sequence_length)\n",
    "X_test_padded = pad_sequences(X_test_sequences, maxlen=max_sequence_length)"
   ]
  },
  {
   "cell_type": "markdown",
   "metadata": {},
   "source": [
    "### GridSearch"
   ]
  },
  {
   "cell_type": "code",
   "execution_count": 72,
   "metadata": {},
   "outputs": [
    {
     "name": "stdout",
     "output_type": "stream",
     "text": [
      "Reloading Tuner from GridSearch\\NLP_text_classification\\tuner0.json\n"
     ]
    }
   ],
   "source": [
    "from tensorflow import keras\n",
    "from kerastuner.tuners import GridSearch\n",
    "\n",
    "# Function to create model, required for KerasClassifier\n",
    "def build_model(hp):\n",
    "    model = Sequential()\n",
    "    model.add(Embedding(input_dim=len(tokenizer.word_index) + 1, output_dim=100, input_length=max_sequence_length))\n",
    "    model.add(LSTM(units=hp.Int('units', min_value=32, max_value=512, step=32), dropout=hp.Float('dropout', min_value=0.0, max_value=0.5, step=0.1)))\n",
    "    model.add(Dense(len(label_encoder.classes_), activation=hp.Choice('activation', values=['softmax', 'relu', 'sigmoid', 'tanh'])))\n",
    "\n",
    "    model.compile(\n",
    "        optimizer=keras.optimizers.Adam(\n",
    "            hp.Choice('learning_rate', values=[1e-2, 1e-3, 1e-4])),\n",
    "        loss='sparse_categorical_crossentropy',\n",
    "        metrics=['accuracy'])\n",
    "    \n",
    "    return model\n",
    "\n",
    "tuner = GridSearch(\n",
    "    build_model,\n",
    "    seed=42,\n",
    "    objective='val_accuracy',\n",
    "    directory='GridSearch',\n",
    "    project_name='NLP_text_classification')\n",
    "\n",
    "# tuner.search(X_train_padded, y_train_encoded,\n",
    "#              epochs=10,\n",
    "#              validation_data=(X_test_padded, y_test_encoded))\n"
   ]
  },
  {
   "cell_type": "code",
   "execution_count": 73,
   "metadata": {},
   "outputs": [
    {
     "name": "stdout",
     "output_type": "stream",
     "text": [
      "Results summary\n",
      "Results in GridSearch\\NLP_text_classification\n",
      "Showing 10 best trials\n",
      "Objective(name=\"val_accuracy\", direction=\"max\")\n",
      "\n",
      "Trial 0114 summary\n",
      "Hyperparameters:\n",
      "units: 64\n",
      "dropout: 0.4\n",
      "activation: sigmoid\n",
      "learning_rate: 0.01\n",
      "Score: 0.7564814686775208\n",
      "\n",
      "Trial 0108 summary\n",
      "Hyperparameters:\n",
      "units: 64\n",
      "dropout: 0.4\n",
      "activation: softmax\n",
      "learning_rate: 0.01\n",
      "Score: 0.7558642029762268\n",
      "\n",
      "Trial 0228 summary\n",
      "Hyperparameters:\n",
      "units: 128\n",
      "dropout: 0.4\n",
      "activation: softmax\n",
      "learning_rate: 0.01\n",
      "Score: 0.7552469372749329\n",
      "\n",
      "Trial 0036 summary\n",
      "Hyperparameters:\n",
      "units: 32\n",
      "dropout: 0.30000000000000004\n",
      "activation: softmax\n",
      "learning_rate: 0.01\n",
      "Score: 0.7546296119689941\n",
      "\n",
      "Trial 0637 summary\n",
      "Hyperparameters:\n",
      "units: 352\n",
      "dropout: 0.30000000000000004\n",
      "activation: softmax\n",
      "learning_rate: 0.001\n",
      "Score: 0.7546296119689941\n",
      "\n",
      "Trial 0096 summary\n",
      "Hyperparameters:\n",
      "units: 64\n",
      "dropout: 0.30000000000000004\n",
      "activation: softmax\n",
      "learning_rate: 0.01\n",
      "Score: 0.7543209791183472\n",
      "\n",
      "Trial 0480 summary\n",
      "Hyperparameters:\n",
      "units: 288\n",
      "dropout: 0.0\n",
      "activation: softmax\n",
      "learning_rate: 0.01\n",
      "Score: 0.7540123462677002\n",
      "\n",
      "Trial 0234 summary\n",
      "Hyperparameters:\n",
      "units: 128\n",
      "dropout: 0.4\n",
      "activation: sigmoid\n",
      "learning_rate: 0.01\n",
      "Score: 0.7537037134170532\n",
      "\n",
      "Trial 0709 summary\n",
      "Hyperparameters:\n",
      "units: 384\n",
      "dropout: 0.4\n",
      "activation: softmax\n",
      "learning_rate: 0.001\n",
      "Score: 0.7537037134170532\n",
      "\n",
      "Trial 0288 summary\n",
      "Hyperparameters:\n",
      "units: 160\n",
      "dropout: 0.4\n",
      "activation: softmax\n",
      "learning_rate: 0.01\n",
      "Score: 0.7530864477157593\n",
      "{'units': 64, 'dropout': 0.4, 'activation': 'sigmoid', 'learning_rate': 0.01}\n"
     ]
    }
   ],
   "source": [
    "best_hyper_parameter = tuner.get_best_hyperparameters()\n",
    "\n",
    "tuner.results_summary()\n",
    "\n",
    "print(best_hyper_parameter[0].values)"
   ]
  },
  {
   "cell_type": "code",
   "execution_count": 74,
   "metadata": {},
   "outputs": [
    {
     "name": "stdout",
     "output_type": "stream",
     "text": [
      "Epoch 1/10\n",
      "405/405 [==============================] - 3s 6ms/step - loss: 1.0226 - accuracy: 0.6129 - val_loss: 0.6838 - val_accuracy: 0.7590\n",
      "Epoch 2/10\n",
      "405/405 [==============================] - 2s 4ms/step - loss: 0.5626 - accuracy: 0.7981 - val_loss: 0.6760 - val_accuracy: 0.7611\n",
      "Epoch 3/10\n",
      "405/405 [==============================] - 2s 4ms/step - loss: 0.4131 - accuracy: 0.8519 - val_loss: 0.7164 - val_accuracy: 0.7651\n",
      "Epoch 4/10\n",
      "405/405 [==============================] - 2s 4ms/step - loss: 0.3365 - accuracy: 0.8760 - val_loss: 0.8068 - val_accuracy: 0.7590\n",
      "Epoch 5/10\n",
      "405/405 [==============================] - 2s 5ms/step - loss: 0.2941 - accuracy: 0.8910 - val_loss: 0.8611 - val_accuracy: 0.7534\n",
      "Epoch 6/10\n",
      "405/405 [==============================] - 2s 5ms/step - loss: 0.2787 - accuracy: 0.8958 - val_loss: 0.9161 - val_accuracy: 0.7491\n",
      "Epoch 7/10\n",
      "405/405 [==============================] - 2s 5ms/step - loss: 0.2672 - accuracy: 0.9007 - val_loss: 0.9786 - val_accuracy: 0.7373\n",
      "Epoch 8/10\n",
      "405/405 [==============================] - 2s 5ms/step - loss: 0.2663 - accuracy: 0.9030 - val_loss: 1.0080 - val_accuracy: 0.7417\n",
      "Epoch 9/10\n",
      "405/405 [==============================] - 2s 5ms/step - loss: 0.2606 - accuracy: 0.9048 - val_loss: 1.0308 - val_accuracy: 0.7340\n",
      "Epoch 10/10\n",
      "405/405 [==============================] - 2s 5ms/step - loss: 0.2695 - accuracy: 0.9003 - val_loss: 1.0527 - val_accuracy: 0.7373\n",
      "102/102 [==============================] - 0s 2ms/step - loss: 1.0527 - accuracy: 0.7373\n",
      "Test score: 1.0527079105377197\n",
      "Test accuracy: 0.7373456954956055\n"
     ]
    }
   ],
   "source": [
    "# Define LSTM model using best Hyper Parameters from the GridSearch\n",
    "modelLSTM = Sequential()\n",
    "modelLSTM.add(Embedding(len(tokenizer.word_index) + 1, 100, input_length=max_sequence_length))\n",
    "modelLSTM.add(LSTM(64, dropout=0.4, recurrent_dropout=0))\n",
    "modelLSTM.add(Dense(len(label_encoder.classes_), activation='sigmoid'))\n",
    "\n",
    "# Compile the model\n",
    "modelLSTM.compile(loss='sparse_categorical_crossentropy', optimizer=keras.optimizers.Adam(learning_rate=0.01), metrics=['accuracy'])\n",
    "\n",
    "# Train the model\n",
    "modelLSTM.fit(X_train_padded, y_train_encoded, batch_size=32, epochs=10, validation_data=(X_test_padded, y_test_encoded))\n",
    "\n",
    "# Evaluate the model\n",
    "score, acc = modelLSTM.evaluate(X_test_padded, y_test_encoded, batch_size=32)\n",
    "print('Test score:', score)\n",
    "print('Test accuracy:', acc)"
   ]
  },
  {
   "cell_type": "markdown",
   "metadata": {},
   "source": [
    "### TESTING THE MODEL ON UNLABELLED DATASET"
   ]
  },
  {
   "cell_type": "code",
   "execution_count": 75,
   "metadata": {},
   "outputs": [
    {
     "name": "stdout",
     "output_type": "stream",
     "text": [
      "Predictions for test dataset:\n",
      "[0. 0. 0. ... 1. 1. 5.]\n"
     ]
    }
   ],
   "source": [
    "# Load the new dataset for testing\n",
    "df_test = pd.DataFrame(dataset_emotion['test'])\n",
    "\n",
    "# Preprocess the text in the test dataset\n",
    "df_test['clean_text'] = df_test['text'].apply(finalpreprocess)\n",
    "\n",
    "# Convert the preprocessed text to TF-IDF vectors\n",
    "X_test_vectors_tfidf = tfidf_vectorizer.transform(df_test['clean_text'])\n",
    "\n",
    "# Predict the labels for the test dataset using the trained MLP classifier\n",
    "y_predict_test = mlp_classifier_tfidf.predict(X_test_vectors_tfidf)\n",
    "\n",
    "# Print the predictions\n",
    "print(\"Predictions for test dataset:\")\n",
    "print(y_predict_test)\n",
    "\n",
    "# Optionally, you can compute and print other evaluation metrics for the test dataset\n",
    "# For example, if you have ground truth labels for the test dataset (df_test['ground_truth_labels']),\n",
    "# you can compute accuracy, precision, recall, F1-score, and confusion matrix\n",
    "# using the same metrics as shown in the previous code snippet.\n",
    "\n",
    "# Save the predictions to a CSV file\n",
    "df_test['id'] = df_test.index  # Assuming the index serves as the ID\n",
    "df_test[['id', 'label']].to_csv('submission.csv', index=False)"
   ]
  },
  {
   "cell_type": "markdown",
   "metadata": {},
   "source": [
    "## Testing the different models"
   ]
  },
  {
   "cell_type": "code",
   "execution_count": 80,
   "metadata": {},
   "outputs": [],
   "source": [
    "# Preprocess the single input\n",
    "input_test = \"This project is really interesting\"\n",
    "input_test = finalpreprocess(input_test)  # preprocess the data"
   ]
  },
  {
   "cell_type": "markdown",
   "metadata": {},
   "source": [
    "\n",
    "### TF-IDF"
   ]
  },
  {
   "cell_type": "code",
   "execution_count": 81,
   "metadata": {},
   "outputs": [
    {
     "name": "stdout",
     "output_type": "stream",
     "text": [
      "Predicted Emotion: surprised\n",
      "Probability of Being Positive: 0.07663591638864095\n"
     ]
    }
   ],
   "source": [
    "# Convert the preprocessed input to a vector using TF-IDF vectorizer\n",
    "X_vector = tfidf_vectorizer.transform([input_test])  # converting input_test to vector\n",
    "\n",
    "# Use the trained model to predict on the input vector\n",
    "y_predict = mlp_classifier_tfidf.predict(X_vector)  # use the trained MLP classifier on X_vector\n",
    "y_prob = mlp_classifier_tfidf.predict_proba(X_vector)[:, 1]\n",
    "\n",
    "# Map numeric labels to emotions\n",
    "predicted_emotion = mapping_emotions[y_predict[0]]\n",
    "\n",
    "# Print the predicted emotion and its probability\n",
    "print(\"Predicted Emotion:\", predicted_emotion)\n",
    "print(\"Probability of Being Positive:\", y_prob[0])\n"
   ]
  },
  {
   "cell_type": "markdown",
   "metadata": {},
   "source": [
    "### Word2Vec"
   ]
  },
  {
   "cell_type": "code",
   "execution_count": 82,
   "metadata": {},
   "outputs": [
    {
     "name": "stdout",
     "output_type": "stream",
     "text": [
      "Predicted Emotion: neutral\n",
      "Probability of Being Positive: 0.10690426421057224\n"
     ]
    }
   ],
   "source": [
    "# Convert the preprocessed input to a vector using Word2Vec model\n",
    "X_vector = modelw2v.transform([input_test])  # converting input_test to vector\n",
    "\n",
    "# Use the trained model to predict on the input vector\n",
    "y_predict = mlp_classifier_w2v.predict(X_vector)  # use the trained MLP classifier on X_vector\n",
    "y_prob = mlp_classifier_w2v.predict_proba(X_vector)[:, 1]\n",
    "\n",
    "# Map numeric labels to emotions\n",
    "predicted_emotion = mapping_emotions[y_predict[0]]\n",
    "\n",
    "# Print the predicted emotion and its probability\n",
    "print(\"Predicted Emotion:\", predicted_emotion)\n",
    "print(\"Probability of Being Positive:\", y_prob[0])\n"
   ]
  },
  {
   "cell_type": "markdown",
   "metadata": {},
   "source": [
    "### LSTM"
   ]
  },
  {
   "cell_type": "code",
   "execution_count": 83,
   "metadata": {},
   "outputs": [
    {
     "ename": "ValueError",
     "evalue": "in user code:\n\n    File \"c:\\Users\\guilf\\miniconda3\\envs\\tf\\lib\\site-packages\\keras\\engine\\training.py\", line 2041, in predict_function  *\n        return step_function(self, iterator)\n    File \"c:\\Users\\guilf\\miniconda3\\envs\\tf\\lib\\site-packages\\keras\\engine\\training.py\", line 2027, in step_function  **\n        outputs = model.distribute_strategy.run(run_step, args=(data,))\n    File \"c:\\Users\\guilf\\miniconda3\\envs\\tf\\lib\\site-packages\\keras\\engine\\training.py\", line 2015, in run_step  **\n        outputs = model.predict_step(data)\n    File \"c:\\Users\\guilf\\miniconda3\\envs\\tf\\lib\\site-packages\\keras\\engine\\training.py\", line 1983, in predict_step\n        return self(x, training=False)\n    File \"c:\\Users\\guilf\\miniconda3\\envs\\tf\\lib\\site-packages\\keras\\utils\\traceback_utils.py\", line 70, in error_handler\n        raise e.with_traceback(filtered_tb) from None\n    File \"c:\\Users\\guilf\\miniconda3\\envs\\tf\\lib\\site-packages\\keras\\engine\\input_spec.py\", line 295, in assert_input_compatibility\n        raise ValueError(\n\n    ValueError: Input 0 of layer \"sequential_1\" is incompatible with the layer: expected shape=(None, 40), found shape=(None, 10)\n",
     "output_type": "error",
     "traceback": [
      "\u001b[1;31m---------------------------------------------------------------------------\u001b[0m",
      "\u001b[1;31mValueError\u001b[0m                                Traceback (most recent call last)",
      "Cell \u001b[1;32mIn[83], line 6\u001b[0m\n\u001b[0;32m      3\u001b[0m input_test_padded \u001b[38;5;241m=\u001b[39m pad_sequences(input_test_tokenized, maxlen\u001b[38;5;241m=\u001b[39m\u001b[38;5;241m10\u001b[39m)\n\u001b[0;32m      5\u001b[0m \u001b[38;5;66;03m# Use the trained model to predict on the input vector\u001b[39;00m\n\u001b[1;32m----> 6\u001b[0m y_predict \u001b[38;5;241m=\u001b[39m \u001b[43mmodelLSTM\u001b[49m\u001b[38;5;241;43m.\u001b[39;49m\u001b[43mpredict\u001b[49m\u001b[43m(\u001b[49m\u001b[43minput_test_padded\u001b[49m\u001b[43m)\u001b[49m  \u001b[38;5;66;03m# use the trained LSTM model\u001b[39;00m\n\u001b[0;32m      8\u001b[0m \u001b[38;5;66;03m# Get the label\u001b[39;00m\n\u001b[0;32m      9\u001b[0m predicted_label \u001b[38;5;241m=\u001b[39m label_encoder\u001b[38;5;241m.\u001b[39mclasses_[np\u001b[38;5;241m.\u001b[39margmax(y_predict)]\n",
      "File \u001b[1;32mc:\\Users\\guilf\\miniconda3\\envs\\tf\\lib\\site-packages\\keras\\utils\\traceback_utils.py:70\u001b[0m, in \u001b[0;36mfilter_traceback.<locals>.error_handler\u001b[1;34m(*args, **kwargs)\u001b[0m\n\u001b[0;32m     67\u001b[0m     filtered_tb \u001b[38;5;241m=\u001b[39m _process_traceback_frames(e\u001b[38;5;241m.\u001b[39m__traceback__)\n\u001b[0;32m     68\u001b[0m     \u001b[38;5;66;03m# To get the full stack trace, call:\u001b[39;00m\n\u001b[0;32m     69\u001b[0m     \u001b[38;5;66;03m# `tf.debugging.disable_traceback_filtering()`\u001b[39;00m\n\u001b[1;32m---> 70\u001b[0m     \u001b[38;5;28;01mraise\u001b[39;00m e\u001b[38;5;241m.\u001b[39mwith_traceback(filtered_tb) \u001b[38;5;28;01mfrom\u001b[39;00m \u001b[38;5;28;01mNone\u001b[39;00m\n\u001b[0;32m     71\u001b[0m \u001b[38;5;28;01mfinally\u001b[39;00m:\n\u001b[0;32m     72\u001b[0m     \u001b[38;5;28;01mdel\u001b[39;00m filtered_tb\n",
      "File \u001b[1;32m~\\AppData\\Local\\Temp\\__autograph_generated_filewqqt74_p.py:15\u001b[0m, in \u001b[0;36mouter_factory.<locals>.inner_factory.<locals>.tf__predict_function\u001b[1;34m(iterator)\u001b[0m\n\u001b[0;32m     13\u001b[0m \u001b[38;5;28;01mtry\u001b[39;00m:\n\u001b[0;32m     14\u001b[0m     do_return \u001b[38;5;241m=\u001b[39m \u001b[38;5;28;01mTrue\u001b[39;00m\n\u001b[1;32m---> 15\u001b[0m     retval_ \u001b[38;5;241m=\u001b[39m ag__\u001b[38;5;241m.\u001b[39mconverted_call(ag__\u001b[38;5;241m.\u001b[39mld(step_function), (ag__\u001b[38;5;241m.\u001b[39mld(\u001b[38;5;28mself\u001b[39m), ag__\u001b[38;5;241m.\u001b[39mld(iterator)), \u001b[38;5;28;01mNone\u001b[39;00m, fscope)\n\u001b[0;32m     16\u001b[0m \u001b[38;5;28;01mexcept\u001b[39;00m:\n\u001b[0;32m     17\u001b[0m     do_return \u001b[38;5;241m=\u001b[39m \u001b[38;5;28;01mFalse\u001b[39;00m\n",
      "\u001b[1;31mValueError\u001b[0m: in user code:\n\n    File \"c:\\Users\\guilf\\miniconda3\\envs\\tf\\lib\\site-packages\\keras\\engine\\training.py\", line 2041, in predict_function  *\n        return step_function(self, iterator)\n    File \"c:\\Users\\guilf\\miniconda3\\envs\\tf\\lib\\site-packages\\keras\\engine\\training.py\", line 2027, in step_function  **\n        outputs = model.distribute_strategy.run(run_step, args=(data,))\n    File \"c:\\Users\\guilf\\miniconda3\\envs\\tf\\lib\\site-packages\\keras\\engine\\training.py\", line 2015, in run_step  **\n        outputs = model.predict_step(data)\n    File \"c:\\Users\\guilf\\miniconda3\\envs\\tf\\lib\\site-packages\\keras\\engine\\training.py\", line 1983, in predict_step\n        return self(x, training=False)\n    File \"c:\\Users\\guilf\\miniconda3\\envs\\tf\\lib\\site-packages\\keras\\utils\\traceback_utils.py\", line 70, in error_handler\n        raise e.with_traceback(filtered_tb) from None\n    File \"c:\\Users\\guilf\\miniconda3\\envs\\tf\\lib\\site-packages\\keras\\engine\\input_spec.py\", line 295, in assert_input_compatibility\n        raise ValueError(\n\n    ValueError: Input 0 of layer \"sequential_1\" is incompatible with the layer: expected shape=(None, 40), found shape=(None, 10)\n"
     ]
    }
   ],
   "source": [
    "# Convert the preprocessed input to a sequence using tokenizer\n",
    "input_test_tokenized = tokenizer.texts_to_sequences([input_test])\n",
    "input_test_padded = pad_sequences(input_test_tokenized, maxlen=10)\n",
    "\n",
    "# Use the trained model to predict on the input vector\n",
    "y_predict = modelLSTM.predict(input_test_padded)  # use the trained LSTM model\n",
    "\n",
    "# Get the label\n",
    "predicted_label = label_encoder.classes_[np.argmax(y_predict)]\n",
    "\n",
    "# Map numeric labels to emotions\n",
    "predicted_emotion = mapping_emotions[predicted_label]\n",
    "\n",
    "# Print the predicted emotion and its probability\n",
    "print(\"Clean Text:\", input_test)\n",
    "print(\"Predicted Emotion:\", predicted_emotion)\n"
   ]
  }
 ],
 "metadata": {
  "kernelspec": {
   "display_name": "Python 3",
   "language": "python",
   "name": "python3"
  },
  "language_info": {
   "codemirror_mode": {
    "name": "ipython",
    "version": 3
   },
   "file_extension": ".py",
   "mimetype": "text/x-python",
   "name": "python",
   "nbconvert_exporter": "python",
   "pygments_lexer": "ipython3",
   "version": "3.10.14"
  }
 },
 "nbformat": 4,
 "nbformat_minor": 2
}
