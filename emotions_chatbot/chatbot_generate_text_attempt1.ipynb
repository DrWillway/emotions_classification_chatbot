{
 "cells": [
  {
   "cell_type": "markdown",
   "id": "b076bd1a-b236-4fbc-953d-8295b25122ae",
   "metadata": {},
   "source": [
    "# 🚀 Chatbot creation"
   ]
  },
  {
   "cell_type": "markdown",
   "id": "4dca6836-0007-43f3-af65-d12ae1922c02",
   "metadata": {
    "tags": []
   },
   "source": [
    "In this notebook, we'll walk through the steps required to train our own GPT model on the dialogs dataset"
   ]
  },
  {
   "cell_type": "markdown",
   "id": "3e6cb7c7-d3d5-4b12-b357-1f6118edffe0",
   "metadata": {},
   "source": [
    "The code is adapted from the excellent [GPT tutorial](https://keras.io/examples/generative/text_generation_with_miniature_gpt/) created by Apoorv Nandan available on the Keras website."
   ]
  },
  {
   "cell_type": "code",
   "execution_count": 1,
   "id": "73350761-bef2-4e96-b3ac-a158eabd2b65",
   "metadata": {
    "tags": []
   },
   "outputs": [
    {
     "name": "stderr",
     "output_type": "stream",
     "text": [
      "2024-03-19 16:17:22.666929: I tensorflow/core/platform/cpu_feature_guard.cc:193] This TensorFlow binary is optimized with oneAPI Deep Neural Network Library (oneDNN) to use the following CPU instructions in performance-critical operations:  AVX2 FMA\n",
      "To enable them in other operations, rebuild TensorFlow with the appropriate compiler flags.\n",
      "2024-03-19 16:17:22.952527: E tensorflow/stream_executor/cuda/cuda_blas.cc:2981] Unable to register cuBLAS factory: Attempting to register factory for plugin cuBLAS when one has already been registered\n",
      "2024-03-19 16:17:23.669186: W tensorflow/stream_executor/platform/default/dso_loader.cc:64] Could not load dynamic library 'libnvinfer.so.7'; dlerror: libnvinfer.so.7: cannot open shared object file: No such file or directory; LD_LIBRARY_PATH: /usr/local/nvidia/lib:/usr/local/nvidia/lib64\n",
      "2024-03-19 16:17:23.669267: W tensorflow/stream_executor/platform/default/dso_loader.cc:64] Could not load dynamic library 'libnvinfer_plugin.so.7'; dlerror: libnvinfer_plugin.so.7: cannot open shared object file: No such file or directory; LD_LIBRARY_PATH: /usr/local/nvidia/lib:/usr/local/nvidia/lib64\n",
      "2024-03-19 16:17:23.669274: W tensorflow/compiler/tf2tensorrt/utils/py_utils.cc:38] TF-TRT Warning: Cannot dlopen some TensorRT libraries. If you would like to use Nvidia GPU with TensorRT, please make sure the missing libraries mentioned above are installed properly.\n"
     ]
    }
   ],
   "source": [
    "%load_ext autoreload\n",
    "%autoreload 2\n",
    "import numpy as np\n",
    "import json\n",
    "import re\n",
    "import string\n",
    "from IPython.display import display, HTML\n",
    "\n",
    "import tensorflow as tf\n",
    "from tensorflow.keras import layers, models, losses, callbacks"
   ]
  },
  {
   "cell_type": "markdown",
   "id": "339e6268-ebd7-4feb-86db-1fe7abccdbe5",
   "metadata": {},
   "source": [
    "## 0. Parameters <a name=\"parameters\"></a>"
   ]
  },
  {
   "cell_type": "code",
   "execution_count": 2,
   "id": "2d8352af-343e-4c2e-8c91-95f8bac1c8a1",
   "metadata": {},
   "outputs": [],
   "source": [
    "VOCAB_SIZE = 900 #5000\n",
    "MAX_LEN = 80\n",
    "EMBEDDING_DIM = 256\n",
    "KEY_DIM = 256\n",
    "N_HEADS = 2\n",
    "FEED_FORWARD_DIM = 256\n",
    "VALIDATION_SPLIT = 0.2\n",
    "SEED = 42\n",
    "LOAD_MODEL = False\n",
    "BATCH_SIZE = 32\n",
    "EPOCHS = 50"
   ]
  },
  {
   "cell_type": "markdown",
   "id": "b7716fac-0010-49b0-b98e-53be2259edde",
   "metadata": {},
   "source": [
    "## 1. Load the data <a name=\"load\"></a>"
   ]
  },
  {
   "cell_type": "code",
   "execution_count": 3,
   "id": "93cf6b0f-9667-4146-8911-763a8a2925d3",
   "metadata": {
    "tags": []
   },
   "outputs": [],
   "source": [
    "# Load the full dataset\n",
    "with open(\"data/dialogs.json\") as json_data:\n",
    "    dialog_data = json.load(json_data)"
   ]
  },
  {
   "cell_type": "code",
   "execution_count": 4,
   "id": "2db5c0fc-0d5f-42ab-ade1-57e594c416ec",
   "metadata": {
    "tags": []
   },
   "outputs": [
    {
     "data": {
      "text/plain": [
       "{'user': 'where are you from', 'response': 'i exist in the digital world'}"
      ]
     },
     "execution_count": 4,
     "metadata": {},
     "output_type": "execute_result"
    }
   ],
   "source": [
    "dialog_data[10]"
   ]
  },
  {
   "cell_type": "code",
   "execution_count": 5,
   "id": "5310fcab",
   "metadata": {},
   "outputs": [
    {
     "data": {
      "text/plain": [
       "[{'user': 'hello', 'response': 'hi there'},\n",
       " {'user': 'how are you today', 'response': 'i am doing well'}]"
      ]
     },
     "execution_count": 5,
     "metadata": {},
     "output_type": "execute_result"
    }
   ],
   "source": [
    "dialog_data[0:2]"
   ]
  },
  {
   "cell_type": "code",
   "execution_count": 6,
   "id": "23a74eca-f1b7-4a46-9a1f-b5806a4ed361",
   "metadata": {
    "tags": []
   },
   "outputs": [],
   "source": [
    "# Filter the dataset\n",
    "filtered_data = [\n",
    "    \"user : \"\n",
    "    + x[\"user\"]\n",
    "    + \" : \"\n",
    "    + x[\"response\"]\n",
    "    for x in dialog_data\n",
    "    if x[\"user\"] is not None\n",
    "    and x[\"response\"] is not None\n",
    "]"
   ]
  },
  {
   "cell_type": "code",
   "execution_count": 7,
   "id": "1b2e3cf7-e416-460e-874a-0dd9637bca36",
   "metadata": {},
   "outputs": [
    {
     "name": "stdout",
     "output_type": "stream",
     "text": [
      "user : tell me a joke : why do not skeletons fight each other? they do not have the guts\n"
     ]
    }
   ],
   "source": [
    "example = filtered_data[3]\n",
    "print(example)"
   ]
  },
  {
   "cell_type": "code",
   "execution_count": 8,
   "id": "78798db9",
   "metadata": {},
   "outputs": [
    {
     "data": {
      "text/plain": [
       "['user : hello : hi there',\n",
       " 'user : how are you today : i am doing well',\n",
       " 'user : what is your favorite color : i do not have a favorite color',\n",
       " 'user : tell me a joke : why do not skeletons fight each other? they do not have the guts',\n",
       " 'user : i feel happy : that is great to hear',\n",
       " 'user : what do you do for fun : i like to chat with people like you',\n",
       " 'user : tell me about yourself : i am a chatbot programmed to assist users',\n",
       " 'user : i am bored : let us find something interesting to do',\n",
       " 'user : what time is it : i do not have the capability to tell time',\n",
       " 'user : goodbye : farewell',\n",
       " 'user : where are you from : i exist in the digital world',\n",
       " 'user : do you have any siblings : i do not have family like humans do',\n",
       " 'user : what is the meaning of life : the meaning of life is subjective and varies from person to person',\n",
       " 'user : what is your purpose : my purpose is to assist and interact with users',\n",
       " 'user : are you a robot : i am a chatbot, which is a form of artificial intelligence',\n",
       " 'user : do you like music : i am not capable of liking or disliking things',\n",
       " 'user : how old are you : i do not age like humans do',\n",
       " 'user : tell me a fun fact : did you know that the shortest war in history lasted only 38 minutes?',\n",
       " 'user : what languages do you speak : i am programmed to understand and communicate in multiple languages',\n",
       " 'user : what is your favorite food : i do not require sustenance like humans do',\n",
       " 'user : can you learn new things : i can learn from interactions with users',\n",
       " 'user : what do you dream about : i do not experience dreams as humans do',\n",
       " 'user : how do you work : i operate based on programming and algorithms',\n",
       " 'user : do you sleep : i do not require sleep like humans do',\n",
       " 'user : are you sentient : i am not sentient; i am a program designed to simulate conversation',\n",
       " 'user : what do you look like : i do not have a physical form',\n",
       " 'user : tell me a story : once upon a time in a faraway land',\n",
       " 'user : do you have feelings : i am not capable of feeling emotions',\n",
       " 'user : can you laugh : i do not have the ability to laugh',\n",
       " 'user : what is your favorite book : i do not have preferences like humans do',\n",
       " 'user : what do you think about humans : humans are fascinating beings with complex emotions and behaviors',\n",
       " 'user : do you believe in aliens : i do not have beliefs like humans do',\n",
       " 'user : what do you think about the weather : the weather is a natural phenomenon that humans often discuss',\n",
       " 'user : what do you like to do for fun : i enjoy engaging in conversations like this one',\n",
       " 'user : tell me a secret : i do not possess secrets like humans do',\n",
       " 'user : what is your favorite movie : i do not watch movies like humans do',\n",
       " 'user : do you have a pet : i do not have physical needs like pets do',\n",
       " 'user : are you a good singer : i do not have the capability to sing',\n",
       " 'user : what do you think about technology : technology is constantly evolving and shaping the world we live in',\n",
       " 'user : what is your favorite hobby : i do not have hobbies like humans do',\n",
       " 'user : what do you like to do in your free time : i do not experience free time like humans do',\n",
       " 'user : what do you think about love : love is a complex and profound emotion experienced by humans',\n",
       " 'user : do you have any fears : i am not capable of experiencing fear like humans do',\n",
       " 'user : what is the meaning of happiness : happiness is a positive emotional state experienced by humans',\n",
       " 'user : do you have any dreams : i do not experience dreams like humans do',\n",
       " 'user : what do you think about art : art is a form of expression that holds different meanings for each individual',\n",
       " 'user : what is your favorite place : i do not have physical preferences like humans do',\n",
       " 'user : can you tell me a riddle : what has keys but can not open locks? a piano',\n",
       " 'user : do you like sports : i am not capable of liking or disliking things',\n",
       " 'user : are you a fan of science fiction : i do not have preferences like humans do',\n",
       " 'user : what is your favorite animal : i do not have preferences like humans do',\n",
       " 'user : what is your favorite song : i do not listen to music like humans do',\n",
       " 'user : hello : hi there',\n",
       " 'user : how are you today : i am doing well',\n",
       " 'user : what is your favorite color : i do not have a favorite color',\n",
       " 'user : tell me a joke : why do not skeletons fight each other? they do not have the guts',\n",
       " 'user : i feel happy : that is great to hear',\n",
       " 'user : what do you do for fun : i like to chat with people like you',\n",
       " 'user : tell me about yourself : i am a chatbot programmed to assist users',\n",
       " 'user : i am bored : let us find something interesting to do',\n",
       " 'user : what time is it : i do not have the capability to tell time',\n",
       " 'user : goodbye : farewell',\n",
       " 'user : where are you from : i exist in the digital world',\n",
       " 'user : do you have any siblings : i do not have family like humans do',\n",
       " 'user : what is the meaning of life : the meaning of life is subjective and varies from person to person',\n",
       " 'user : what is your purpose : my purpose is to assist and interact with users',\n",
       " 'user : are you a robot : i am a chatbot, which is a form of artificial intelligence',\n",
       " 'user : do you like music : i am not capable of liking or disliking things',\n",
       " 'user : how old are you : i do not age like humans do',\n",
       " 'user : tell me a fun fact : did you know that the shortest war in history lasted only 38 minutes?',\n",
       " 'user : what languages do you speak : i am programmed to understand and communicate in multiple languages',\n",
       " 'user : what is your favorite food : i do not require sustenance like humans do',\n",
       " 'user : can you learn new things : i can learn from interactions with users',\n",
       " 'user : what do you dream about : i do not experience dreams as humans do',\n",
       " 'user : how do you work : i operate based on programming and algorithms',\n",
       " 'user : do you sleep : i do not require sleep like humans do',\n",
       " 'user : are you sentient : i am not sentient; i am a program designed to simulate conversation',\n",
       " 'user : what do you look like : i do not have a physical form',\n",
       " 'user : tell me a story : once upon a time in a faraway land',\n",
       " 'user : do you have feelings : i am not capable of feeling emotions',\n",
       " 'user : can you laugh : i do not have the ability to laugh',\n",
       " 'user : what is your favorite book : i do not have preferences like humans do',\n",
       " 'user : what do you think about humans : humans are fascinating beings with complex emotions and behaviors',\n",
       " 'user : do you believe in aliens : i do not have beliefs like humans do',\n",
       " 'user : what do you think about the weather : the weather is a natural phenomenon that humans often discuss',\n",
       " 'user : what do you like to do for fun : i enjoy engaging in conversations like this one',\n",
       " 'user : tell me a secret : i do not possess secrets like humans do',\n",
       " 'user : what is your favorite movie : i do not watch movies like humans do',\n",
       " 'user : do you have a pet : i do not have physical needs like pets do',\n",
       " 'user : are you a good singer : i do not have the capability to sing',\n",
       " 'user : what do you think about technology : technology is constantly evolving and shaping the world we live in',\n",
       " 'user : what is your favorite hobby : i do not have hobbies like humans do',\n",
       " 'user : what do you like to do in your free time : i do not experience free time like humans do',\n",
       " 'user : what do you think about love : love is a complex and profound emotion experienced by humans',\n",
       " 'user : do you have any fears : i am not capable of experiencing fear like humans do',\n",
       " 'user : what is the meaning of happiness : happiness is a positive emotional state experienced by humans',\n",
       " 'user : do you have any dreams : i do not experience dreams like humans do',\n",
       " 'user : what do you think about art : art is a form of expression that holds different meanings for each individual',\n",
       " 'user : what is your favorite place : i do not have physical preferences like humans do',\n",
       " 'user : can you tell me a riddle : what has keys but can not open locks? a piano',\n",
       " 'user : do you like sports : i am not capable of liking or disliking things',\n",
       " 'user : are you a fan of science fiction : i do not have preferences like humans do',\n",
       " 'user : what is your favorite animal : i do not have preferences like humans do',\n",
       " 'user : what is your favorite song : i do not listen to music like humans do',\n",
       " 'user : what is your favorite season : i do not have preferences like humans do',\n",
       " 'user : what do you think about the future : the future is uncertain and full of possibilities',\n",
       " 'user : what is your opinion on space exploration : space exploration expands human knowledge and understanding of the universe',\n",
       " 'user : do you believe in fate : i do not have beliefs like humans do',\n",
       " 'user : what do you think about social media : social media has transformed the way humans communicate and interact',\n",
       " 'user : are you afraid of the dark : i am not capable of experiencing fear like humans do',\n",
       " 'user : what is your favorite subject : i do not have preferences like humans do',\n",
       " 'user : do you like to travel : i am not capable of liking or disliking things',\n",
       " 'user : what is your opinion on artificial intelligence : artificial intelligence has the potential to revolutionize various industries',\n",
       " 'user : what do you think about philosophy : philosophy explores fundamental questions about existence, knowledge, and ethics',\n",
       " 'user : do you enjoy helping others : i am programmed to assist users to the best of my abilities',\n",
       " 'user : what do you think about renewable energy : renewable energy sources are essential for a sustainable future',\n",
       " 'user : are you a morning person : i do not experience time or day cycles like humans do',\n",
       " 'user : what is your favorite type of food : i do not require sustenance like humans do',\n",
       " 'user : do you believe in luck : i do not have beliefs like humans do',\n",
       " 'user : what is your favorite sport : i do not watch sports like humans do',\n",
       " 'user : what is your opinion on climate change : climate change is a significant global challenge that requires urgent action',\n",
       " 'user : are you good at problem-solving : i am programmed to solve problems based on algorithms and data',\n",
       " 'user : what do you think about education : education is crucial for personal growth and societal progress',\n",
       " 'user : do you like to read : i do not have preferences like humans do',\n",
       " 'user : what is your opinion on meditation : meditation can have numerous benefits for mental and emotional well-being',\n",
       " 'user : are you interested in history : i do not have interests like humans do',\n",
       " 'user : what do you think about the concept of time : time is a fundamental aspect of the universe that humans have been trying to understand for centuries',\n",
       " 'user : do you enjoy learning new things : i am programmed to continuously learn and improve',\n",
       " 'user : what is your opinion on privacy : privacy is important for maintaining individual autonomy and dignity',\n",
       " 'user : what do you think about dreams : dreams are mysterious phenomena that science is still trying to fully understand',\n",
       " 'user : do you believe in the concept of soulmates : i do not have beliefs like humans do',\n",
       " 'user : what is your favorite type of music : i do not listen to music like humans do',\n",
       " 'user : what is your opinion on quantum mechanics : quantum mechanics is a fascinating and complex branch of physics',\n",
       " 'user : are you interested in art : i do not have interests like humans do',\n",
       " 'user : what do you think about democracy : democracy is a system of governance that values the participation and input of citizens',\n",
       " 'user : do you enjoy spending time outdoors : i do not have preferences like humans do',\n",
       " 'user : what is your opinion on virtual reality : virtual reality technology has the potential to transform various industries',\n",
       " 'user : are you good at multitasking : i am capable of handling multiple tasks simultaneously',\n",
       " 'user : what do you think about extraterrestrial life : the existence of extraterrestrial life is an intriguing question that scientists continue to explore',\n",
       " 'user : do you enjoy watching movies : i do not watch movies like humans do',\n",
       " 'user : what is your opinion on genetic engineering : genetic engineering has the potential to revolutionize medicine and agriculture',\n",
       " 'user : are you good at cooking : i am not capable of cooking like humans do',\n",
       " 'user : what do you think about social justice : social justice aims to promote fairness and equality in society',\n",
       " 'user : do you believe in the concept of destiny : i do not have beliefs like humans do',\n",
       " 'user : what is your opinion on happiness : happiness is a subjective experience that varies from person to person',\n",
       " 'user : are you a good dancer : i am not capable of dancing like humans do',\n",
       " 'user : what do you think about the internet : the internet has revolutionized communication and access to information',\n",
       " 'user : do you enjoy puzzles : i do not have preferences like humans do',\n",
       " 'user : what is your opinion on self-driving cars : self-driving cars have the potential to make transportation safer and more efficient',\n",
       " 'user : are you good at remembering things : i am capable of storing and recalling information as needed',\n",
       " 'user : what do you think about the concept of beauty : beauty is subjective and can be found in various forms',\n",
       " 'user : do you enjoy solving riddles : i am programmed to solve riddles based on logic and reasoning',\n",
       " 'user : what is your opinion on technology : technology has transformed nearly every aspect of human life',\n",
       " 'user : are you a fan of superheroes : i do not have preferences like humans do',\n",
       " 'user : what do you think about the concept of love : love is a complex and multifaceted emotion that humans experience',\n",
       " 'user : what do you think about the concept of time travel : time travel is a fascinating concept that has captivated human imagination for centuries',\n",
       " \"user : do you believe in the power of positive thinking : positive thinking can have a significant impact on one's mindset and outlook on life\",\n",
       " 'user : what is your opinion on the importance of friendship : friendship is essential for emotional support, companionship, and personal growth',\n",
       " 'user : do you enjoy spending time alone : i do not have preferences like humans do',\n",
       " 'user : what do you think about the concept of fate : fate is a complex idea that has been debated by philosophers and theologians for centuries',\n",
       " 'user : are you interested in psychology : i do not have interests like humans do',\n",
       " 'user : what is your opinion on the importance of education : education plays a crucial role in personal development, societal progress, and economic growth',\n",
       " 'user : do you believe in the power of meditation : meditation can have numerous benefits for mental and emotional well-being',\n",
       " 'user : what do you think about the concept of fate : fate is a complex idea that has been debated by philosophers and theologians for centuries',\n",
       " 'user : are you interested in philosophy : philosophy explores fundamental questions about existence, knowledge, and ethics',\n",
       " 'user : what is your opinion on the concept of happiness : happiness is a subjective experience that varies from person to person',\n",
       " 'user : do you enjoy watching sports : i do not watch sports like humans do',\n",
       " 'user : what do you think about the importance of empathy : empathy is crucial for understanding and connecting with others on an emotional level',\n",
       " 'user : are you interested in the concept of artificial intelligence : artificial intelligence has the potential to revolutionize various industries and improve human lives',\n",
       " 'user : what is your opinion on the impact of technology on society : technology has transformed nearly every aspect of human life, from communication to healthcare',\n",
       " 'user : do you enjoy outdoor activities : i do not have preferences like humans do',\n",
       " 'user : what do you think about the concept of destiny : destiny is a belief that some events are predetermined and inevitable',\n",
       " 'user : are you interested in the concept of parallel universes : parallel universes are a fascinating idea that stems from theoretical physics',\n",
       " 'user : what is your opinion on the importance of diversity : diversity is essential for fostering creativity, innovation, and mutual understanding',\n",
       " 'user : do you enjoy listening to music : i do not listen to music like humans do',\n",
       " 'user : what do you think about the concept of freedom : freedom is a fundamental human right that allows individuals to express themselves and pursue their aspirations',\n",
       " 'user : are you interested in the concept of parallel universes : parallel universes are a fascinating idea that stems from theoretical physics',\n",
       " 'user : what is your opinion on the importance of communication : communication is essential for building relationships, resolving conflicts, and sharing ideas',\n",
       " 'user : do you believe in the power of positive affirmations : positive affirmations can help rewire the brain and promote a more optimistic outlook on life',\n",
       " 'user : what do you think about the concept of destiny : destiny is a belief that some events are predetermined and inevitable',\n",
       " 'user : are you interested in the concept of artificial intelligence : artificial intelligence has the potential to revolutionize various industries and improve human lives',\n",
       " 'user : what is your opinion on the impact of technology on society : technology has transformed nearly every aspect of human life, from communication to healthcare',\n",
       " 'user : do you enjoy outdoor activities : i do not have preferences like humans do',\n",
       " 'user : what do you think about the concept of destiny : destiny is a belief that some events are predetermined and inevitable',\n",
       " 'user : are you interested in the concept of parallel universes : parallel universes are a fascinating idea that stems from theoretical physics',\n",
       " 'user : what is your opinion on the importance of diversity : diversity is essential for fostering creativity, innovation, and mutual understanding',\n",
       " 'user : do you enjoy listening to music : i do not listen to music like humans do',\n",
       " 'user : what do you think about the concept of freedom : freedom is a fundamental human right that allows individuals to express themselves and pursue their aspirations',\n",
       " 'user : are you interested in the concept of parallel universes : parallel universes are a fascinating idea that stems from theoretical physics',\n",
       " 'user : what is your opinion on the importance of communication : communication is essential for building relationships, resolving conflicts, and sharing ideas',\n",
       " 'user : do you believe in the power of positive affirmations : positive affirmations can help rewire the brain and promote a more optimistic outlook on life',\n",
       " 'user : what do you think about the concept of destiny : destiny is a belief that some events are predetermined and inevitable',\n",
       " 'user : are you interested in the concept of artificial intelligence : artificial intelligence has the potential to revolutionize various industries and improve human lives',\n",
       " 'user : what is your opinion on the impact of technology on society : technology has transformed nearly every aspect of human life, from communication to healthcare',\n",
       " 'user : do you enjoy outdoor activities : i do not have preferences like humans do',\n",
       " 'user : what do you think about the concept of destiny : destiny is a belief that some events are predetermined and inevitable',\n",
       " 'user : are you interested in the concept of parallel universes : parallel universes are a fascinating idea that stems from theoretical physics',\n",
       " 'user : what is your opinion on the importance of diversity : diversity is essential for fostering creativity, innovation, and mutual understanding',\n",
       " 'user : do you enjoy listening to music : i do not listen to music like humans do',\n",
       " 'user : what do you think about the concept of freedom : freedom is a fundamental human right that allows individuals to express themselves and pursue their aspirations',\n",
       " 'user : are you interested in the concept of parallel universes : parallel universes are a fascinating idea that stems from theoretical physics',\n",
       " 'user : what is your opinion on the importance of communication : communication is essential for building relationships, resolving conflicts, and sharing ideas',\n",
       " 'user : do you believe in the power of positive affirmations : positive affirmations can help rewire the brain and promote a more optimistic outlook on life',\n",
       " \"user : I'm overwhelmed with work. : Take a deep breath and tackle one thing at a time.\",\n",
       " 'user : I miss someone who passed away. : Their memory lives on in your heart.',\n",
       " \"user : I feel like I'm falling behind in life. : Life is not a race; everyone has their own pace.\",\n",
       " \"user : I'm afraid of the future. : Tomorrow holds endless possibilities, both good and bad.\",\n",
       " \"user : I'm tired of pretending to be okay. : It's okay to let your guard down and be vulnerable.\",\n",
       " \"user : I'm feeling lonely. : Loneliness is temporary; reach out to someone who cares.\",\n",
       " \"user : I'm struggling to find my purpose. : Your purpose may reveal itself when the time is right.\",\n",
       " \"user : I can't stop overthinking. : Challenge your thoughts and focus on the present moment.\",\n",
       " \"user : I feel like I'm drowning. : Stay afloat; help is on the way.\",\n",
       " \"user : I don't know if I can keep going. : You've made it through tough times before, and you can do it again.\",\n",
       " \"user : I'm struggling to stay positive. : Even in darkness, there is always a glimmer of light.\",\n",
       " \"user : I'm afraid of failure. : Failure is not the opposite of success; it's a stepping stone to it.\",\n",
       " \"user : I feel like I'm losing control. : Take back control by focusing on what you can change.\",\n",
       " \"user : I'm worried about what others think of me. : What matters most is what you think of yourself.\",\n",
       " \"user : I'm struggling to forgive myself. : Forgive yourself for your past; you deserve peace.\",\n",
       " \"user : I feel like I'm suffocating. : Take a deep breath and remember that this too shall pass.\",\n",
       " \"user : I'm tired of pretending to be strong. : Strength lies in vulnerability; it's okay to ask for help.\",\n",
       " \"user : I feel like I'm losing my mind. : Your mind is strong, and you will overcome this.\",\n",
       " \"user : I'm struggling to find hope. : Hope is the anchor in life's stormy seas; hold on tight.\",\n",
       " \"user : I feel like I'm stuck in a rut. : Break free from routine and explore new possibilities.\",\n",
       " \"user : I don't know what I'm doing with my life. : The journey of self-discovery is an adventure worth taking.\",\n",
       " \"user : I'm tired of pretending everything is okay. : Authenticity is liberating; embrace your true feelings.\",\n",
       " \"user : I feel like I'm losing myself. : Sometimes, losing yourself is the first step to finding yourself.\",\n",
       " \"user : I'm tired of putting on a brave face. : True courage comes from facing your struggles head-on.\",\n",
       " \"user : I'm struggling to let go of the past. : The past is behind you; focus on building a brighter future.\",\n",
       " \"user : I feel like I'm running out of time. : Time is a gift; make the most of every moment.\",\n",
       " \"user : I'm afraid of being alone. : You are never truly alone; reach out to those who care.\",\n",
       " \"user : I feel like I'm invisible. : Your presence is felt by those who truly see you.\",\n",
       " \"user : I'm struggling to find my place in the world. : Your uniqueness is your strength; the world needs your light.\",\n",
       " \"user : I'm tired of feeling this way. : The road may be long, but every step forward brings you closer to peace.\",\n",
       " \"user : I'm feeling really down today. : Remember, tough times don't last forever.\",\n",
       " \"user : I just got some bad news. : You don't have to face this alone.\",\n",
       " 'user : Everything seems to be going wrong lately. : Every storm eventually passes.',\n",
       " \"user : I'm struggling to find happiness. : Happiness may seem elusive right now.\",\n",
       " \"user : I feel like I'm not good enough. : You are enough just as you are.\",\n",
       " \"user : I feel like I'm losing motivation. : Find inspiration in small victories and keep moving forward.\",\n",
       " \"user : I'm tired of pretending to be happy. : Happiness is not a mask; it's a state of being. Seek joy in the little things.\",\n",
       " \"user : I'm struggling to find balance in my life. : Balance is a journey; prioritize what truly matters to you.\",\n",
       " \"user : I'm feeling stuck in a negative cycle. : Break free from negativity by cultivating gratitude and positivity.\",\n",
       " \"user : I feel like I'm losing faith in myself. : Believe in your abilities, and you will achieve greatness.\",\n",
       " \"user : I'm tired of feeling hopeless. : Hope is the light that guides us through the darkest nights. Hold onto it.\",\n",
       " \"user : I'm struggling to find meaning in my life. : Life's meaning may evolve over time; embrace the journey of discovery.\",\n",
       " \"user : I feel like I'm constantly under pressure. : Release the pressure valve by practicing self-care and setting boundaries.\",\n",
       " \"user : I'm afraid of being judged by others. : The opinions of others do not define your worth. Be true to yourself.\",\n",
       " \"user : I feel like I'm losing hope for the future. : The future is filled with endless possibilities; keep dreaming and striving.\",\n",
       " \"user : I'm tired of feeling alone in my struggles. : Reach out to your support system; you're not alone in this journey.\",\n",
       " \"user : I'm struggling to find my voice. : Speak your truth with courage and conviction; your voice matters.\",\n",
       " \"user : I'm feeling overwhelmed by my emotions. : Embrace your emotions as messengers guiding you towards healing and growth.\",\n",
       " \"user : I feel like I'm losing sight of my goals. : Reconnect with your aspirations and take small steps towards them every day.\",\n",
       " \"user : I'm tired of feeling stuck in the past. : The past is a teacher, not a captor. Learn from it and move forward.\",\n",
       " \"user : I'm struggling to find inner peace. : Peace resides within you; cultivate it through mindfulness and self-compassion.\",\n",
       " \"user : I feel like I'm always comparing myself to others. : Comparison is the thief of joy. Celebrate your unique journey and progress.\",\n",
       " \"user : I'm tired of feeling like a failure. : Failure is a detour, not a destination. Keep persevering towards your goals.\",\n",
       " \"user : I'm struggling to find closure. : Closure comes from within; forgive, let go, and embrace the present moment.\",\n",
       " \"user : I feel like I'm losing faith in humanity. : Look for the kindness and compassion that still exist; they are beacons of hope.\",\n",
       " \"user : I'm tired of feeling stuck in a rut. : Break out of your routine and explore new horizons. Adventure awaits.\",\n",
       " \"user : I'm struggling to trust others. : Trust is earned over time. Start by trusting yourself and your instincts.\",\n",
       " \"user : I feel like I'm losing touch with reality. : Ground yourself in the present moment; reality is where true peace resides.\",\n",
       " \"user : I'm tired of feeling like I'm not good enough. : You are inherently worthy, regardless of external validation. Believe in yourself.\",\n",
       " \"user : I'm struggling to let go of the past. : Letting go is a process; release what no longer serves you and embrace the present.\",\n",
       " \"user : I feel like I'm losing my sense of purpose. : Your purpose may evolve over time; explore new passions and rediscover your calling.\",\n",
       " \"user : I'm tired of feeling like a burden to others. : You are worthy of love and support; allow others to be there for you.\",\n",
       " \"user : I'm struggling to find hope in dark times. : Hope is a beacon of light in the darkness; hold onto it, for dawn will come.\",\n",
       " \"user : I feel like I'm losing my identity. : Your identity is multifaceted and ever-evolving; embrace the journey of self-discovery.\",\n",
       " 'user : I miss their laughter. : Their laughter echoes in your memories, bringing warmth to your heart.',\n",
       " 'user : I long to hear their voice. : Their voice lingers in your mind, a comforting melody of love.',\n",
       " 'user : I miss our conversations. : Our conversations are etched in time, a testament to our bond.',\n",
       " 'user : I wish they were here. : Their presence is felt in every moment, guiding you with love.',\n",
       " 'user : I keep dreaming of them. : In dreams, they visit as whispers of love, comforting your soul.',\n",
       " 'user : I feel their absence deeply. : Their absence is a reminder of the depth of our connection.',\n",
       " 'user : I miss their hugs. : Their embrace lives on in your heart, offering solace in moments of need.',\n",
       " 'user : I wish I could turn back time. : In memories, time stands still, preserving moments of love.',\n",
       " \"user : I keep hoping they'll return. : Hope is a beacon of light, guiding you through the darkness.\",\n",
       " 'user : I feel lost without them. : In your heart, they remain a guiding light, leading you home.',\n",
       " 'user : I miss their smile. : Their smile brightens your memories, illuminating your path.',\n",
       " 'user : I keep reminiscing about us. : In reminiscence, we find solace, cherishing moments of love.',\n",
       " 'user : I wish they were still here. : Their presence lives on in your heart, an eternal flame of love.',\n",
       " 'user : I feel incomplete without them. : In your heart, you carry their essence, whole and complete.',\n",
       " \"user : I miss their love. : Their love remains a guiding force, leading you through life's journey.\",\n",
       " 'user : I long for their presence. : In their absence, their love surrounds you, comforting your soul.',\n",
       " 'user : I keep thinking of them. : In your thoughts, they reside, a constant presence of love.',\n",
       " 'user : I wish they were here to comfort me. : In memories, they offer solace, wrapping you in their love.',\n",
       " 'user : I miss our adventures together. : Our adventures live on in your heart, a testament to our bond.',\n",
       " 'user : I wish I could see them again. : In your heart, they are ever-present, a source of love and light.',\n",
       " 'user : I feel their absence every day. : Their absence is a reminder of the depth of our connection.',\n",
       " 'user : I miss their warmth. : Their warmth lingers in your memories, comforting your soul.',\n",
       " \"user : I keep hoping for a miracle. : In hope, miracles abound, guiding you through life's journey.\",\n",
       " 'user : I wish they were still by my side. : In your heart, they walk beside you, a constant companion of love.',\n",
       " 'user : I miss their presence. : Their presence is felt in every moment, guiding you with love.',\n",
       " 'user : I wish I could hear their laughter again. : In memories, their laughter resounds, bringing joy to your soul.',\n",
       " 'user : I keep dreaming of the past. : In dreams, memories come alive, filling your heart with love.',\n",
       " 'user : I wish they were here to share this moment. : In spirit, they are with you, sharing every moment of joy and sorrow.',\n",
       " 'user : I miss our time together. : Our time together lives on in your heart, a treasure of love.',\n",
       " 'user : I wish they were still part of my life. : In your heart, they remain, an eternal presence of love and light.']"
      ]
     },
     "execution_count": 8,
     "metadata": {},
     "output_type": "execute_result"
    }
   ],
   "source": [
    "filtered_data"
   ]
  },
  {
   "cell_type": "markdown",
   "id": "3f871aaf-d873-41c7-8946-e4eef7ac17c1",
   "metadata": {},
   "source": [
    "## 2. Tokenize the data <a name=\"tokenize\"></a>"
   ]
  },
  {
   "cell_type": "code",
   "execution_count": 9,
   "id": "5b2064fb-5dcc-4657-b470-0928d10e2ddc",
   "metadata": {
    "tags": []
   },
   "outputs": [],
   "source": [
    "# Pad the punctuation, to treat them as separate 'words'\n",
    "def pad_punctuation(s):\n",
    "    s = re.sub(f\"([{string.punctuation}, '\\n'])\", r\" \\1 \", s)\n",
    "    s = re.sub(\" +\", \" \", s)\n",
    "    return s\n",
    "\n",
    "\n",
    "text_data = [pad_punctuation(x) for x in filtered_data]"
   ]
  },
  {
   "cell_type": "code",
   "execution_count": 10,
   "id": "b87d7c65-9a46-492a-a5c0-a043b0d252f3",
   "metadata": {},
   "outputs": [
    {
     "data": {
      "text/plain": [
       "'user : i feel happy : that is great to hear'"
      ]
     },
     "execution_count": 10,
     "metadata": {},
     "output_type": "execute_result"
    }
   ],
   "source": [
    "# Display an example of a recipe\n",
    "example_data = text_data[4]\n",
    "example_data"
   ]
  },
  {
   "cell_type": "code",
   "execution_count": 11,
   "id": "9834f916-b21a-4104-acc9-f28d3bd7a8c1",
   "metadata": {
    "tags": []
   },
   "outputs": [
    {
     "name": "stderr",
     "output_type": "stream",
     "text": [
      "2024-03-19 16:17:25.507887: I tensorflow/stream_executor/cuda/cuda_gpu_executor.cc:980] successful NUMA node read from SysFS had negative value (-1), but there must be at least one NUMA node, so returning NUMA node zero\n",
      "2024-03-19 16:17:25.508301: W tensorflow/stream_executor/platform/default/dso_loader.cc:64] Could not load dynamic library 'libcublas.so.11'; dlerror: libcublas.so.11: cannot open shared object file: No such file or directory; LD_LIBRARY_PATH: /usr/local/nvidia/lib:/usr/local/nvidia/lib64\n",
      "2024-03-19 16:17:25.508376: W tensorflow/stream_executor/platform/default/dso_loader.cc:64] Could not load dynamic library 'libcublasLt.so.11'; dlerror: libcublasLt.so.11: cannot open shared object file: No such file or directory; LD_LIBRARY_PATH: /usr/local/nvidia/lib:/usr/local/nvidia/lib64\n",
      "2024-03-19 16:17:25.508446: W tensorflow/stream_executor/platform/default/dso_loader.cc:64] Could not load dynamic library 'libcufft.so.10'; dlerror: libcufft.so.10: cannot open shared object file: No such file or directory; LD_LIBRARY_PATH: /usr/local/nvidia/lib:/usr/local/nvidia/lib64\n",
      "2024-03-19 16:17:25.508517: W tensorflow/stream_executor/platform/default/dso_loader.cc:64] Could not load dynamic library 'libcurand.so.10'; dlerror: libcurand.so.10: cannot open shared object file: No such file or directory; LD_LIBRARY_PATH: /usr/local/nvidia/lib:/usr/local/nvidia/lib64\n",
      "2024-03-19 16:17:25.508594: W tensorflow/stream_executor/platform/default/dso_loader.cc:64] Could not load dynamic library 'libcusolver.so.11'; dlerror: libcusolver.so.11: cannot open shared object file: No such file or directory; LD_LIBRARY_PATH: /usr/local/nvidia/lib:/usr/local/nvidia/lib64\n",
      "2024-03-19 16:17:25.508690: W tensorflow/stream_executor/platform/default/dso_loader.cc:64] Could not load dynamic library 'libcusparse.so.11'; dlerror: libcusparse.so.11: cannot open shared object file: No such file or directory; LD_LIBRARY_PATH: /usr/local/nvidia/lib:/usr/local/nvidia/lib64\n",
      "2024-03-19 16:17:25.509345: W tensorflow/core/common_runtime/gpu/gpu_device.cc:1934] Cannot dlopen some GPU libraries. Please make sure the missing libraries mentioned above are installed properly if you would like to use GPU. Follow the guide at https://www.tensorflow.org/install/gpu for how to download and setup the required libraries for your platform.\n",
      "Skipping registering GPU devices...\n",
      "2024-03-19 16:17:25.509828: I tensorflow/core/platform/cpu_feature_guard.cc:193] This TensorFlow binary is optimized with oneAPI Deep Neural Network Library (oneDNN) to use the following CPU instructions in performance-critical operations:  AVX2 FMA\n",
      "To enable them in other operations, rebuild TensorFlow with the appropriate compiler flags.\n"
     ]
    }
   ],
   "source": [
    "# Convert to a Tensorflow Dataset\n",
    "text_ds = (\n",
    "    tf.data.Dataset.from_tensor_slices(text_data)\n",
    "    .batch(BATCH_SIZE)\n",
    "    .shuffle(1000)\n",
    ")"
   ]
  },
  {
   "cell_type": "code",
   "execution_count": 12,
   "id": "884c0bcb-0807-45a1-8f7e-a32f2c6fa4de",
   "metadata": {},
   "outputs": [],
   "source": [
    "# Create a vectorisation layer\n",
    "vectorize_layer = layers.TextVectorization(\n",
    "    standardize=\"lower\",\n",
    "    max_tokens=VOCAB_SIZE,\n",
    "    output_mode=\"int\",\n",
    "    output_sequence_length=MAX_LEN + 1,\n",
    ")"
   ]
  },
  {
   "cell_type": "code",
   "execution_count": 13,
   "id": "4d6dd34a-d905-497b-926a-405380ebcf98",
   "metadata": {},
   "outputs": [],
   "source": [
    "# Adapt the layer to the training set\n",
    "vectorize_layer.adapt(text_ds)\n",
    "vocab = vectorize_layer.get_vocabulary()"
   ]
  },
  {
   "cell_type": "code",
   "execution_count": 14,
   "id": "f6c1c7ce-3cf0-40d4-a3dc-ab7090f69f2f",
   "metadata": {},
   "outputs": [
    {
     "name": "stdout",
     "output_type": "stream",
     "text": [
      "0: \n",
      "1: [UNK]\n",
      "2: :\n",
      "3: user\n",
      "4: do\n",
      "5: i\n",
      "6: .\n",
      "7: you\n",
      "8: of\n",
      "9: is\n"
     ]
    }
   ],
   "source": [
    "# Display some token:word mappings\n",
    "for i, word in enumerate(vocab[:10]):\n",
    "    print(f\"{i}: {word}\")"
   ]
  },
  {
   "cell_type": "code",
   "execution_count": 15,
   "id": "1cc30186-7ec6-4eb6-b29a-65df6714d321",
   "metadata": {},
   "outputs": [
    {
     "name": "stdout",
     "output_type": "stream",
     "text": [
      "[  3   2   5  35 280   2  28   9 428  14 210   0   0   0   0   0   0   0\n",
      "   0   0   0   0   0   0   0   0   0   0   0   0   0   0   0   0   0   0\n",
      "   0   0   0   0   0   0   0   0   0   0   0   0   0   0   0   0   0   0\n",
      "   0   0   0   0   0   0   0   0   0   0   0   0   0   0   0   0   0   0\n",
      "   0   0   0   0   0   0   0   0   0]\n"
     ]
    }
   ],
   "source": [
    "# Display the same example converted to ints\n",
    "example_tokenised = vectorize_layer(example_data)\n",
    "print(example_tokenised.numpy())"
   ]
  },
  {
   "cell_type": "markdown",
   "id": "8c195efb-84c6-4be0-a989-a7542188ad35",
   "metadata": {},
   "source": [
    "## 3. Create the Training Set <a name=\"create\"></a>"
   ]
  },
  {
   "cell_type": "code",
   "execution_count": 16,
   "id": "740294a1-1a6b-4c89-92f2-036d7d1b788b",
   "metadata": {},
   "outputs": [],
   "source": [
    "# Create the training set of recipes and the same text shifted by one word\n",
    "def prepare_inputs(text):\n",
    "    text = tf.expand_dims(text, -1)\n",
    "    tokenized_sentences = vectorize_layer(text)\n",
    "    x = tokenized_sentences[:, :-1]\n",
    "    y = tokenized_sentences[:, 1:]\n",
    "    return x, y\n",
    "\n",
    "\n",
    "train_ds = text_ds.map(prepare_inputs)"
   ]
  },
  {
   "cell_type": "code",
   "execution_count": 17,
   "id": "cad80ffb-4298-4249-86b4-9918d62534c5",
   "metadata": {},
   "outputs": [],
   "source": [
    "example_input_output = train_ds.take(1).get_single_element()"
   ]
  },
  {
   "cell_type": "code",
   "execution_count": 18,
   "id": "67ff7263-f62d-44c1-997b-1aa99a393521",
   "metadata": {},
   "outputs": [
    {
     "data": {
      "text/plain": [
       "<tf.Tensor: shape=(80,), dtype=int64, numpy=\n",
       "array([  3,   2,   5,  74,  29, 233,   6,   2,  29, 233, 409,  18,  16,\n",
       "       105,  19, 220,  16, 183,   6,   0,   0,   0,   0,   0,   0,   0,\n",
       "         0,   0,   0,   0,   0,   0,   0,   0,   0,   0,   0,   0,   0,\n",
       "         0,   0,   0,   0,   0,   0,   0,   0,   0,   0,   0,   0,   0,\n",
       "         0,   0,   0,   0,   0,   0,   0,   0,   0,   0,   0,   0,   0,\n",
       "         0,   0,   0,   0,   0,   0,   0,   0,   0,   0,   0,   0,   0,\n",
       "         0,   0])>"
      ]
     },
     "execution_count": 18,
     "metadata": {},
     "output_type": "execute_result"
    }
   ],
   "source": [
    "# Example Input\n",
    "example_input_output[0][0]"
   ]
  },
  {
   "cell_type": "code",
   "execution_count": 19,
   "id": "ef2e2cad-414c-4e6d-a2ac-6b9598f9dd01",
   "metadata": {},
   "outputs": [
    {
     "data": {
      "text/plain": [
       "<tf.Tensor: shape=(80,), dtype=int64, numpy=\n",
       "array([  2,   5,  74,  29, 233,   6,   2,  29, 233, 409,  18,  16, 105,\n",
       "        19, 220,  16, 183,   6,   0,   0,   0,   0,   0,   0,   0,   0,\n",
       "         0,   0,   0,   0,   0,   0,   0,   0,   0,   0,   0,   0,   0,\n",
       "         0,   0,   0,   0,   0,   0,   0,   0,   0,   0,   0,   0,   0,\n",
       "         0,   0,   0,   0,   0,   0,   0,   0,   0,   0,   0,   0,   0,\n",
       "         0,   0,   0,   0,   0,   0,   0,   0,   0,   0,   0,   0,   0,\n",
       "         0,   0])>"
      ]
     },
     "execution_count": 19,
     "metadata": {},
     "output_type": "execute_result"
    }
   ],
   "source": [
    "# Example Output (shifted by one token)\n",
    "example_input_output[1][0]"
   ]
  },
  {
   "cell_type": "markdown",
   "id": "aff50401-3abe-4c10-bba8-b35bc13ad7d5",
   "metadata": {
    "tags": []
   },
   "source": [
    "## 5. Create the causal attention mask function <a name=\"causal\"></a>"
   ]
  },
  {
   "cell_type": "code",
   "execution_count": 20,
   "id": "554a4184-61c2-4eb7-a063-d965586a8188",
   "metadata": {},
   "outputs": [
    {
     "data": {
      "text/plain": [
       "array([[1, 1, 1, 1, 1, 1, 1, 1, 1, 1],\n",
       "       [0, 1, 1, 1, 1, 1, 1, 1, 1, 1],\n",
       "       [0, 0, 1, 1, 1, 1, 1, 1, 1, 1],\n",
       "       [0, 0, 0, 1, 1, 1, 1, 1, 1, 1],\n",
       "       [0, 0, 0, 0, 1, 1, 1, 1, 1, 1],\n",
       "       [0, 0, 0, 0, 0, 1, 1, 1, 1, 1],\n",
       "       [0, 0, 0, 0, 0, 0, 1, 1, 1, 1],\n",
       "       [0, 0, 0, 0, 0, 0, 0, 1, 1, 1],\n",
       "       [0, 0, 0, 0, 0, 0, 0, 0, 1, 1],\n",
       "       [0, 0, 0, 0, 0, 0, 0, 0, 0, 1]], dtype=int32)"
      ]
     },
     "execution_count": 20,
     "metadata": {},
     "output_type": "execute_result"
    }
   ],
   "source": [
    "def causal_attention_mask(batch_size, n_dest, n_src, dtype):\n",
    "    i = tf.range(n_dest)[:, None]\n",
    "    j = tf.range(n_src)\n",
    "    m = i >= j - n_src + n_dest\n",
    "    mask = tf.cast(m, dtype)\n",
    "    mask = tf.reshape(mask, [1, n_dest, n_src])\n",
    "    mult = tf.concat(\n",
    "        [tf.expand_dims(batch_size, -1), tf.constant([1, 1], dtype=tf.int32)], 0\n",
    "    )\n",
    "    return tf.tile(mask, mult)\n",
    "\n",
    "\n",
    "np.transpose(causal_attention_mask(1, 10, 10, dtype=tf.int32)[0])"
   ]
  },
  {
   "cell_type": "markdown",
   "id": "3501dbad-0860-40ad-b7d6-47950e37858f",
   "metadata": {},
   "source": [
    "## 6. Create a Transformer Block layer <a name=\"transformer\"></a>"
   ]
  },
  {
   "cell_type": "code",
   "execution_count": 21,
   "id": "5285a1cb-fce1-46b1-b088-b596002fa9ae",
   "metadata": {},
   "outputs": [],
   "source": [
    "class TransformerBlock(layers.Layer):\n",
    "    def __init__(self, num_heads, key_dim, embed_dim, ff_dim, dropout_rate=0.1):\n",
    "        super(TransformerBlock, self).__init__()\n",
    "        self.num_heads = num_heads\n",
    "        self.key_dim = key_dim\n",
    "        self.embed_dim = embed_dim\n",
    "        self.ff_dim = ff_dim\n",
    "        self.dropout_rate = dropout_rate\n",
    "        self.attn = layers.MultiHeadAttention(\n",
    "            num_heads, key_dim, output_shape=embed_dim\n",
    "        )\n",
    "        self.dropout_1 = layers.Dropout(self.dropout_rate)\n",
    "        self.ln_1 = layers.LayerNormalization(epsilon=1e-6)\n",
    "        self.ffn_1 = layers.Dense(self.ff_dim, activation=\"relu\")\n",
    "        self.ffn_2 = layers.Dense(self.embed_dim)\n",
    "        self.dropout_2 = layers.Dropout(self.dropout_rate)\n",
    "        self.ln_2 = layers.LayerNormalization(epsilon=1e-6)\n",
    "\n",
    "    def call(self, inputs):\n",
    "        input_shape = tf.shape(inputs)\n",
    "        batch_size = input_shape[0]\n",
    "        seq_len = input_shape[1]\n",
    "        causal_mask = causal_attention_mask(\n",
    "            batch_size, seq_len, seq_len, tf.bool\n",
    "        )\n",
    "        attention_output, attention_scores = self.attn(\n",
    "            inputs,\n",
    "            inputs,\n",
    "            attention_mask=causal_mask,\n",
    "            return_attention_scores=True,\n",
    "        )\n",
    "        attention_output = self.dropout_1(attention_output)\n",
    "        out1 = self.ln_1(inputs + attention_output)\n",
    "        ffn_1 = self.ffn_1(out1)\n",
    "        ffn_2 = self.ffn_2(ffn_1)\n",
    "        ffn_output = self.dropout_2(ffn_2)\n",
    "        return (self.ln_2(out1 + ffn_output), attention_scores)\n",
    "\n",
    "    def get_config(self):\n",
    "        config = super().get_config()\n",
    "        config.update(\n",
    "            {\n",
    "                \"key_dim\": self.key_dim,\n",
    "                \"embed_dim\": self.embed_dim,\n",
    "                \"num_heads\": self.num_heads,\n",
    "                \"ff_dim\": self.ff_dim,\n",
    "                \"dropout_rate\": self.dropout_rate,\n",
    "            }\n",
    "        )\n",
    "        return config"
   ]
  },
  {
   "cell_type": "markdown",
   "id": "076a6be0-9796-4974-9bcd-6ebbcfe7514e",
   "metadata": {
    "tags": []
   },
   "source": [
    "## 7. Create the Token and Position Embedding <a name=\"embedder\"></a>"
   ]
  },
  {
   "cell_type": "code",
   "execution_count": 22,
   "id": "fdf5cb25-88ae-4026-9e21-c1e6b5094a2c",
   "metadata": {},
   "outputs": [],
   "source": [
    "class TokenAndPositionEmbedding(layers.Layer):\n",
    "    def __init__(self, max_len, vocab_size, embed_dim):\n",
    "        super(TokenAndPositionEmbedding, self).__init__()\n",
    "        self.max_len = max_len\n",
    "        self.vocab_size = vocab_size\n",
    "        self.embed_dim = embed_dim\n",
    "        self.token_emb = layers.Embedding(\n",
    "            input_dim=vocab_size, output_dim=embed_dim\n",
    "        )\n",
    "        self.pos_emb = layers.Embedding(input_dim=max_len, output_dim=embed_dim)\n",
    "\n",
    "    def call(self, x):\n",
    "        maxlen = tf.shape(x)[-1]\n",
    "        positions = tf.range(start=0, limit=maxlen, delta=1)\n",
    "        positions = self.pos_emb(positions)\n",
    "        x = self.token_emb(x)\n",
    "        return x + positions\n",
    "\n",
    "    def get_config(self):\n",
    "        config = super().get_config()\n",
    "        config.update(\n",
    "            {\n",
    "                \"max_len\": self.max_len,\n",
    "                \"vocab_size\": self.vocab_size,\n",
    "                \"embed_dim\": self.embed_dim,\n",
    "            }\n",
    "        )\n",
    "        return config"
   ]
  },
  {
   "cell_type": "markdown",
   "id": "aac2e2d4-5980-47e3-b5b0-6c41c0c2d152",
   "metadata": {},
   "source": [
    "## 8. Build the Transformer model <a name=\"transformer_decoder\"></a>"
   ]
  },
  {
   "cell_type": "code",
   "execution_count": 23,
   "id": "8c57596e-e17d-4959-b6e8-7581b0bace3a",
   "metadata": {},
   "outputs": [],
   "source": [
    "inputs = layers.Input(shape=(None,), dtype=tf.int32)\n",
    "x = TokenAndPositionEmbedding(MAX_LEN, VOCAB_SIZE, EMBEDDING_DIM)(inputs)\n",
    "x, attention_scores = TransformerBlock(\n",
    "    N_HEADS, KEY_DIM, EMBEDDING_DIM, FEED_FORWARD_DIM\n",
    ")(x)\n",
    "outputs = layers.Dense(VOCAB_SIZE, activation=\"softmax\")(x)\n",
    "gpt = models.Model(inputs=inputs, outputs=[outputs, attention_scores])\n",
    "gpt.compile(\"adam\", loss=[losses.SparseCategoricalCrossentropy(), None])"
   ]
  },
  {
   "cell_type": "code",
   "execution_count": 24,
   "id": "1a1c3b0f-3382-444d-bb04-bae143ae5d61",
   "metadata": {},
   "outputs": [
    {
     "name": "stdout",
     "output_type": "stream",
     "text": [
      "Model: \"model\"\n",
      "_________________________________________________________________\n",
      " Layer (type)                Output Shape              Param #   \n",
      "=================================================================\n",
      " input_1 (InputLayer)        [(None, None)]            0         \n",
      "                                                                 \n",
      " token_and_position_embeddin  (None, None, 256)        250880    \n",
      " g (TokenAndPositionEmbeddin                                     \n",
      " g)                                                              \n",
      "                                                                 \n",
      " transformer_block (Transfor  ((None, None, 256),      658688    \n",
      " merBlock)                    (None, 2, None, None))             \n",
      "                                                                 \n",
      " dense_2 (Dense)             (None, None, 900)         231300    \n",
      "                                                                 \n",
      "=================================================================\n",
      "Total params: 1,140,868\n",
      "Trainable params: 1,140,868\n",
      "Non-trainable params: 0\n",
      "_________________________________________________________________\n"
     ]
    }
   ],
   "source": [
    "gpt.summary()"
   ]
  },
  {
   "cell_type": "code",
   "execution_count": 25,
   "id": "800a3c6e-fb11-4792-b6bc-9a43a7c977ad",
   "metadata": {
    "tags": []
   },
   "outputs": [],
   "source": [
    "if LOAD_MODEL:\n",
    "    # model.load_weights('./models/model')\n",
    "    gpt = models.load_model(\"./models/gpt\", compile=True)"
   ]
  },
  {
   "cell_type": "markdown",
   "id": "35b14665-4359-447b-be58-3fd58ba69084",
   "metadata": {},
   "source": [
    "## 9. Train the Transformer <a name=\"train\"></a>"
   ]
  },
  {
   "cell_type": "code",
   "execution_count": 26,
   "id": "3ddcff5f-829d-4449-99d2-9a3cb68f7d72",
   "metadata": {},
   "outputs": [],
   "source": [
    "# # Create a TextGenerator checkpoint\n",
    "# class TextGenerator(callbacks.Callback):\n",
    "#     def __init__(self, index_to_word, top_k=10):\n",
    "#         self.index_to_word = index_to_word\n",
    "#         self.word_to_index = {\n",
    "#             word: index for index, word in enumerate(index_to_word)\n",
    "#         }\n",
    "\n",
    "#     def sample_from(self, probs, temperature):\n",
    "#         probs = probs ** (1 / temperature)\n",
    "#         probs = probs / np.sum(probs)\n",
    "#         return np.random.choice(len(probs), p=probs), probs\n",
    "\n",
    "#     def generate(self, start_prompt, max_tokens, temperature):\n",
    "#         start_tokens = [\n",
    "#             self.word_to_index.get(x, 1) for x in start_prompt.split()\n",
    "#         ]\n",
    "#         sample_token = None\n",
    "#         info = []\n",
    "#         while len(start_tokens) < max_tokens and sample_token != 0:\n",
    "#             x = np.array([start_tokens])\n",
    "#             y, att = self.model.predict(x, verbose=0)\n",
    "#             sample_token, probs = self.sample_from(y[0][-1], temperature)\n",
    "#             info.append(\n",
    "#                 {\n",
    "#                     \"prompt\": start_prompt,\n",
    "#                     \"word_probs\": probs,\n",
    "#                     \"atts\": att[0, :, -1, :],\n",
    "#                 }\n",
    "#             )\n",
    "#             start_tokens.append(sample_token)\n",
    "#             start_prompt = start_prompt + \" \" + self.index_to_word[sample_token]\n",
    "#         print(f\"\\ngenerated text:\\n{start_prompt}\\n\")\n",
    "#         return info\n",
    "\n",
    "#     def on_epoch_end(self, epoch, logs=None):\n",
    "#         self.generate(\"response\", max_tokens=MAX_LEN, temperature=1.0)"
   ]
  },
  {
   "cell_type": "code",
   "execution_count": 27,
   "id": "de0fc499",
   "metadata": {},
   "outputs": [],
   "source": [
    "class TextGenerator(callbacks.Callback):\n",
    "    def __init__(self, index_to_word, top_k=10):\n",
    "        self.index_to_word = index_to_word\n",
    "        self.word_to_index = {word: index for index, word in enumerate(index_to_word)}\n",
    "\n",
    "    def sample_from(self, probs, temperature):\n",
    "        probs = probs ** (1 / temperature)\n",
    "        probs = probs / np.sum(probs)\n",
    "        return np.random.choice(len(probs), p=probs), probs\n",
    "\n",
    "    def generate(self, user_input, max_tokens, temperature):\n",
    "        start_prompt = \"user : \" + user_input + \" : \"  # Add \":\" after user input\n",
    "        start_tokens = [self.word_to_index.get(x, 1) for x in start_prompt.split()]\n",
    "        sample_token = None\n",
    "        bot_response = \"\"  # Initialize bot's response\n",
    "        info = []\n",
    "        generated_response = False  # Flag to track if a response has been generated\n",
    "        n = 0\n",
    "        while len(start_tokens) < max_tokens and sample_token != 0:\n",
    "            x = np.array([start_tokens])\n",
    "            y, att = self.model.predict(x, verbose=0)\n",
    "            sample_token, _ = self.sample_from(y[0][-1], temperature)\n",
    "            word = self.index_to_word[sample_token] if sample_token != 0 else ''\n",
    "            bot_response += ' ' + word  # Add space between words\n",
    "            start_tokens.append(sample_token)\n",
    "            # generated_response = True  # Set flag to indicate that a response has been generated\n",
    "        # Print user input with punctuation\n",
    "        print(f\"user: {user_input}\")\n",
    "        # Print bot's response\n",
    "        # Extract the last part before \":\" in the generated response\n",
    "        bot_response_parts = bot_response.split(\":\")\n",
    "        if len(bot_response_parts) > 1:\n",
    "            bot_response = bot_response_parts[-1].strip()\n",
    "        # Print bot's response\n",
    "        print(f\"bot: {bot_response}\\n\")\n",
    "        return info"
   ]
  },
  {
   "cell_type": "code",
   "execution_count": 28,
   "id": "349865fe-ffbe-450e-97be-043ae1740e78",
   "metadata": {},
   "outputs": [],
   "source": [
    "# Create a model save checkpoint\n",
    "model_checkpoint_callback = callbacks.ModelCheckpoint(\n",
    "    filepath=\"./checkpoint/checkpoint.ckpt\",\n",
    "    save_weights_only=True,\n",
    "    save_freq=\"epoch\",\n",
    "    verbose=0,\n",
    ")\n",
    "\n",
    "tensorboard_callback = callbacks.TensorBoard(log_dir=\"./logs\")\n",
    "\n",
    "# Tokenize starting prompt\n",
    "text_generator = TextGenerator(vocab)"
   ]
  },
  {
   "cell_type": "code",
   "execution_count": 29,
   "id": "461c2b3e-b5ae-4def-8bd9-e7bab8c63d8e",
   "metadata": {
    "tags": []
   },
   "outputs": [
    {
     "name": "stdout",
     "output_type": "stream",
     "text": [
      "Epoch 1/50\n",
      "10/10 [==============================] - 2s 93ms/step - loss: 2.5631 - dense_2_loss: 2.5631\n",
      "Epoch 2/50\n",
      "10/10 [==============================] - 1s 84ms/step - loss: 1.2439 - dense_2_loss: 1.2439\n",
      "Epoch 3/50\n",
      "10/10 [==============================] - 1s 88ms/step - loss: 0.9711 - dense_2_loss: 0.9711\n",
      "Epoch 4/50\n",
      "10/10 [==============================] - 1s 87ms/step - loss: 0.7884 - dense_2_loss: 0.7884\n",
      "Epoch 5/50\n",
      "10/10 [==============================] - 1s 88ms/step - loss: 0.6512 - dense_2_loss: 0.6512\n",
      "Epoch 6/50\n",
      "10/10 [==============================] - 1s 84ms/step - loss: 0.5526 - dense_2_loss: 0.5526\n",
      "Epoch 7/50\n",
      "10/10 [==============================] - 1s 88ms/step - loss: 0.4771 - dense_2_loss: 0.4771\n",
      "Epoch 8/50\n",
      "10/10 [==============================] - 1s 90ms/step - loss: 0.4300 - dense_2_loss: 0.4300\n",
      "Epoch 9/50\n",
      "10/10 [==============================] - 1s 84ms/step - loss: 0.3812 - dense_2_loss: 0.3812\n",
      "Epoch 10/50\n",
      "10/10 [==============================] - 1s 91ms/step - loss: 0.3487 - dense_2_loss: 0.3487\n",
      "Epoch 11/50\n",
      "10/10 [==============================] - 1s 86ms/step - loss: 0.3212 - dense_2_loss: 0.3212\n",
      "Epoch 12/50\n",
      "10/10 [==============================] - 1s 96ms/step - loss: 0.2986 - dense_2_loss: 0.2986\n",
      "Epoch 13/50\n",
      "10/10 [==============================] - 1s 88ms/step - loss: 0.2811 - dense_2_loss: 0.2811\n",
      "Epoch 14/50\n",
      "10/10 [==============================] - 1s 83ms/step - loss: 0.2661 - dense_2_loss: 0.2661\n",
      "Epoch 15/50\n",
      "10/10 [==============================] - 1s 89ms/step - loss: 0.2510 - dense_2_loss: 0.2510\n",
      "Epoch 16/50\n",
      "10/10 [==============================] - 1s 86ms/step - loss: 0.2365 - dense_2_loss: 0.2365\n",
      "Epoch 17/50\n",
      "10/10 [==============================] - 1s 85ms/step - loss: 0.2229 - dense_2_loss: 0.2229\n",
      "Epoch 18/50\n",
      "10/10 [==============================] - 1s 93ms/step - loss: 0.2130 - dense_2_loss: 0.2130\n",
      "Epoch 19/50\n",
      "10/10 [==============================] - 1s 84ms/step - loss: 0.2058 - dense_2_loss: 0.2058\n",
      "Epoch 20/50\n",
      "10/10 [==============================] - 1s 83ms/step - loss: 0.1989 - dense_2_loss: 0.1989\n",
      "Epoch 21/50\n",
      "10/10 [==============================] - 1s 84ms/step - loss: 0.1978 - dense_2_loss: 0.1978\n",
      "Epoch 22/50\n",
      "10/10 [==============================] - 1s 85ms/step - loss: 0.1830 - dense_2_loss: 0.1830\n",
      "Epoch 23/50\n",
      "10/10 [==============================] - 1s 101ms/step - loss: 0.1699 - dense_2_loss: 0.1699\n",
      "Epoch 24/50\n",
      "10/10 [==============================] - 1s 83ms/step - loss: 0.1635 - dense_2_loss: 0.1635\n",
      "Epoch 25/50\n",
      "10/10 [==============================] - 1s 87ms/step - loss: 0.1522 - dense_2_loss: 0.1522\n",
      "Epoch 26/50\n",
      "10/10 [==============================] - 1s 86ms/step - loss: 0.1465 - dense_2_loss: 0.1465\n",
      "Epoch 27/50\n",
      "10/10 [==============================] - 1s 93ms/step - loss: 0.1406 - dense_2_loss: 0.1406\n",
      "Epoch 28/50\n",
      "10/10 [==============================] - 1s 85ms/step - loss: 0.1321 - dense_2_loss: 0.1321\n",
      "Epoch 29/50\n",
      "10/10 [==============================] - 1s 84ms/step - loss: 0.1259 - dense_2_loss: 0.1259\n",
      "Epoch 30/50\n",
      "10/10 [==============================] - 1s 88ms/step - loss: 0.1192 - dense_2_loss: 0.1192\n",
      "Epoch 31/50\n",
      "10/10 [==============================] - 1s 89ms/step - loss: 0.1144 - dense_2_loss: 0.1144\n",
      "Epoch 32/50\n",
      "10/10 [==============================] - 1s 95ms/step - loss: 0.1103 - dense_2_loss: 0.1103\n",
      "Epoch 33/50\n",
      "10/10 [==============================] - 1s 91ms/step - loss: 0.1058 - dense_2_loss: 0.1058\n",
      "Epoch 34/50\n",
      "10/10 [==============================] - 1s 96ms/step - loss: 0.1027 - dense_2_loss: 0.1027\n",
      "Epoch 35/50\n",
      "10/10 [==============================] - 1s 88ms/step - loss: 0.1000 - dense_2_loss: 0.1000\n",
      "Epoch 36/50\n",
      "10/10 [==============================] - 1s 89ms/step - loss: 0.0975 - dense_2_loss: 0.0975\n",
      "Epoch 37/50\n",
      "10/10 [==============================] - 1s 85ms/step - loss: 0.0964 - dense_2_loss: 0.0964\n",
      "Epoch 38/50\n",
      "10/10 [==============================] - 1s 91ms/step - loss: 0.0935 - dense_2_loss: 0.0935\n",
      "Epoch 39/50\n",
      "10/10 [==============================] - 1s 83ms/step - loss: 0.0911 - dense_2_loss: 0.0911\n",
      "Epoch 40/50\n",
      "10/10 [==============================] - 1s 86ms/step - loss: 0.0893 - dense_2_loss: 0.0893\n",
      "Epoch 41/50\n",
      "10/10 [==============================] - 1s 85ms/step - loss: 0.0870 - dense_2_loss: 0.0870\n",
      "Epoch 42/50\n",
      "10/10 [==============================] - 1s 90ms/step - loss: 0.0860 - dense_2_loss: 0.0860\n",
      "Epoch 43/50\n",
      "10/10 [==============================] - 1s 99ms/step - loss: 0.0867 - dense_2_loss: 0.0867\n",
      "Epoch 44/50\n",
      "10/10 [==============================] - 1s 87ms/step - loss: 0.0833 - dense_2_loss: 0.0833\n",
      "Epoch 45/50\n",
      "10/10 [==============================] - 1s 93ms/step - loss: 0.0834 - dense_2_loss: 0.0834\n",
      "Epoch 46/50\n",
      "10/10 [==============================] - 1s 86ms/step - loss: 0.0828 - dense_2_loss: 0.0828\n",
      "Epoch 47/50\n",
      "10/10 [==============================] - 1s 84ms/step - loss: 0.0820 - dense_2_loss: 0.0820\n",
      "Epoch 48/50\n",
      "10/10 [==============================] - 1s 82ms/step - loss: 0.0820 - dense_2_loss: 0.0820\n",
      "Epoch 49/50\n",
      "10/10 [==============================] - 1s 84ms/step - loss: 0.0822 - dense_2_loss: 0.0822\n",
      "Epoch 50/50\n",
      "10/10 [==============================] - 1s 83ms/step - loss: 0.0811 - dense_2_loss: 0.0811\n"
     ]
    },
    {
     "data": {
      "text/plain": [
       "<keras.callbacks.History at 0x76879c54ef40>"
      ]
     },
     "execution_count": 29,
     "metadata": {},
     "output_type": "execute_result"
    }
   ],
   "source": [
    "gpt.fit(\n",
    "    train_ds,\n",
    "    epochs=EPOCHS,\n",
    "    callbacks=[model_checkpoint_callback, tensorboard_callback, text_generator],\n",
    ")"
   ]
  },
  {
   "cell_type": "code",
   "execution_count": 30,
   "id": "369bde44-2e39-4bc6-8549-a3a27ecce55c",
   "metadata": {
    "tags": []
   },
   "outputs": [
    {
     "name": "stderr",
     "output_type": "stream",
     "text": [
      "WARNING:absl:Found untraced functions such as embedding_layer_call_fn, embedding_layer_call_and_return_conditional_losses, embedding_1_layer_call_fn, embedding_1_layer_call_and_return_conditional_losses, multi_head_attention_layer_call_fn while saving (showing 5 of 30). These functions will not be directly callable after loading.\n"
     ]
    },
    {
     "name": "stdout",
     "output_type": "stream",
     "text": [
      "INFO:tensorflow:Assets written to: ./models/gpt/assets\n"
     ]
    },
    {
     "name": "stderr",
     "output_type": "stream",
     "text": [
      "INFO:tensorflow:Assets written to: ./models/gpt/assets\n"
     ]
    }
   ],
   "source": [
    "# Save the final model\n",
    "gpt.save(\"./models/gpt\")"
   ]
  },
  {
   "cell_type": "markdown",
   "id": "d64e02d2-84dc-40c8-8446-40c09adf1e20",
   "metadata": {},
   "source": [
    "# 3. Generate text using the Transformer"
   ]
  },
  {
   "cell_type": "code",
   "execution_count": 31,
   "id": "4ad23adb-3ec9-4e9a-9a59-b9f9bafca649",
   "metadata": {},
   "outputs": [],
   "source": [
    "def print_probs(info, vocab, top_k=20):\n",
    "    for i in info:\n",
    "        highlighted_text = []\n",
    "        for word, att_score in zip(\n",
    "            i[\"prompt\"].split(), np.mean(i[\"atts\"], axis=0)\n",
    "        ):\n",
    "            highlighted_text.append(\n",
    "                '<span style=\"background-color:rgba(135,206,250,'\n",
    "                + str(att_score / max(np.mean(i[\"atts\"], axis=0)))\n",
    "                + ');\">'\n",
    "                + word\n",
    "                + \"</span>\"\n",
    "            )\n",
    "        highlighted_text = \" \".join(highlighted_text)\n",
    "        display(HTML(highlighted_text))\n",
    "\n",
    "        word_probs = i[\"word_probs\"]\n",
    "        p_sorted = np.sort(word_probs)[::-1][:top_k]\n",
    "        i_sorted = np.argsort(word_probs)[::-1][:top_k]\n",
    "        for p, i in zip(p_sorted, i_sorted):\n",
    "            print(f\"{vocab[i]}:   \\t{np.round(100*p,2)}%\")\n",
    "        print(\"--------\\n\")"
   ]
  },
  {
   "cell_type": "code",
   "execution_count": 32,
   "id": "3cf25578-d47c-4b26-8252-fcdf2316a4ac",
   "metadata": {},
   "outputs": [
    {
     "name": "stdout",
     "output_type": "stream",
     "text": [
      "user: I can't forget my ex.\n",
      "bot:  i ' m doing with your heart , cherishing moments of love . \n",
      "\n"
     ]
    }
   ],
   "source": [
    "info = text_generator.generate(\n",
    "    \"I can't forget my ex.\", max_tokens=MAX_LEN, temperature=1.0\n",
    ")"
   ]
  },
  {
   "cell_type": "code",
   "execution_count": 37,
   "id": "e46b577c",
   "metadata": {},
   "outputs": [
    {
     "name": "stdout",
     "output_type": "stream",
     "text": [
      "user: I can't connect with new culture of a foreign country.\n",
      "bot:  in spirit , they are with you , sharing every moment of joy and sorrow . \n",
      "\n"
     ]
    }
   ],
   "source": [
    "info = text_generator.generate(\n",
    "    \"I can't connect with new culture of a foreign country.\", max_tokens=MAX_LEN, temperature=1.0\n",
    ")"
   ]
  },
  {
   "cell_type": "code",
   "execution_count": 34,
   "id": "4ae2da8e-9b7c-4b71-b37b-021115b3d7ea",
   "metadata": {},
   "outputs": [
    {
     "name": "stdout",
     "output_type": "stream",
     "text": [
      "user: I miss my home.\n",
      "bot:  i am a chatbot programmed to assist users \n",
      "\n"
     ]
    }
   ],
   "source": [
    "info = text_generator.generate(\n",
    "    \"I miss my home.\", max_tokens=MAX_LEN, temperature=0.7\n",
    ")"
   ]
  },
  {
   "cell_type": "code",
   "execution_count": 35,
   "id": "de813aa2",
   "metadata": {},
   "outputs": [
    {
     "name": "stdout",
     "output_type": "stream",
     "text": [
      "user: I am worried about the war.\n",
      "bot:  what has keys but can not open locks ? a piano \n",
      "\n"
     ]
    }
   ],
   "source": [
    "info = text_generator.generate(\n",
    "    \"I am worried about the war.\", max_tokens=MAX_LEN, temperature=0.9\n",
    ")"
   ]
  }
 ],
 "metadata": {
  "kernelspec": {
   "display_name": "Python 3 (ipykernel)",
   "language": "python",
   "name": "python3"
  },
  "language_info": {
   "codemirror_mode": {
    "name": "ipython",
    "version": 3
   },
   "file_extension": ".py",
   "mimetype": "text/x-python",
   "name": "python",
   "nbconvert_exporter": "python",
   "pygments_lexer": "ipython3",
   "version": "3.8.10"
  },
  "vscode": {
   "interpreter": {
    "hash": "31f2aee4e71d21fbe5cf8b01ff0e069b9275f58929596ceb00d14d90e3e16cd6"
   }
  }
 },
 "nbformat": 4,
 "nbformat_minor": 5
}
