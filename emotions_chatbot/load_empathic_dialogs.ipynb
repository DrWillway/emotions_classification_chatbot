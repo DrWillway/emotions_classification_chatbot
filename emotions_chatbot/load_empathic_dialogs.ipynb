{
  "cells": [
    {
      "cell_type": "markdown",
      "metadata": {
        "id": "IQjWByH3ZBC8"
      },
      "source": [
        "# Text Generation using FNet\n",
        "\n",
        "**Description:** FNet transformer for text generation in Keras."
      ]
    },
    {
      "cell_type": "markdown",
      "metadata": {
        "id": "-kC_VaFWZBDB"
      },
      "source": [
        "## Imports"
      ]
    },
    {
      "cell_type": "code",
      "execution_count": 65,
      "metadata": {
        "id": "D8Seho5mZBDB"
      },
      "outputs": [],
      "source": [
        "import tensorflow as tf\n",
        "from tensorflow import keras\n",
        "from tensorflow.keras import layers\n",
        "import pickle\n"
      ]
    },
    {
      "cell_type": "code",
      "execution_count": 66,
      "metadata": {},
      "outputs": [],
      "source": [
        "\n",
        "class FNetEncoder(layers.Layer):\n",
        "    def __init__(self, embed_dim, dense_dim, **kwargs):\n",
        "        super().__init__(**kwargs)\n",
        "        self.embed_dim = embed_dim\n",
        "        self.dense_dim = dense_dim\n",
        "        self.dense_proj = keras.Sequential(\n",
        "            [\n",
        "                layers.Dense(dense_dim, activation=\"relu\"),\n",
        "                layers.Dense(embed_dim),\n",
        "            ]\n",
        "        )\n",
        "        self.layernorm_1 = layers.LayerNormalization()\n",
        "        self.layernorm_2 = layers.LayerNormalization()\n",
        "\n",
        "    def call(self, inputs):\n",
        "        # Casting the inputs to complex64\n",
        "        inp_complex = tf.cast(inputs, tf.complex64)\n",
        "        # Projecting the inputs to the frequency domain using FFT2D and\n",
        "        # extracting the real part of the output\n",
        "        fft = tf.math.real(tf.signal.fft2d(inp_complex))\n",
        "        proj_input = self.layernorm_1(inputs + fft)\n",
        "        proj_output = self.dense_proj(proj_input)\n",
        "        return self.layernorm_2(proj_input + proj_output)\n",
        "    \n",
        "class FNetDecoder(layers.Layer):\n",
        "    def __init__(self, embed_dim, latent_dim, num_heads, **kwargs):\n",
        "        super().__init__(**kwargs)\n",
        "        self.embed_dim = embed_dim\n",
        "        self.latent_dim = latent_dim\n",
        "        self.num_heads = num_heads\n",
        "        self.attention_1 = layers.MultiHeadAttention(\n",
        "            num_heads=num_heads, key_dim=embed_dim\n",
        "        )\n",
        "        self.attention_2 = layers.MultiHeadAttention(\n",
        "            num_heads=num_heads, key_dim=embed_dim\n",
        "        )\n",
        "        self.dense_proj = keras.Sequential(\n",
        "            [\n",
        "                layers.Dense(latent_dim, activation=\"relu\"),\n",
        "                layers.Dense(embed_dim),\n",
        "            ]\n",
        "        )\n",
        "        self.layernorm_1 = layers.LayerNormalization()\n",
        "        self.layernorm_2 = layers.LayerNormalization()\n",
        "        self.layernorm_3 = layers.LayerNormalization()\n",
        "        self.supports_masking = True\n",
        "\n",
        "    def call(self, inputs, encoder_outputs, mask=None):\n",
        "        causal_mask = self.get_causal_attention_mask(inputs)\n",
        "        if mask is not None:\n",
        "            padding_mask = tf.cast(mask[:, tf.newaxis, :], dtype=\"int32\")\n",
        "            padding_mask = tf.minimum(padding_mask, causal_mask)\n",
        "\n",
        "        attention_output_1 = self.attention_1(\n",
        "            query=inputs, value=inputs, key=inputs, attention_mask=causal_mask\n",
        "        )\n",
        "        out_1 = self.layernorm_1(inputs + attention_output_1)\n",
        "\n",
        "        attention_output_2 = self.attention_2(\n",
        "            query=out_1,\n",
        "            value=encoder_outputs,\n",
        "            key=encoder_outputs,\n",
        "            attention_mask=padding_mask,\n",
        "        )\n",
        "        out_2 = self.layernorm_2(out_1 + attention_output_2)\n",
        "\n",
        "        proj_output = self.dense_proj(out_2)\n",
        "        return self.layernorm_3(out_2 + proj_output)\n",
        "\n",
        "    def get_causal_attention_mask(self, inputs):\n",
        "        input_shape = tf.shape(inputs)\n",
        "        batch_size, sequence_length = input_shape[0], input_shape[1]\n",
        "        i = tf.range(sequence_length)[:, tf.newaxis]\n",
        "        j = tf.range(sequence_length)\n",
        "        mask = tf.cast(i >= j, dtype=\"int32\")\n",
        "        mask = tf.reshape(mask, (1, input_shape[1], input_shape[1]))\n",
        "        mult = tf.concat(\n",
        "            [tf.expand_dims(batch_size, -1), tf.constant([1, 1], dtype=tf.int32)],\n",
        "            axis=0,\n",
        "        )\n",
        "        return tf.tile(mask, mult)\n",
        "    \n",
        "\n",
        "class PositionalEmbedding(layers.Layer):\n",
        "    def __init__(self, sequence_length, vocab_size, embed_dim, **kwargs):\n",
        "        super().__init__(**kwargs)\n",
        "        self.token_embeddings = layers.Embedding(\n",
        "            input_dim=vocab_size, output_dim=embed_dim\n",
        "        )\n",
        "        self.position_embeddings = layers.Embedding(\n",
        "            input_dim=sequence_length, output_dim=embed_dim\n",
        "        )\n",
        "        self.sequence_length = sequence_length\n",
        "        self.vocab_size = vocab_size\n",
        "        self.embed_dim = embed_dim\n",
        "\n",
        "    def call(self, inputs):\n",
        "        length = tf.shape(inputs)[-1]\n",
        "        positions = tf.range(start=0, limit=length, delta=1)\n",
        "        embedded_tokens = self.token_embeddings(inputs)\n",
        "        embedded_positions = self.position_embeddings(positions)\n",
        "        return embedded_tokens + embedded_positions\n",
        "\n",
        "    def compute_mask(self, inputs, mask=None):\n",
        "        return tf.math.not_equal(inputs, 0)\n"
      ]
    },
    {
      "cell_type": "markdown",
      "metadata": {
        "id": "5YW3ZaZpZBDH"
      },
      "source": [
        "## Loading the model"
      ]
    },
    {
      "cell_type": "code",
      "execution_count": 67,
      "metadata": {},
      "outputs": [],
      "source": [
        "# Register the custom layers\n",
        "tf.keras.utils.get_custom_objects().update({\"FNetEncoder\": FNetEncoder})\n",
        "tf.keras.utils.get_custom_objects().update({\"FNetDecoder\": FNetDecoder})\n",
        "tf.keras.utils.get_custom_objects().update({\"PositionalEmbedding\": PositionalEmbedding})\n",
        "\n",
        "# Load the model\n",
        "loaded_model = tf.keras.models.load_model('models/chatbot_emotions.keras')\n",
        "\n",
        "# Show the model architecture\n",
        "# loaded_model.summary()\n"
      ]
    },
    {
      "cell_type": "markdown",
      "metadata": {
        "id": "M0g3yGJwZBDH"
      },
      "source": [
        "## Performing inference"
      ]
    },
    {
      "cell_type": "code",
      "execution_count": 68,
      "metadata": {
        "id": "oFeJBSjEZBDI"
      },
      "outputs": [],
      "source": [
        "VOCAB_SIZE = 8192\n",
        "MAX_LENGTH = 100\n",
        "BATCH_SIZE = 64\n",
        "\n",
        "def preprocess_text(sentence):\n",
        "    sentence = tf.strings.lower(sentence)\n",
        "    # Adding a space between the punctuation and the last word to allow better tokenization\n",
        "    sentence = tf.strings.regex_replace(sentence, r\"([?.!,])\", r\" \\1 \")\n",
        "    # Replacing multiple continuous spaces with a single space\n",
        "    sentence = tf.strings.regex_replace(sentence, r\"\\s\\s+\", \" \")\n",
        "    # Replacing non-English words with spaces\n",
        "    sentence = tf.strings.regex_replace(sentence, r\"[^a-z?.!,]+\", \" \")\n",
        "    # Removing \"_comma_\" from sentences\n",
        "    sentence = tf.strings.regex_replace(sentence, \"_comma_\", \",\")\n",
        "    sentence = tf.strings.strip(sentence)\n",
        "    sentence = tf.strings.join([\"[start]\", sentence, \"[end]\"], separator=\" \")\n",
        "    return sentence"
      ]
    },
    {
      "cell_type": "code",
      "execution_count": 69,
      "metadata": {},
      "outputs": [],
      "source": [
        "pkl_file = open(\"qa.pkl\", \"rb\")\n",
        "qa = pickle.load(pkl_file)"
      ]
    },
    {
      "cell_type": "code",
      "execution_count": 70,
      "metadata": {},
      "outputs": [],
      "source": [
        "\n",
        "vectorizer = layers.TextVectorization(\n",
        "    VOCAB_SIZE,\n",
        "    standardize=preprocess_text,\n",
        "    output_mode=\"int\",\n",
        "    output_sequence_length=MAX_LENGTH,\n",
        ")\n",
        "\n",
        "# We will adapt the vectorizer to both the questions and answers\n",
        "# This dataset is batched to parallelize and speed up the process\n",
        "vectorizer.adapt(tf.data.Dataset.from_tensor_slices((qa)).batch(BATCH_SIZE))\n"
      ]
    },
    {
      "cell_type": "code",
      "execution_count": 71,
      "metadata": {},
      "outputs": [
        {
          "name": "stdout",
          "output_type": "stream",
          "text": [
            "['', '[UNK]', '.', '[start]', '[end]', 'i', 'to', 'a', 'comma', 'it', 'the', 'you', 'that', 'my', '!', 'and', 'was', '?', 'of', 'is', 'so', 'for', 'sad', 's', 'in', 'have', ',', 't', 'neutral', 'me', 'but', 'be', 'he', 'on', 'angry', 'joyful', 'do', 'they', 'am', 'with', 'did', 'what', 'just', 'are', 'm', 'at', 'she', 'really', 'not', 'good', 'when', 'can', 'get', 'had', 'out', 'like', 'about', 'oh', 'time', 'we', 'all', 'up', 'her', 'no', 'your', 'fearful', 'been', 'this', 'will', 'well', 'got', 'surprised', 'how', 'know', 'one', 'going', 'too', 'very', 'him', 'there', 'them', 'feel', 'would', 'work', 'some', 'go', 'think', 'hope', 'great', 'don', 'as', 'yes', 'now', 'day', 'yeah', 'were', 'sure', 'from', 'new', 'an', 'back', 'if', 'nice', 'last', 'bad', 'people', 'much', 'friend', 'or', 'always', 've', 'see', 'lot', 'hard', 'went', 'didn', 'job', 'other', 'happy', 'hit', 'sorry', 'never', 'make', 'love', 'his', 'because', 'more', 'old', 'sounds', 'has', 'could', 'wow', 'week', 'home', 'first', 'years', 'right', 'something', 'car', 'should', 'still', 'today', 'over', 'hear', 'pretty', 'school', 'even', 'why', 'dog', 'friends', 'long', 'life', 'conv', 'things', 'better', 'year', 'though', 'way', 'its', 'family', 'fun', 'take', 'off', 'someone', 'want', 'by', 'little', 'then', 'must', 'best', 'felt', 'after', 'made', 'night', 'maybe', 're', 'next', 'll', 'kids', 'away', 'kind', 'awesome', 'into', 'house', 'who', 'thats', 'lol', 'getting', 'our', 'being', 'need', 'money', 'find', 'before', 'any', 'thing', 'down', 'feeling', 'only', 'where', 'found', 'able', 'bet', 'their', 'sometimes', 'glad', 'few', 'days', 'wait', 'myself', 'help', 'around', 'everything', 'than', 'happened', 'doing', 'try', 'those', 'anything', 'wish', 'does', 'while', 'recently', 'big', 'ago', 'cool', 'saw', 'through', 'weekend', 'thought', 'im', 'makes', 'ever', 'same', 'keep', 'since', 'many', 'man', 'having', 'such', 'hate', 'come', 'took', 'again', 'scared', 'wanted', 'looking', 'guess', 'excited', 'yesterday', 'wife', 'yea', 'used', 'won', 'least', 'let', 'say', 'every', 'came', 'ready', 'son', 'us', 'brother', 'food', 'done', 'believe', 'live', 'put', 'amazing', 'trying', 'thank', 'nervous', 'miss', 'soon', 'tell', 'wasn', 'husband', 'actually', 'place', 'left', 'understand', 'bit', 'here', 'everyone', 'd', 'person', 'scary', 'two', 'terrible', 'mom', 'daughter', 'care', 'told', 'lost', 'most', 'hopefully', 'times', 'proud', 'also', 'said', 'another', 'once', 'alone', 'girlfriend', 'nothing', 'okay', 'parents', 'college', 'start', 'haha', 'look', 'mad', 'give', 'happen', 'birthday', 'kid', 'coming', 'cat', 'months', 'remember', 'working', 'definitely', 'game', 'play', 'month', 'tomorrow', 'end', 'favorite', 'pay', 'trip', 'bought', 'almost', 'passed', 'finally', 'upset', 'true', 'started', 'thanks', 'probably', 'mean', 'ok', 'might', 'own', 'yet', 'quite', 'together', 'enough', 'stuff', 'high', 'party', 'watch', 'test', 'eat', 'without', 'idea', 'vacation', 'weeks', 'super', 'haven', 'couldn', 'taking', 'knew', 'doesn', 'guy', 'store', 'tried', 'which', 'stay', 'dont', 'memories', 'luck', 'world', 'buy', 'dad', 'until', 'enjoy', 'baby', 'agree', 'mine', 'thinking', 'yourself', 'move', 'call', 'lucky', 'gave', 'show', 'morning', 'these', 'sucks', 'else', 'girl', 'heard', 'anyone', 'close', 'talk', 'couple', 'part', 'forward', 'happens', 'seems', 'ended', 'sister', 'far', 'sweet', 'sick', 'both', 'moved', 'summer', 'prepared', 'usually', 'crazy', 'wrong', 'already', 'whole', 'movie', 'imagine', 'exciting', 'company', 'waiting', 'fine', 'past', 'especially', 'leave', 'worried', 'late', 'worked', 'use', 'tough', 'guys', 'win', 'outside', 'experience', 'important', 'afraid', 'hurt', 'called', 'wonderful', 'worst', 'seen', 'cant', 'horrible', 'watching', 'died', 'playing', 'phone', 'making', 'front', 'dogs', 'child', 'awful', 'gone', 'clean', 'sleep', 'gets', 'deal', 'needed', 'wouldn', 'mother', 'either', 'broke', 'dinner', 'interview', 'seeing', 'trust', 'situation', 'room', 'driving', 'change', 'reason', 'different', 'congratulations', 'hours', 'didnt', 'stop', 'boss', 'class', 'neighbor', 'surprise', 'town', 'isn', 'goes', 'fast', 'young', 'lonely', 'jealous', 'decided', 'drive', 'visit', 'each', 'exam', 'team', 'talking', 'mind', 'huge', 'door', 'date', 'exactly', 'asked', 'real', 'during', 'sound', 'gonna', 'ate', 'news', 'confident', 'totally', 'ran', 'may', 'loved', 'walking', 'ask', 'pizza', 'feels', 'turned', 'often', 'brought', 'worth', 'gross', 'forgot', 'boyfriend', 'annoying', 'paid', 'plan', 'free', 'later', 'games', 'anymore', 'pet', 'married', 'worse', 'water', 'run', 'promotion', 'spend', 'seem', 'check', 'break', 'meet', 'moving', 'looked', 'course', 'hoping', 'ah', 'heart', 'god', 'shocked', 'full', 'children', 'worry', 'special', 'restaurant', 'learn', 'future', 'tonight', 'starting', 'road', 'funny', 'easy', 'older', 'movies', 'city', 'lose', 'living', 'lately', 'eating', 'works', 'turn', 'beach', 'moment', 'difficult', 'congrats', 'relationship', 'doctor', 'country', 'side', 'point', 'comes', 'weird', 'childhood', 'small', 'kept', 'boy', 'pass', 'fell', 'early', 'bring', 'interesting', 'face', 'thankful', 'busy', 'walk', 'ha', 'others', 'tv', 'caught', 'instead', 'expecting', 'problem', 'positive', 'park', 'bed', 'online', 'luckily', 'cake', 'plans', 'ones', 'expensive', 'watched', 'supposed', 'meeting', 'spent', 'gift', 'extra', 'unfortunately', 'type', 'smart', 'helped', 'stole', 'takes', 'lots', 'impressed', 'studied', 'puppy', 'met', 'raise', 'police', 'coworker', 'age', 'bunch', 'apartment', 'head', 'three', 'video', 'safe', 'open', 'accident', 'walked', 'law', 'card', 'cut', 'hey', 'christmas', 'neighbors', 'football', 'absolutely', 'studying', 'paying', 'lunch', 'business', 'area', 'trouble', 'th', 'ride', 'name', 'behind', 'aw', 'ugh', 'grade', 'cute', 'ashamed', 'state', 'running', 'pick', 'father', 'anxious', 'hot', 'younger', 'chance', 'pain', 'frustrating', 'embarrassed', 'planned', 'under', 'rough', 'fall', 'rest', 'planning', 'final', 'healthy', 'guilty', 'girls', 'study', 'self', 'order', 'manager', 'less', 'gotten', 'beautiful', 'completely', 'aren', 'weight', 'played', 'health', 'grandmother', 'disappointed', 'kinda', 'yard', 'season', 'near', 'learned', 'grateful', 'entire', 'appreciate', 'animals', 'set', 'lives', 'music', 'forever', 'threw', 'shopping', 'save', 'rain', 'looks', 'insurance', 'expect', 'weather', 'local', 'fix', 'second', 'nostalgic', 'minutes', 'indeed', 'case', 'yep', 'semester', 'realized', 'inside', 'turns', 'project', 'forget', 'co', 'catch', 'realize', 'lottery', 'hour', 'afford', 'position', 'knows', 'grow', 'sitting', 'cannot', 'needs', 'eventually', 'cause', 'wants', 'ticket', 'thankfully', 'partner', 'helps', 'anyway', 'hang', 'bills', 'woke', 'taken', 'ex', 'dark', 'clothes', 'terrified', 'shouldn', 'read', 'pictures', 'lived', 'devastated', 'street', 'quickly', 'poor', 'impressive', 'hi', 'goodness', 'fan', 'along', 'support', 'single', 'middle', 'cancer', 'keeps', 'half', 'grocery', 'concert', 'computer', 'honestly', 'everyday', 'drink', 'ordered', 'growing', 'finished', 'coffee', 'cats', 'problems', 'nope', 'matter', 'fair', 'truck', 'quiet', 'office', 'neighborhood', 'due', 'aww', 'results', 'math', 'earlier', 'dang', 'bar', 'across', 'relaxing', 'pregnant', 'perfect', 'ice', 'control', 'alright', 'stand', 'furious', 'dream', 'animal', 'seemed', 'liked', 'embarrassing', 'throw', 'issues', 'envious', 'easier', 'diet', 'couldnt', 'bathroom', 'top', 'worker', 'window', 'wedding', 'group', 'red', 'gas', 'born', 'traffic', 'leaving', 'hopeful', 'credit', 'stuck', 'truly', 'tickets', 'sense', 'parent', 'graduated', 'pants', 'loud', 'woman', 'lady', 'hospital', 'fight', 'deserve', 'dead', 'accidentally', 'wonder', 'service', 'serious', 'grandma', 'rude', 'missed', 'losing', 'book', 'word', 'telling', 'stressful', 'stress', 'sentimental', 'relax', 'hair', 'annoyed', 'wallet', 'noticed', 'mess', 'loss', 'drunk', 'classes', 'applied', 'missing', 'longer', 'caring', 'brand', 'suppose', 'starts', 'return', 'honest', 'content', 'sent', 'saying', 'mistake', 'helping', 'fly', 'parking', 'talked', 'storm', 'stopped', 'giving', 'faith', 'cleaning', 'become', 'tired', 'sort', 'shoes', 'pool', 'major', 'line', 'hahaha', 'camping', 'buddy', 'broken', 'training', 'teacher', 'large', 'hand', 'gym', 'enjoyed', 'driver', 'power', 'nephew', 'mostly', 'friday', 'faithful', 'disgusting', 'degree', 'choice', 'trash', 'stupid', 'possible', 'pets', 'everywhere', 'wanting', 'somewhere', 'cheated', 'asking', 'treat', 'changed', 'cars', 'careful', 'bag', 'shows', 'florida', 'fear', 'cook', 'box', 'attention', 'cream', 'stinks', 'social', 'offer', 'normal', 'feelings', 'expected', 'die', 'bummer', 'awhile', 'strong', 'short', 'saving', 'knowing', 'happening', 'surgery', 'smell', 'sit', 'rather', 'mail', 'hold', 'hasn', 'coworkers', 'roommate', 'putting', 'monday', 'means', 'cost', 'strange', 'story', 'received', 'cousin', 'shame', 'light', 'jobs', 'invited', 'himself', 'anxiety', 'amount', 'ahead', 'using', 'staying', 'saved', 'photos', 'eyes', 'death', 'whatever', 'places', 'fixed', 'figure', 'dropped', 'certainly', 'afterwards', 'stayed', 'several', 'meal', 'kitchen', 'issue', 'blood', 'learning', 'cruise', 'unexpected', 'terrifying', 'however', 'dollars', 'cold', 'trump', 'fault', 'cheating', 'blame', 'bank', 'quit', 'presentation', 'piece', 'nerve', 'nasty', 'memory', 'flying', 'drove', 'confidence', 'chocolate', 'buying', 'barely', 'yup', 'weren', 'pulled', 'gosh', 'failed', 'band', 'wear', 'teach', 'plus', 'number', 'notice', 'ive', 'given', 'church', 'black', 'beat', 'picked', 'listen', 'certain', 'ya', 'words', 'unfortunate', 'trusting', 'travel', 'toys', 'student', 'speak', 'sat', 'public', 'extremely', 'cheap', 'aunt', 'slow', 'share', 'omg', 'offered', 'miles', 'loves', 'lied', 'delicious', 'dating', 'step', 'handle', 'finish', 'cooking', 'body', 'whenever', 'wasnt', 'touch', 'grew', 'fire', 'bike', 'ton', 'ground', 'floor', 'fact', 'disney', 'disgusted', 'soccer', 'sleeping', 'meant', 'gotta', 'cried', 'showed', 'moments', 'harder', 'cheat', 'career', 'babies', 'stressed', 'send', 'peace', 'jumped', 'hadn', 'graduate', 'focus', 'decision', 'cup', 'candy', 'bonus', 'between', 'asleep', 'alive', 'yikes', 'smash', 'replace', 'reminded', 'prepare', 'noise', 'fit', 'dress', 'advice', 'winter', 'pays', 'hands', 'finding', 'bus', 'beer', 'ways', 'themselves', 'scare', 'pooped', 'keeping', 'hungry', 'financial', 'current', 'blast', 'workers', 'wont', 'sunday', 'process', 'lie', 'laugh', 'ill', 'cover', 'towards', 'says', 'flight', 'daughters', 'celebrate', 'boring', 'tripped', 'spending', 'speech', 'similar', 'minute', 'lesson', 'feet', 'cry', 'comfortable', 'blue', 'bill', 'anywhere', 'wake', 'secret', 'package', 'internet', 'four', 'empty', 'doesnt', 'checked', 'alot', 'winning', 'uh', 'switch', 'report', 'quick', 'mistakes', 'likes', 'facebook', 'etc', 'train', 'system', 'scratch', 'returned', 'reading', 'poop', 'picture', 'nintendo', 'low', 'kill', 'couch', 'accepted', 'vet', 'table', 'seriously', 'relate', 'pray', 'paper', 'list', 'laptop', 'effort', 'crying', 'complain', 'answer', 'against', 'stepped', 'shop', 'rent', 'promised', 'present', 'perhaps', 'managed', 'lovely', 'hanging', 'fresh', 'fingers', 'distance', 'contact', 'chicken', 'avoid', 'sports', 'spilled', 'snake', 'shirt', 'rug', 'roller', 'opportunity', 'k', 'items', 'herself', 'event', 'drinking', 'cash', 'basement', 'awkward', 'attack', 'twice', 'spot', 'loyal', 'lazy', 'killed', 'hurricane', 'hearing', 'fishing', 'fired', 'fantastic', 'disappointing', 'deep', 'badly', 'youtube', 'visiting', 'upcoming', 'swimming', 'sisters', 'packed', 'homeless', 'dangerous', 'competition', 'brothers', 'attitude', 'air', 'yours', 'university', 'track', 'ruined', 'random', 'practice', 'normally', 'marriage', 'known', 'human', 'horror', 'grown', 'eye', 'dude', 'dent', 'bummed', 'till', 'stranger', 'relief', 'nobody', 'joy', 'involved', 'exams', 'emotional', 'easily', 'doubt', 'creepy', 'appointment', 'apart', 'anniversary', 'whats', 'score', 'pull', 'promoted', 'please', 'gifts', 'bother', 'apprehensive', 'adult', 'act', 'straight', 'stomach', 'steal', 'south', 'song', 'six', 'riding', 'pleased', 'opened', 'loan', 'level', 'garden', 'dentist', 'continue', 'building', 'books', 'biggest', 'although', 'unless', 'trusted', 'sold', 'sign', 'sell', 'race', 'pride', 'nerves', 'filled', 'dumb', 'doctors', 'cancel', 'brings', 'turning', 'rush', 'plane', 'irritated', 'holiday', 'hide', 'gives', 'b', 'anticipating', 'somehow', 'shock', 'shelter', 'pissed', 'photo', 'neat', 'mood', 'five', 'desk', 'customer', 'amazed', 'women', 'supplies', 'station', 'somebody', 'rock', 'personal', 'helpful', 'field', 'emergency', 'decent', 'debt', 'bright', 'borrow', 'basically', 'tree', 'toilet', 'tiny', 'suddenly', 'spider', 'speaking', 'sometime', 'pair', 'mouth', 'hello', 'graduation', 'crossed', 'count', 'consider', 'awww', 'accomplishment', 'stolen', 'literally', 'land', 'heartbroken', 'grades', 'fail', 'drivers', 'cleaned', 'baseball', 'ball', 'yelled', 'within', 'waste', 'taste', 'research', 'regret', 'ohh', 'lake', 'key', 'follow', 'dollar', 'damage', 'contest', 'closed', 'c', 'bros', 'breaking', 'wouldnt', 'tend', 'taught', 'supportive', 'skills', 'shower', 'particular', 'note', 'nights', 'messed', 'headed', 'fat', 'carpet', 'boat', 'bigger', 'beyond', 'became', 'acting', 'york', 'third', 'success', 'performance', 'ouch', 'medical', 'loving', 'lawn', 'laughing', 'invite', 'interested', 'insane', 'holding', 'fridge', 'figured', 'except', 'dirty', 'charged', 'calling', 'apparently', 'wearing', 'tire', 'tho', 'sun', 'struggling', 'stealing', 'somewhat', 'satisfied', 'roof', 'question', 'quality', 'million', 'kinds', 'general', 'calm', 'bugs', 'white', 'supervisor', 'security', 'saturday', 'painful', 'owner', 'leg', 'halloween', 'grandparents', 'grandfather', 'enjoying', 'cookies', 'conversation', 'caused', 'shot', 'reminds', 'nah', 'moms', 'listening', 'license', 'keys', 'foot', 'drinks', 'double', 'crash', 'specific', 'someday', 'sandwich', 'rescue', 'progress', 'lebron', 'jerk', 'following', 'cards', 'bird', 'wreck', 'whoa', 'waited', 'understandable', 'sudden', 'stick', 'ridiculous', 'parts', 'otherwise', 'optimistic', 'laughed', 'knocked', 'jump', 'incredible', 'hitting', 'hell', 'heck', 'feed', 'energy', 'clear', 'appreciated', 'traveling', 'texas', 'rid', 'refund', 'rare', 'pounds', 'patient', 'odd', 'o', 'milk', 'manage', 'holidays', 'heat', 'grossed', 'groceries', 'ghost', 'financially', 'exercise', 'destroyed', 'closer', 'cherish', 'charge', 'blessed', 'successful', 'subject', 'steps', 'sadly', 'roll', 'ring', 'raised', 'pack', 'oil', 'nowadays', 'kitten', 'join', 'information', 'glass', 'fully', 'frustrated', 'explain', 'dreams', 'damn', 'complete', 'common', 'color', 'cheese', 'carry', 'attend', 'visited', 'uncle', 'students', 'responsible', 'repair', 'oldest', 'nowhere', 'media', 'lying', 'likely', 'lights', 'immediately', 'hurts', 'goals', 'goal', 'flies', 'drop', 'deserved', 'decide', 'currently', 'behavior', 'above', 'woods', 'upsetting', 'throwing', 'swim', 'stage', 'spiders', 'space', 'situations', 'scholarship', 'remembered', 'reach', 'questions', 'practicing', 'men', 'mall', 'loose', 'huh', 'grass', 'garbage', 'flat', 'falling', 'evening', 'emotions', 'eaten', 'crush', 'court', 'corner', 'concerned', 'write', 'understanding', 'ten', 'teeth', 'stories', 'relaxed', 'plenty', 'none', 'machine', 'higher', 'haunted', 'excellent', 'everybody', 'eagles', 'covered', 'coasters', 'awe', 'apply', 'accept', 'youngest', 'warm', 'u', 'suck', 'simple', 'respect', 'regular', 'pokemon', 'passing', 'nose', 'niece', 'league', 'isnt', 'happiness', 'gun', 'constantly', 'coaster', 'build', 'backyard', 'argument', 'value', 'tornado', 'raining', 'pumped', 'period', 'miserable', 'management', 'interest', 'injured', 'garage', 'forgive', 'fish', 'engineering', 'email', 'dishes', 'depressed', 'club', 'chat', 'bucks', 'breakfast', 'adorable', 'wracking', 'wild', 'vehicle', 'soup', 'shouldnt', 'rides', 'program', 'price', 'prefer', 'nearly', 'market', 'lbs', 'freaked', 'flowers', 'camera', 'built', 'bread', 'blessing', 'amusement', 'agreed', 'whether', 'truth', 'therapy', 'teaching', 'recipe', 'receive', 'president', 'phones', 'onto', 'neither', 'interviews', 'hole', 'heights', 'heavy', 'havent', 'hated', 'fortunate', 'delivery', 'dance', 'california', 'burger', 'breed', 'talent', 'style', 'stoked', 'spring', 'smelled', 'shes', 'science', 'result', 'prize', 'locked', 'lane', 'hotel', 'history', 'guard', 'graduating', 'furniture', 'fiance', 'english', 'ends', 'education', 'drank', 'discovered', 'bringing', 'attic', 'arrived', 'adopted', 'welcome', 'weekends', 'vegas', 'talented', 'sugar', 'spouse', 'shut', 'schedule', 'ruin', 'peaceful', 'noises', 'negative', 'nature', 'natural', 'member', 'match', 'letting', 'kindergarten', 'kick', 'hardly', 'granted', 'film', 'employed', 'earth', 'drives', 'difference', 'despite', 'dear', 'cross', 'cooked', 'closet', 'airport', 'wanna', 'videos', 'trips', 'tooth', 'thoughts', 'thoughtful', 'thanksgiving', 'text', 'tests', 'swear', 'sucked', 'speeding', 'smile', 'silly', 'series', 'senior', 'record', 'purchased', 'physics', 'payment', 'paycheck', 'mortified', 'irritating', 'incredibly', 'holy', 'hardest', 'flew', 'fighting', 'ending', 'cops', 'board', 'bedroom', 'award', 'alarm', 'wall', 'trick', 'toy', 'thrilled', 'teenager', 'star', 'snakes', 'siblings', 'shape', 'screen', 'robbed', 'remind', 'porch', 'overall', 'ocean', 'lord', 'letter', 'knock', 'itself', 'income', 'giant', 'employee', 'drugs', 'department', 'december', 'crap', 'checking', 'burned', 'bond', 'atleast', 'wasted', 'uncomfortable', 'trained', 'tip', 'speed', 'sale', 'rode', 'risk', 'ripped', 'replaced', 'property', 'professional', 'precious', 'physical', 'opposite', 'opening', 'nuts', 'mix', 'horse', 'hilarious', 'held', 'hawaii', 'grand', 'foods', 'fence', 'fancy', 'fairly', 'excuse', 'everytime', 'elderly', 'dealing', 'crashed', 'community', 'client', 'changes', 'calls', 'brave', 'brain', 'bored', 'blind', 'barking', 'art', 'apologize', 'america', 'allowed', 'ace', 'accomplished', 'teachers', 'stray', 'sport', 'slipped', 'screaming', 'schools', 'rewarding', 'recover', 'properly', 'presents', 'post', 'picking', 'path', 'overcome', 'occasion', 'obviously', 'nursing', 'netflix', 'meat', 'mario', 'landlord', 'improve', 'hired', 'guitar', 'gate', 'fond', 'divorce', 'considering', 'considered', 'confront', 'cancelled', 'bug', 'breaks', 'boxes', 'bowl', 'bite', 'approved', 'admit', 'account', 'storms', 'slowly', 'skin', 'size', 'role', 'review', 'response', 'rely', 'reasons', 'randomly', 'purpose', 'preparing', 'plate', 'perfectly', 'numbers', 'members', 'hockey', 'hobby', 'hire', 'happier', 'gold', 'daily', 'comfort', 'chances', 'boys', 'available', 'advantage', 'ac', 'walmart', 'staring', 'songs', 'relieved', 'relationships', 'related', 'potty', 'pleasant', 'player', 'peed', 'packing', 'motivated', 'lay', 'kicked', 'fed', 'favor', 'europe', 'envy', 'dying', 'drama', 'diagnosed', 'cheesecake', 'cheer', 'charity', 'changing', 'cashier', 'butt', 'birth', 'bags', 'adopt', 'wrote', 'writing', 'tournament', 'tons', 'steak', 'spray', 'spoke', 'spare', 'sooo', 'shy', 'shoe', 'seat', 'restroom', 'recent', 'react', 'push', 'promise', 'nostalgia', 'mental', 'medicine', 'livid', 'lead', 'lakers', 'laid', 'kidding', 'judge', 'hopes', 'greatest', 'direction', 'delivered', 'decisions', 'character', 'blew', 'begin', 'arrive', 'adults', 'abuse', 'workout', 'windows', 'wash', 'war', 'til', 'thrones', 'struggle', 'sooner', 'skydiving', 'rich', 'pressure', 'parked', 'paint', 'mission', 'labor', 'journey', 'jail', 'inconsiderate', 'highway', 'guessing', 'expectations', 'eggs', 'cow', 'choose', 'cell', 'assume', 'applying', 'allow', 'alcohol', 'yelling', 'y', 'wet', 'warning', 'total', 'thursday', 'sushi', 'stores', 'standing', 'stairs', 'sounded', 'singing', 'sight', 'roommates', 'reunion', 'remembering', 'rained', 'provide', 'pregnancy', 'praying', 'opinion', 'non', 'nearby', 'mountain', 'mcdonalds', 'matters', 'main', 'laying', 'killing', 'houses', 'hes', 'friendship', 'fried', 'farm', 'dragon', 'deserves', 'companies', 'colors', 'bear', 'albums', 'afternoon', 'accidents', 'yo', 'wine', 'unfair', 'toe', 'society', 'slept', 'skill', 'sink', 'showing', 'respond', 'rat', 'purchase', 'practiced', 'pop', 'personally', 'mile', 'leaves', 'jumping', 'joke', 'ignore', 'hurry', 'hoped', 'hiking', 'heal', 'habit', 'green', 'fries', 'farted', 'familiar', 'entered', 'damaged', 'cousins', 'complex', 'clue', 'classic', 'cared', 'cameras', 'cable', 'burn', 'bottle', 'beginning', 'becoming', 'basketball', 'average', 'attacked', 'athletic', 'appreciative', 'anytime', 'album', 'ages', 'actions', 'acted', 'abilities', 'yuck', 'yay', 'vomited', 'version', 'vacations', 'upon', 'uneasy', 'types', 'thinks', 'sons', 'software', 'simply', 'shocking', 'retirement', 'purse', 'plays', 'p', 'overwhelming', 'ourselves', 'named', 'mexico', 'marathon', 'lock', 'legs', 'kiss', 'honor', 'friendly', 'fortunately', 'fill', 'favorites', 'faster', 'events', 'depressing', 'daycare', 'crushed', 'courage', 'counting', 'birds', 'arent', 'american', 'abused', 'willing', 'vegan', 'usual', 'tricks', 'toddler', 'soul', 'socks', 'sending', 'screamed', 'scares', 'sales', 'salad', 'ramen', 'plant', 'panic', 'options', 'ole', 'motorcycle', 'mixed', 'material', 'interviewed', 'happend', 'hah', 'form', 'flood', 'fart', 'engine', 'ear', 'disease', 'correct', 'breath', 'bowling', 'borrowed', 'based', 'balance', 'apple', 'apologized', 'advance', 'yell', 'worrying', 'waking', 'unable', 'suit', 'stuffed', 'st', 'sorts', 'snacks', 'simpler', 'signed', 'sidewalk', 'shake', 'selling', 'routine', 'recovered', 'rarely', 'physically', 'owned', 'oops', 'october', 'marry', 'language', 'intense', 'impossible', 'hurting', 'hmm', 'grad', 'france', 'forgotten', 'f', 'engaged', 'earn', 'e', 'dish', 'curious', 'crime', 'colorado', 'coast', 'calculus', 'bell', 'attached', 'action', 'ability', 'ups', 'unit', 'trustworthy', 'tinder', 'tennis', 'technology', 'tears', 'tasted', 'tall', 'succeed', 'stays', 'spirit', 'snow', 'shooting', 'september', 'safety', 'reviews', 'refused', 'recommend', 'qualified', 'pre', 'posted', 'pit', 'overseas', 'nightmare', 'necklace', 'names', 'nail', 'multiple', 'military', 'midnight', 'message', 'mention', 'mainly', 'lessons', 'laundry', 'landed', 'joined', 'item', 'humiliated', 'guilt', 'grabbed', 'google', 'gesture', 'frightened', 'freaking', 'followed', 'experiences', 'experienced', 'exact', 'duty', 'driveway', 'depends', 'cope', 'completed', 'committed', 'chased', 'certification', 'cart', 'careless', 'canceled', 'budget', 'besides', 'bearded', 'bat', 'aware', 'army', 'adventure', 'aced', 'zoo', 'wooded', 'wars', 'view', 'unknown', 'understood', 'terribly', 'term', 'teenagers', 'taco', 'survive', 'sunny', 'stroke', 'shaking', 'scored', 'row', 'retail', 'responsibility', 'reality', 'pro', 'prices', 'pot', 'parties', 'officer', 'neck', 'mower', 'model', 'loneliness', 'lies', 'illness', 'homework', 'hahah', 'geez', 'flags', 'finger', 'finals', 'families', 'edge', 'depression', 'darn', 'crowd', 'compared', 'causing', 'casino', 'camp', 'bmw', 'blown', 'blow', 'block', 'backed', 'arrested', 'anyways', 'anybody', 'affect', 'admire', 'achieve', 'accomplish', 'yum', 'wondering', 'vacuum', 'underwear', 'treated', 'tax', 'suffering', 'starved', 'soda', 'smoke', 'sky', 'sing', 'savings', 'sauce', 'retire', 'rescued', 'released', 'relative', 'reaction', 'puppies', 'productive', 'previous', 'passion', 'option', 'nurse', 'nightmares', 'mountains', 'minor', 'loans', 'lab', 'isolated', 'independent', 'id', 'grandpa', 'generally', 'funeral', 'force', 'fool', 'firm', 'ferrari', 'female', 'fake', 'example', 'economy', 'earned', 'destroy', 'complicated', 'center', 'celebrated', 'areas', 'actual', 'achievement', 'wishing', 'waitress', 'upstairs', 'tuesday', 'trees', 'travelling', 'tight', 'texting', 'sweat', 'spoken', 'shots', 'shorts', 'sharing', 'scheduled', 'romantic', 'pushed', 'private', 'prank', 'pile', 'perform', 'pen', 'painting', 'newborn', 'necessary', 'nd', 'motivation', 'mortgage', 'mexican', 'lower', 'listened', 'limit', 'knee', 'hunting', 'groups', 'gorgeous', 'golf', 'generous', 'frightening', 'freak', 'flu', 'flip', 'escape', 'environment', 'embarassed', 'ease', 'dry', 'diapers', 'dancing', 'customers', 'crappy', 'closing', 'chinese', 'chair', 'catching', 'cares', 'bittersweet', 'assuming', 'application', 'answers', 'add', 'yall', 'xbox', 'wise', 'vomit', 'unsure', 'unexpectedly', 'tries', 'torn', 'thru', 'theres', 'theater', 'tasty', 'surprising', 'suggest', 'strength', 'smoking', 'shoot', 'serve', 'search', 'scream', 'round', 'rip', 'responsibilities', 'rabbit', 'puts', 'pup', 'protect', 'proposed', 'possibly', 'personality', 'pasta', 'north', 'national', 'mothers', 'meaning', 'madden', 'lack', 'king', 'irresponsible', 'incident', 'hometown', 'heading', 'hassle', 'handling', 'haircut', 'gaming', 'gained', 'employer', 'disneyland', 'dirt', 'cruel', 'crawling', 'counter', 'confused', 'chores', 'cheaper', 'chase', 'channel', 'challenging', 'bout', 'benefits', 'battle', 'babysit', 'attractive', 'asap', 'aggravating', 'activities', 'youre', 'wind', 'tragic', 'tesla', 'tech', 'taxes', 'task', 'talks', 'survived', 'surprisingly', 'stock', 'sea', 'salary', 'safely', 'rep', 'reliable', 'release', 'relatives', 'rejected', 'rd', 'rate', 'punch', 'pulling', 'political', 'pc', 'payments', 'paperwork', 'organized', 'ooh', 'nicer', 'nap', 'moon', 'miami', 'mentally', 'litter', 'lines', 'lift', 'lets', 'laws', 'las', 'keto', 'junior', 'interviewing', 'innocent', 'info', 'highschool', 'heaven', 'healing', 'freshman', 'freedom', 'expenses', 'evil', 'embarassing', 'donate', 'disaster', 'depend', 'crossing', 'countries', 'continues', 'considerate', 'choices', 'chasing', 'bomb', 'bench', 'abandoned', 'unique', 'toward', 'tour', 'thrown', 'tea', 'tattoo', 'supporting', 'states', 'starving', 'shift', 'services', 'runs', 'reschedule', 'radio', 'pushing', 'professor', 'pie', 'pics', 'patience', 'orlando', 'november', 'n', 'medication', 'meals', 'male', 'karma', 'july', 'inspiring', 'hid', 'harm', 'handful', 'gpa', 'ford', 'focused', 'festival', 'er', 'enter', 'employees', 'elementary', 'dumped', 'drug', 'dressed', 'doors', 'ditched', 'dislike', 'daddy', 'cutting', 'climbing', 'circus', 'chose', 'chest', 'challenge', 'buffet', 'bothering', 'awake', 'august', 'allergic', 'ahh', 'abroad', 'worries', 'voice', 'vase', 'valuable', 'unhappy', 'teenage', 'strangers', 'smells', 'skiing', 'skating', 'sibling', 'section', 'secrets', 'rice', 'replacement', 'reached', 'raising', 'popular', 'pocket', 'pleasure', 'plants', 'oven', 'organic', 'opportunities', 'mentioned', 'meds', 'mark', 'location', 'lent', 'knife', 'joining', 'jeans', 'jacket', 'invested', 'ingredients', 'industry', 'impact', 'ignored', 'ideas', 'household', 'grab', 'government', 'goldfish', 'french', 'finances', 'favourite', 'east', 'dr', 'devastating', 'determined', 'design', 'deer', 'deals', 'dads', 'conference', 'condition', 'coach', 'chemistry', 'characters', 'celebrating', 'canada', 'brown', 'bottom', 'baked', 'anticipation', 'airplane', 'aggressive', 'active', 'zone', 'zero', 'yummy', 'wished', 'vibes', 'usa', 'unbelievable', 'uber', 'twins', 'turtle', 'treats', 'ticked', 'thousand', 'thick', 'terms', 'streets', 'spoil', 'split', 'spelling', 'solid', 'smoothly', 'sketchy', 'significant', 'shared', 'severe', 'settle', 'selected', 'scene', 'rewarded', 'regularly', 'range', 'puked', 'pretended', 'pretend', 'pm', 'pink', 'pigs', 'patch', 'parks', 'outcome', 'original', 'mud', 'master', 'marketing', 'loaned', 'leash', 'kitty', 'junk', 'japan', 'iphone', 'injury', 'including', 'highest', 'hiding', 'golden', 'gambling', 'folks', 'flooded', 'finishing', 'finds', 'fans', 'exercising', 'eww', 'enjoys', 'eh', 'eager', 'drawing', 'drag', 'diaper', 'develop', 'dedication', 'cracked', 'crack', 'county', 'cop', 'contacted', 'companion', 'clearly', 'button', 'bosses', 'booked', 'basic', 'baking', 'bahamas', 'arms', 'arm', 'app', 'anger', 'wave', 'turkey', 'traumatic', 'tells', 'teen', 'teams', 'surely', 'suprised', 'successfully', 'stressing', 'storage', 'spit', 'smaller', 'smack', 'slightly', 'shattered', 'seafood', 'rules', 'repeat', 'recital', 'rage', 'punish', 'prove', 'printer', 'pound', 'potential', 'piano', 'owners', 'overwhelmed', 'onions', 'ohhh', 'nest', 'nailed', 'monster', 'messy', 'mechanic', 'lightning', 'leftovers', 'lawyer', 'lap', 'korean', 'investment', 'interests', 'instructions', 'instantly', 'idiot', 'hu', 'hr', 'horrifying', 'honda', 'hike', 'highly', 'hers', 'heartbreaking', 'handy', 'glasses', 'ghosts', 'fixing', 'file', 'february', 'express', 'excitement', 'england', 'emotion', 'draw', 'dmv', 'diving', 'discipline', 'deliver', 'croatia', 'create', 'cowboys', 'chicago', 'checkout', 'chatting', 'championship', 'ceiling', 'cage', 'blamed', 'ben', 'believed', 'bee', 'becomes', 'beating', 'bbq', 'bath', 'alternative', 'alabama', 'addiction', 'absolute', 'wrecked', 'whoever', 'volunteer', 'unpleasant', 'treasure', 'trauma', 'trailer', 'tires', 'theme', 'theirs', 'tastes', 'staff', 'shirts', 'shadow', 'served', 'semi', 'route', 'rotten', 'rollercoaster', 'reward', 'retired', 'restaurants', 'repay', 'refunded', 'recognized', 'racing', 'pumpkin', 'psychology', 'ps', 'product', 'pricey', 'preparation', 'players', 'perspective', 'per', 'papers', 'outlook', 'notes', 'nephews', 'naturally', 'muscle', 'mow', 'mouse', 'mcdonald', 'lifting', 'lifestyle', 'kit', 'island', 'impression', 'hyped', 'husky', 'hung', 'hundred', 'humans', 'homes', 'hits', 'hip', 'healed', 'headache', 'happiest', 'handed', 'goodbye', 'gluten', 'frequently', 'fights', 'encourage', 'effects', 'eachother', 'discover', 'decades', 'culture', 'creative', 'courses', 'costs', 'cord', 'cookie', 'complained', 'clown', 'climb', 'causes', 'binge', 'belt', 'began', 'beans', 'awaiting', 'annual', 'affected', 'address', 'ad', 'accused', 'yah', 'worn', 'wore', 'wins', 'wings', 'wheel', 'website', 'valedictorian', 'useful', 'trial', 'treatment', 'totaled', 'tools', 'tips', 'timing', 'throughout', 'thin', 'surprises', 'superbowl', 'suffer', 'struggled', 'stronger', 'stepping', 'starbucks', 'stain', 'spread', 'spoiled', 'soo', 'skip', 'site', 'signs', 'shady', 'searching', 'satisfying', 'rushed', 'rolled', 'returning', 'resolved', 'repaired', 'reminiscing', 'reminder', 'remain', 'recognize', 'recipes', 'rear', 'realizing', 'racking', 'prep', 'potatoes', 'pointed', 'pieces', 'peeved', 'pee', 'passionate', 'parcel', 'owe', 'needing', 'monsters', 'momma', 'mold', 'mice', 'massive', 'maintain', 'mailbox', 'loudly', 'load', 'lined', 'led', 'killer', 'italy', 'invest', 'internship', 'husbands', 'hug', 'hubby', 'hero', 'hectic', 'hamster', 'grandson', 'girlfriends', 'gain', 'flooding', 'failure', 'failing', 'explore', 'exchange', 'error', 'errands', 'emergencies', 'donald', 'distracted', 'directly', 'direct', 'difficulties', 'dieting', 'deposit', 'debit', 'dealership', 'counseling', 'complaining', 'compare', 'clothing', 'climate', 'classmates', 'cities', 'chess', 'chain', 'bro', 'braves', 'blessings', 'beside', 'beforehand', 'beauty', 'battery', 'bake', 'argue', 'appetite', 'alley', 'alaska', 'abusive', 'written', 'workplace', 'woah', 'wide', 'whom', 'walls', 'walks', 'uses', 'understands', 'typically', 'toddlers', 'temper', 'taxi', 'tasks', 'tail', 'sweetest', 'sweating', 'supermarket', 'storming', 'stops', 'stable', 'spooky', 'spanish', 'soooo', 'solution', 'snap', 'smashed', 'slip', 'sides', 'shining', 'sex', 'seek', 'rooting', 'respectful', 'reported', 'repairs', 'relaxation', 'reflect', 'rainy', 'r', 'programming', 'possibility', 'poo', 'points', 'placed', 'pizzas', 'pharmacy', 'payday', 'passes', 'painted', 'outdoors', 'needless', 'metal', 'mate', 'matches', 'lotto', 'lonesome', 'knowledge', 'kindness', 'kayaking', 'juice', 'jerks', 'irked', 'introduced', 'impress', 'hobbies', 'hiring', 'hesitant', 'headphones', 'hat', 'gut', 'guests', 'gear', 'gal', 'fruit', 'forth', 'foreign', 'flirting', 'fireworks', 'feedback', 'famous', 'extreme', 'ew', 'enjoyable', 'election', 'ego', 'eats', 'dump', 'duck', 'dreading', 'downstairs', 'dementia', 'dealt', 'dallas', 'cure', 'crowded', 'creatures', 'craving', 'convenient', 'contract', 'console', 'conscious', 'communicate', 'comics', 'closest', 'cereal', 'cavs', 'cautious', 'carried', 'capable', 'busted', 'buddies', 'breast', 'boyfriends', 'bothers', 'boost', 'belongings', 'artist', 'approached', 'approach', 'ankle', 'algebra', 'activity', 'yankees', 'whilst', 'west', 'wasp', 'washington', 'washing', 'washed', 'volunteered', 'vegetables', 'unnecessary', 'ufc', 'trade', 'touched', 'tomato', 'texts', 'tested', 'tear', 'switching', 'suv', 'summers', 'sum', 'sub', 'specifically', 'source', 'solve', 'snack', 'slide', 'shed', 'selfish', 'sees', 'secure', 'scratched', 'scold', 'san', 'sake', 'returns', 'resist', 'removed', 'religious', 'raw', 'protective', 'propose', 'practically', 'powerful', 'poisonous', 'pig', 'phew', 'phase', 'pace', 'ours', 'ol', 'odds', 'monthly', 'mommy', 'milestone', 'makeup', 'magic', 'lover', 'loser', 'letters', 'leading', 'latest', 'lasts', 'ladies', 'jokes', 'jealousy', 'italian', 'infuriating', 'infection', 'increase', 'imagination', 'hype', 'hostel', 'horrified', 'homemade', 'hint', 'healthier', 'harvard', 'harsh', 'halfway', 'grill', 'gig', 'generation', 'fulfilling', 'former', 'flipped', 'finance', 'fee', 'exhausted', 'electrical', 'electric', 'doggy', 'distraught', 'differently', 'details', 'delayed', 'dedicated', 'dates', 'covers', 'counselor', 'copy', 'coolest', 'congratulation', 'condolences', 'computers', 'competitive', 'communication', 'cleaner', 'chip', 'chef', 'carefree', 'carbs', 'candidates', 'cakes', 'butter', 'burden', 'bumped', 'brakes', 'bound', 'bless', 'biology', 'begging', 'beaches', 'aid', 'access', 'yoga', 'wood', 'witnessed', 'wednesday', 'visits', 'unemployment', 'unacceptable', 'trapped', 'transportation', 'tornadoes', 'thunder', 'thou', 'therapist', 'television', 'technically', 'sweets', 'surreal', 'suprising', 'sundays', 'sue', 'struck', 'stood', 'sticky', 'statistics', 'solo', 'softball', 'smooth', 'slammed', 'skinny', 'skateboard', 'shoulder', 'shipping', 'shifts', 'sharp', 'settled', 'scariest', 'rooms', 'roach', 'retake', 'rented', 'prison', 'prior', 'priceless', 'presenting', 'polite', 'poker', 'plates', 'pepperoni', 'pepper', 'payed', 'participate', 'overnight', 'originally', 'ordering', 'orange', 'opens', 'oooh', 'oof', 'officially', 'occasionally', 'nine', 'nightlight', 'mug', 'moves', 'motivate', 'miracle', 'mins', 'messing', 'loyalty', 'legal', 'lame', 'keyboard', 'keeper', 'justice', 'jack', 'instructor', 'installed', 'initially', 'informed', 'improving', 'improvement', 'horribly', 'hm', 'hahahaha', 'grandfathers', 'gotcha', 'gifted', 'further', 'fortune', 'flavor', 'fiancee', 'eyed', 'expired', 'exotic', 'exist', 'episode', 'electricity', 'ears', 'eagerly', 'dug', 'dropping', 'dorm', 'donuts', 'discount', 'disappear', 'directions', 'diabetes', 'determination', 'depending', 'creep', 'counts', 'convince', 'construction', 'compete', 'compassion', 'clubs', 'chips', 'cans', 'bull', 'brilliant', 'breeze', 'bothered', 'birthdays', 'belief', 'behave', 'bears', 'bars', 'bang', 'bachelor', 'adoption', 'addition', 'acts', 'youth', 'yellow', 'wasps', 'wandering', 'vision', 'vegetarian', 'upside', 'unlocked', 'tuition', 'troubles', 'trophy', 'tradition', 'toppings', 'tom', 'toes', 'tied', 'tie', 'throat', 'thrift', 'sweetheart', 'subway', 'studies', 'stocked', 'sticking', 'startled', 'sprayed', 'spots', 'spain', 'soft', 'snuck', 'skunk', 'singer', 'shelters', 'shark', 'shaken', 'scratching', 'roomate', 'rollercoasters', 'roads', 'ridden', 'required', 'request', 'relive', 'rehab', 'refuse', 'rats', 'raffle', 'punk', 'pump', 'proposal', 'promising', 'poorly', 'policy', 'poisoning', 'pity', 'picky', 'peoples', 'neice', 'mystery', 'musician', 'mowing', 'mosquitos', 'mosquitoes', 'mirror', 'midwest', 'mid', 'meetings', 'masters', 'marks', 'manners', 'loads', 'lice', 'library', 'lend', 'lemon', 'korea', 'knocking', 'kicking', 'irma', 'ipad', 'influence', 'inconvenient', 'included', 'hurricanes', 'hunt', 'hood', 'holds', 'helpless', 'heavily', 'hates', 'hasnt', 'happily', 'hall', 'guide', 'funds', 'fund', 'forgetting', 'forced', 'fondly', 'fitness', 'fever', 'fees', 'faces', 'evidence', 'evicted', 'entitled', 'emotionally', 'elevator', 'ecstatic', 'driven', 'drew', 'dressing', 'dread', 'downtown', 'disturbing', 'distant', 'dig', 'devestated', 'deeply', 'decade', 'deadline', 'dairy', 'cups', 'cryptocurrency', 'creeps', 'couples', 'constant', 'competing', 'comic', 'cockroach', 'cigarettes', 'childish', 'chewed', 'channels', 'carrying', 'caribbean', 'candles', 'calmed', 'burst', 'brutal', 'boot', 'blocked', 'bands', 'awwww', 'avoided', 'appartment', 'annoys', 'among', 'aliens', 'ain', 'ahhh', 'affair', 'added', 'wrecking', 'wound', 'wishes', 'winnings', 'web', 'warcraft', 'useless', 'universal', 'ultrasound', 'traveled', 'trap', 'trail', 'towel', 'tournaments', 'testing', 'tent', 'tense', 'tends', 'teary', 'tank', 'symptoms', 'swallow', 'suprise', 'stubbed', 'stink', 'sticks', 'spin', 'spaghetti', 'sorted', 'sore', 'sneaky', 'sneak', 'smiling', 'slice', 'slapped', 'slap', 'shorter', 'sharks', 'setting', 'rural', 'rolls', 'roaches', 'river', 'resources', 'requires', 'remote', 'relieve', 'regrets', 'receiving', 'realistic', 'realised', 'rains', 'quitting', 'queen', 'quarter', 'protein', 'presented', 'presence', 'porsche', 'playoffs', 'plain', 'pitbull', 'parenting', 'panama', 'owl', 'outfit', 'ohhhh', 'objects', 'nor', 'noble', 'nieces', 'nfl', 'newest', 'navy', 'naked', 'mutual', 'musicians', 'ms', 'mini', 'memorable', 'meantime', 'mature', 'managers', 'magical', 'lung', 'louisiana', 'leads', 'lasagna', 'jet', 'jeep', 'japanese', 'james', 'jackpot', 'intruder', 'interviewer', 'inspired', 'insisted', 'humiliating', 'hospice', 'hmmm', 'guts', 'grows', 'grief', 'genius', 'frozen', 'foster', 'forest', 'fist', 'figures', 'false', 'ewww', 'em', 'elsewhere', 'elated', 'effect', 'ebay', 'dumpster', 'divorced', 'disneyworld', 'discuss', 'disagree', 'dip', 'degrees', 'defenitly', 'def', 'dated', 'danger', 'cutest', 'curse', 'cs', 'cozumel', 'corrupt', 'conversations', 'confronted', 'concerts', 'complaint', 'code', 'clowns', 'clients', 'clicked', 'classroom', 'choked', 'chihuahua', 'chickens', 'charging', 'ceremony', 'cave', 'carnival', 'candies', 'burrito', 'burning', 'breathing', 'branch', 'boston', 'blowing', 'bitter', 'bikes', 'benefit', 'behaved', 'banging', 'ballet', 'balcony', 'babysitter', 'assistant', 'asks', 'arranged', 'arguing', 'angel', 'allergies', 'aisle', 'adapt', 'worrisome', 'witness', 'winner', 'wheels', 'weak', 'voted', 'volunteering', 'veggies', 'various', 'van', 'valid', 'upgrade', 'uni', 'uncertain', 'ugly', 'treating', 'trashed', 'transfer', 'tracking', 'toyota', 'touching', 'tomatoes', 'thunderstorms', 'thunderstorm', 'throws', 'thrill', 'thai', 'tape', 'sweaty', 'stubborn', 'strawberry', 'standard', 'specially', 'smelling', 'sickness', 'shredded', 'shoulders', 'ship', 'separated', 'sensitive', 'seats', 'screwed', 'screw', 'sadness', 'robber', 'reversed', 'represent', 'repeatedly', 'remove', 'register', 'regardless', 'refreshing', 'referring', 'recovery', 'recall', 'reasonable', 'rates', 'rash', 'punished', 'punched', 'puke', 'provider', 'proper', 'promises', 'privacy', 'preschool', 'pleasantly', 'picnic', 'phd', 'percent', 'patients', 'overtime', 'outstanding', 'outdoor', 'organization', 'occupied', 'nicely', 'newer', 'neglected', 'naughty', 'mma', 'mama', 'machines', 'lunches', 'longest', 'london', 'lmao', 'limited', 'lifetime', 'lease', 'learnt', 'leader', 'lasting', 'ladder', 'juicy', 'joking', 'joe', 'jiu', 'jitsu', 'jeez', 'january', 'international', 'instant', 'insecure', 'injuries', 'impatient', 'imagined', 'illegal', 'idk', 'hut', 'humor', 'humble', 'humanity', 'honesty', 'hill', 'heals', 'gum', 'grumpy', 'growth', 'grounded', 'grandkids', 'grandchildren', 'germany', 'german', 'gallon', 'friendships', 'fragile', 'flown', 'flipping', 'feat', 'fb', 'fathers', 'faced', 'explained', 'escaped', 'era', 'equipment', 'entirely', 'enraged', 'engineer', 'employers', 'embarrasing', 'elses', 'eggplant', 'efforts', 'ducks', 'distract', 'devil', 'developed', 'dessert', 'desperate', 'delighted', 'deck', 'debts', 'cuz', 'cruises', 'coverage', 'coping', 'cooler', 'cooks', 'convinced', 'connection', 'commit', 'commercials', 'collect', 'colleagues', 'clearance', 'circumstances', 'chosen', 'ceo', 'cd', 'cbd', 'catfish', 'cases', 'caramel', 'campus', 'calories', 'calming', 'cab', 'burgers', 'bunnies', 'bumper', 'bump', 'bullying', 'buildings', 'brush', 'blanket', 'blackjack', 'bid', 'bicycle', 'bent', 'batman', 'basis', 'bark', 'banks', 'bakery', 'bacon', 'auto', 'attending', 'attacks', 'atlanta', 'assignment', 'asia', 'apps', 'appropriate', 'approaching', 'apartments', 'announced', 'afterward', 'admitted', 'accounting', 'zombie', 'x', 'woken', 'wisdom', 'wipe', 'wheat', 'watermelon', 'warriors', 'warming', 'wao', 'vomiting', 'variety', 'universe', 'united', 'umbrella', 'ultimately', 'uk', 'twenty', 'turbulence', 'tucked', 'trunk', 'triple', 'travelled', 'trainer', 'toll', 'toast', 'thirty', 'texted', 'temporary', 'temperature', 'target', 'talents', 'tag', 'swift', 'surface', 'struggles', 'sting', 'status', 'stars', 'squid', 'spite', 'specialist', 'sour', 'sooooo', 'smelly', 'smacked', 'sleepy', 'skipped', 'shrimp', 'shortly', 'shelf', 'shall', 'shakes', 'secretly', 'seconds', 'scotland', 'sandwiches', 'rushing', 'rotting', 'rocks', 'revenge', 'replacing', 'reminisce', 'reliving', 'refrigerator', 'redo', 'reckless', 'reaching', 'raccoon', 'punishment', 'products', 'prestigious', 'potato', 'posters', 'politicians', 'plastic', 'pilot', 'pillow', 'permission', 'paris', 'owed', 'orders', 'operation', 'occasions', 'nursery', 'neighbour', 'mph', 'mornings', 'montreal', 'minds', 'meaningful', 'mates', 'materials', 'maintenance', 'locally', 'lining', 'liking', 'lifted', 'levels', 'legos', 'legit', 'learns', 'lawnmower', 'kong', 'knees', 'kissing', 'ketchup', 'kart', 'joint', 'john', 'jesus', 'iron', 'introverted', 'interstate', 'intentions', 'intelligent', 'initial', 'individual', 'increasing', 'incompetent', 'horses', 'horn', 'hop', 'homeschool', 'hints', 'herbs', 'heated', 'headaches', 'harvey', 'habits', 'gunshots', 'grieve', 'greek', 'graphic', 'ghosted', 'gender', 'fur', 'frame', 'fortnite', 'footsteps', 'focusing', 'flashlight', 'flash', 'fellow', 'fears', 'fallen', 'fails', 'facetime', 'exterminator', 'extension', 'extended', 'expansion', 'exited', 'eve', 'essentials', 'episodes', 'epic', 'dove', 'dosen', 'disrespectful', 'dispute', 'display', 'disability', 'dim', 'diagnosis', 'detail', 'destination', 'dented', 'delay', 'declined', 'deadly', 'cuts', 'culprit', 'crowds', 'created', 'crawl', 'costco', 'correctly', 'corn', 'consequences', 'conquer', 'connect', 'concrete', 'commitment', 'command', 'comedy', 'combination', 'collection', 'colleague', 'cloud', 'circle', 'christian', 'chills', 'chill', 'checks', 'certified', 'cavity', 'calc', 'butterflies', 'bullet', 'boots', 'boiling', 'blows', 'blank', 'bitten', 'biting', 'bites', 'belly', 'beers', 'batteries', 'bathing', 'base', 'australia', 'assured', 'assignments', 'arrives', 'approve', 'appreciates', 'appliances', 'anyhow', 'ants', 'anticipate', 'answering', 'answered', 'annoy', 'anime', 'allows', 'al', 'agent', 'africa', 'affordable', 'advise', 'advanced', 'addicted', 'actors', 'actor', 'achieved', 'zip', 'wrist', 'worthless', 'wondered', 'wire', 'wing', 'whos', 'whew', 'weapon', 'waves', 'vote', 'unsafe', 'unlike', 'unfaithful', 'uncertainty', 'unaware', 'typical', 'twitch', 'twin', 'tub', 'tshirt', 'tricky', 'traps', 'transplant', 'transmission', 'transition', 'transferred', 'tow', 'tore', 'tool', 'title', 'thousands', 'tempted', 'temptation', 'teh', 'taylor', 'syndrome', 'swell', 'suspect', 'stored', 'stocks', 'squirrel', 'spooked', 'spirits', 'spill', 'spends', 'someones', 'socialize', 'soap', 'soaked', 'smartphone', 'slid', 'silver', 'shook', 'sheesh', 'scrapbook', 'scores', 'scenario', 'satisfaction', 'sand', 'salt', 'safer', 'routines', 'rings', 'reunited', 'resort', 'reply', 'reluctant', 'relatively', 'refuses', 'recovering', 'reconnect', 'recommended', 'raises', 'qualify', 'puddle', 'proof', 'prom', 'projects', 'professionally', 'print', 'prevent', 'prayers', 'poured', 'popped', 'popcorn', 'politics', 'pole', 'poison', 'pointless', 'plumber', 'performed', 'peeing', 'peak', 'pathetic', 'paranoid', 'parade', 'panicked', 'page', 'owns', 'overwatch', 'ordeal', 'olive', 'official', 'oddly', 'occurred', 'obnoxious', 'nicest', 'network', 'nerd', 'needy', 'nails', 'mustang', 'musical', 'mum', 'mt', 'monitor', 'mild', 'messaging', 'messages', 'mercedes', 'medal', 'med', 'mailman', 'macs', 'mac', 'ma', 'luggage', 'loosing', 'lit', 'lightening', 'lego', 'leftover', 'leadership', 'lasted', 'kissed', 'kicks', 'jury', 'june', 'juggle', 'jam', 'investing', 'investigate', 'introduce', 'intimidating', 'interact', 'instruments', 'instincts', 'inspiration', 'insanely', 'infront', 'independence', 'inch', 'immune', 'ii', 'iguana', 'ideal', 'hundreds', 'honors', 'honk', 'honey', 'holes', 'hidden', 'heh', 'handled', 'hadnt', 'guarantee', 'grace', 'georgia', 'gardening', 'gap', 'gamble', 'froze', 'freeway', 'formula', 'flow', 'fl', 'filthy', 'films', 'fifa', 'feeding', 'features', 'fasting', 'fantasy', 'falls', 'fainted', 'extent', 'explode', 'experiencing', 'expense', 'evacuate', 'estate', 'ensure', 'enemy', 'embrace', 'emails', 'egg', 'ed', 'economics', 'drowning', 'dripping', 'drawer', 'dominoes', 'doggie', 'documents', 'division', 'ditch', 'district', 'discussing', 'digging', 'diamond', 'desperately', 'describe', 'denied', 'democrats', 'decline', 'daunting', 'data', 'dare', 'cuddle', 'crushing', 'critters', 'creek', 'cranky', 'cpa', 'cows', 'costume', 'cornhole', 'congratulate', 'confide', 'confess', 'conditioning', 'concentrate', 'con', 'comment', 'collecting', 'coconut', 'clumsy', 'closely', 'clogged', 'clock', 'clinton', 'claim', 'civic', 'cigarette', 'chunk', 'chuckle', 'chemicals', 'chefs', 'challenges', 'central', 'carolina', 'cam', 'cadillac', 'bust', 'bushes', 'bury', 'bully', 'bucket', 'brownies', 'bridge', 'breathe', 'breakup', 'brat', 'bottles', 'borrowing', 'bold', 'bodies', 'boats', 'bigfoot', 'betrayed', 'belong', 'bees', 'beef', 'beats', 'beaten', 'beard', 'bats', 'backwards', 'backs', 'babysitting', 'audi', 'attacking', 'aspect', 'aside', 'asian', 'artistic', 'article', 'april', 'appreciation', 'apples', 'appeared', 'appear', 'antsy', 'anticipated', 'angels', 'accomplishing', 'zipper', 'wonders', 'wolf', 'wildlife', 'wifes', 'whose', 'wherever', 'weights', 'weighing', 'wears', 'warranty', 'waiter', 'wage', 'vulnerable', 'violent', 'venom', 'unsettling', 'unlikely', 'unhealthy', 'ultimate', 'tx', 'twenties', 'turtles', 'tune', 'troubling', 'trials', 'traumatized', 'tragedy', 'traditional', 'towns', 'tought', 'threatening', 'terrific', 'teething', 'technical', 'tad', 'tacos', 'tackle', 'swing', 'suspicious', 'suspended', 'surroundings', 'surgeon', 'sunscreen', 'sucker', 'submitted', 'straightened', 'stitches', 'stinking', 'stephen', 'steam', 'stationed', 'statement', 'standards', 'stadium', 'spiderman', 'spell', 'sorta', 'sofa', 'sleeps', 'skype', 'skilled', 'ski', 'sized', 'sits', 'silence', 'shops', 'shine', 'shadows', 'shade', 'sets', 'scottish', 'scolded', 'scenery', 'scam', 'sausage', 'sane', 'saddest', 'russia', 'roomie', 'roam', 'rink', 'rewards', 'revolting', 'resume', 'responded', 'resolve', 'researching', 'require', 'renting', 'remorseful', 'regretted', 'recording', 'recommendations', 'recognition', 'receipt', 'realise', 'racist', 'quiz', 'quicker', 'pursuing', 'pure', 'promotions', 'profit', 'production', 'press', 'prayer', 'pouring', 'potter', 'poops', 'pooping', 'policies', 'planet', 'pineapple', 'pills', 'picks', 'petty', 'perfume', 'performing', 'perfection', 'peppers', 'patio', 'pastor', 'parrot', 'pajamas', 'packs', 'owning', 'overdue', 'ot', 'ooo', 'olympics', 'olives', 'occur', 'nyc', 'novel', 'noodles', 'newspaper', 'nagging', 'nachos', 'mushy', 'museum', 'murder', 'multi', 'mri', 'motor', 'moldy', 'mines', 'michigan', 'meg', 'marvel', 'marked', 'maggots', 'lo', 'limits', 'leisure', 'leap', 'lean', 'la', 'kudos', 'kidney', 'jogging', 'jog', 'jobless', 'jazz', 'jar', 'irs', 'iraq', 'intentional', 'instrument', 'instinct', 'insomnia', 'inform', 'infected', 'indoors', 'indoor', 'image', 'ignoring', 'humid', 'hugs', 'housework', 'host', 'horizon', 'hong', 'hellp', 'height', 'heads', 'harry', 'hamburger', 'hallway', 'h', 'gulf', 'guest', 'grandparent', 'grandchild', 'gps', 'goin', 'gears', 'gathering', 'garlic', 'freezing', 'freakin', 'fourth', 'fought', 'flower', 'floors', 'filed', 'fabulous', 'evaluation', 'eternity', 'entrance', 'entering', 'encouraging', 'embarrass', 'embarrased', 'dunno', 'dumps', 'drums', 'dried', 'dreadful', 'dragons', 'dozen', 'downs', 'downhill', 'dive', 'discouraging', 'disappeared', 'dining', 'digital', 'dies', 'development', 'desserts', 'desire', 'designs', 'desert', 'delivering', 'definetly', 'defense', 'defend', 'decorating', 'decides', 'dealer', 'damages', 'curfew', 'crew', 'creating', 'crawled', 'craigslist', 'craft', 'crab', 'counted', 'coughing', 'contain', 'contacting', 'consistent', 'conscience', 'concerns', 'concern', 'compliment', 'compassionate', 'comfy', 'cod', 'cockroaches', 'coat', 'cleveland', 'cleared', 'chronic', 'china', 'cheapest', 'charges', 'chargers', 'celebration', 'casserole', 'carts', 'carefully', 'candle', 'cafe', 'cabin', 'burnt', 'bunny', 'bungee', 'bum', 'bullies', 'bugging', 'browns', 'boxing', 'boxer', 'booze', 'bin', 'belonged', 'begins', 'bean', 'beaming', 'beagle', 'bathtub', 'banana', 'axolotls', 'awh', 'aug', 'attended', 'assist', 'assertive', 'arriving', 'armadillo', 'analyst', 'ambulance', 'amazingly', 'alien', 'alert', 'aggravated', 'aged', 'adventures', 'adrenaline', 'adopting', 'adds', 'addict', 'accepting', 'acceptance', 'youll', 'yearly', 'yearbooks', 'yearbook', 'wrapped', 'wouldve', 'woo', 'wiped', 'windshield', 'wii', 'whiskey', 'western', 'werent', 'wellington', 'wee', 'warned', 'wakes', 'volleyball', 'virginia', 'vets', 'vent', 'vehicles', 'values', 'valued', 'vacationing', 'unzipped', 'unusual', 'unreal', 'unprepared', 'unpacking', 'unnerving', 'unlock', 'union', 'unigram', 'uniform', 'unfortunatley', 'underneath', 'uhoh', 'tuna', 'triathlon', 'treatments', 'transport', 'traits', 'trait', 'traditions', 'toss', 'tony', 'tongue', 'ties', 'tick', 'thriving', 'thanked', 'thailand', 'tension', 'temporarily', 'teens', 'tapping', 'tap', 'tablet', 'swore', 'switched', 'swerve', 'swam', 'surfing', 'supper', 'sunshine', 'suicidal', 'suggestion', 'suffered', 'substantial', 'subjects', 'stunt', 'strawberries', 'stranded', 'stones', 'stocking', 'stir', 'steer', 'steaks', 'stared', 'stack', 'stabilize', 'stability', 'spilling', 'sox', 'soulmate', 'sophomore', 'sober', 'snuggling', 'snatched', 'smoked', 'smarter', 'smallest', 'slot', 'slam', 'slacking', 'skipping', 'signal', 'shown', 'serving', 'separate', 'sentence', 'scholarships', 'scale', 'saves', 'sacrifice', 'runner', 'ruins', 'rubbing', 'robin', 'roadkill', 'risky', 'retriever', 'reset', 'reservations', 'requested', 'republicans', 'reps', 'repeating', 'renewed', 'remodeling', 'remeber', 'religion', 'rejection', 'recruiter', 'reconnected', 'rating', 'rally', 'rack', 'races', 'rabbits', 'quilt', 'pulls', 'publisher', 'published', 'proved', 'protection', 'profusely', 'profession', 'predicament', 'potentially', 'possum', 'positively', 'politician', 'plugged', 'playstation', 'playground', 'pickup', 'philosophy', 'philippines', 'permanent', 'periods', 'peeve', 'peanut', 'partying', 'partners', 'particularly', 'pant', 'pancreatitis', 'padre', 'owes', 'overslept', 'overly', 'overcharged', 'orleans', 'offers', 'offering', 'obvious', 'nutrition', 'nursed', 'nuggets', 'notebook', 'noone', 'noisy', 'nes', 'nanny', 'mutt', 'mule', 'moral', 'moly', 'moderation', 'mistaken', 'misses', 'miscarriage', 'miniature', 'millionaire', 'michael', 'messes', 'messaged', 'menu', 'melt', 'max', 'maternity', 'mat', 'mask', 'managing', 'majority', 'majored', 'lucked', 'listens', 'liquor', 'linear', 'limb', 'liar', 'leather', 'leak', 'laughs', 'larger', 'kittens', 'kisses', 'kimchi', 'kiddos', 'kiddo', 'kansas', 'juggling', 'joys', 'jello', 'itchy', 'irritates', 'involves', 'intuition', 'interaction', 'instance', 'insect', 'inherited', 'infinity', 'increased', 'inches', 'iced', 'humidity', 'hulu', 'hulk', 'hugged', 'hosting', 'hose', 'horrific', 'hook', 'hoa', 'hillary', 'helicopter', 'heartwarming', 'healthcare', 'hammer', 'hamilton', 'hamburgers', 'halo', 'guns', 'grilled', 'grey', 'greatly', 'gre', 'goods', 'gloves', 'girlfiend', 'ghetto', 'gf', 'george', 'genetic', 'gee', 'gather', 'gardens', 'gamer', 'gamecube', 'fuel', 'fry', 'frustration', 'frog', 'frequent', 'freezer', 'foul', 'forgave', 'folk', 'fitting', 'fits', 'feature', 'fav', 'factory', 'facing', 'exposed', 'explaining', 'existed', 'exhausting', 'esteem', 'essential', 'entertaining', 'endure', 'elephants', 'electronics', 'eight', 'efficient', 'economic', 'eater', 'dust', 'drunken', 'drowned', 'dresses', 'drawn', 'drain', 'dough', 'dosnt', 'doorstep', 'donated', 'doll', 'dishwasher', 'disgust', 'disciplined', 'disabled', 'dialed', 'determine', 'destructive', 'deserving', 'description', 'deny', 'dental', 'demanding', 'demanded', 'demand', 'decorated', 'dc', 'darkness', 'da', 'cursed', 'curb', 'cuisine', 'crystal', 'cruelty', 'crucial', 'criticism', 'crisis', 'criminal', 'cries', 'craziest', 'covering', 'coupons', 'cough', 'costly', 'cooperate', 'convention', 'convenience', 'connected', 'conjuring', 'confusing', 'confirm', 'confessed', 'condo', 'conditions', 'concept', 'commercial', 'commands', 'clinic', 'classmate', 'claims', 'civil', 'chubby', 'choosing', 'choke', 'chocolates', 'chew', 'chevy', 'cherished', 'chapter', 'champ', 'chainsaw', 'century', 'cast', 'canned', 'candidate', 'buys', 'busch', 'bullied', 'bullets', 'bubble', 'bruised', 'british', 'brighter', 'breweries', 'brake', 'bracelet', 'bouquet', 'bouncing', 'boom', 'boo', 'bonuses', 'blocking', 'blankets', 'bizarre', 'biopsy', 'beyonce', 'beloved', 'beings', 'behold', 'barn', 'barks', 'bare', 'bail', 'background', 'backflip', 'avoiding', 'avengers', 'autonomy', 'autoimmune', 'austin', 'attempted', 'attachment', 'atmosphere', 'artificial', 'arrival', 'armed', 'arcade', 'applications', 'annoyance', 'airline', 'airbnb', 'affection', 'advocate', 'admirable', 'administration', 'achieving', 'abandon', 'zelda', 'yourselves', 'yogurt', 'yale', 'wounds', 'worthy', 'worms', 'workforce', 'wisely', 'wireless', 'winters', 'williams', 'whoops', 'whipped', 'weinstein', 'weekly', 'weed', 'weddings', 'websites', 'watches', 'wary', 'warnings', 'vitamins', 'visitors', 'village', 'videogames', 'victory', 'vice', 'versus', 'upsets', 'upper', 'upgraded', 'unlucky', 'unfamiliar', 'undone', 'underdogs', 'unbearable', 'twist', 'tutor', 'tummy', 'trivial', 'tripping', 'trim', 'trigger', 'treasured', 'trading', 'trace', 'towels', 'towed', 'tougher', 'torture', 'topic', 'tiring', 'tinier', 'tiger', 'thrilling', 'thoroughly', 'thirsty', 'thieves', 'thesis', 'tha', 'tennessee', 'tenant', 'tempting', 'teddy', 'technique', 'technician', 'teaches', 'tarantula', 'tandem', 'systems', 'swerved', 'supplements', 'subscription', 'submit', 'subaru', 'stunned', 'stumbled', 'studios', 'structure', 'strictly', 'strict', 'stretch', 'straw', 'strategy', 'strapped', 'stove', 'stopping', 'steve', 'stepdad', 'stares', 'stare', 'squirrels', 'square', 'splurge', 'spicy', 'spice', 'speeches', 'speaks', 'speaker', 'spaces', 'solar', 'socializing', 'snowboard', 'snotty', 'sneaking', 'snapped', 'smashing', 'slices', 'sleepover', 'skull', 'skeptical', 'skate', 'sites', 'sip', 'shovel', 'shouting', 'shepherd', 'shave', 'shameful', 'shallow', 'severance', 'seven', 'sentimentally', 'sentiment', 'senses', 'seemingly', 'sec', 'scratches', 'scraped', 'scrape', 'scarred', 'sauces', 'sassy', 'santa', 'samsung', 'salted', 'salon', 'salesman', 'saint', 'sailor', 'saddened', 'russian', 'russell', 'ruining', 'root', 'rome', 'robot', 'rob', 'roast', 'retro', 'restaraunt', 'resident', 'rental', 'renew', 'relations', 'registered', 'refunding', 'redoing', 'redemption', 'recovers', 'realy', 'realizes', 'reacted', 'rap', 'quarantined', 'qualities', 'qualifications', 'pyrex', 'puzzle', 'pursue', 'pupper', 'puking', 'providing', 'provided', 'promote', 'produce', 'procrastinate', 'preseason', 'pranks', 'practical', 'possums', 'possessions', 'positivity', 'positions', 'portion', 'pools', 'pockets', 'playlist', 'planted', 'pitch', 'pianist', 'photographs', 'pho', 'perspectives', 'persons', 'persistence', 'perks', 'performer', 'penny', 'pat', 'participated', 'packages', 'pacing', 'overweight', 'overheard', 'overcame', 'overbooked', 'overboard', 'ornament', 'organs', 'organizing', 'organize', 'oral', 'ooooh', 'olds', 'offensive', 'obedience', 'ny', 'notices', 'noooo', 'noodle', 'nonetheless', 'net', 'needles', 'necessarily', 'nearest', 'naw', 'nashville', 'mrs', 'modern', 'mode', 'mobile', 'missouri', 'minimum', 'milkshake', 'midterm', 'memphis', 'memorabilia', 'meme', 'meanwhile', 'massage', 'mass', 'mashed', 'markers', 'mansion', 'manner', 'maker', 'majoring', 'lungs', 'lump', 'luckiest', 'lousy', 'loses', 'los', 'lonley', 'locker', 'locations', 'located', 'lobster', 'loaded', 'lizard', 'lip', 'lion', 'lifelong', 'lick', 'length', 'legally', 'lectures', 'leaking', 'leafs', 'lb', 'lavish', 'largest', 'languages', 'lad', 'ky', 'karate', 'jumps', 'jones', 'jerry', 'ivy', 'irrational', 'investors', 'intolerant', 'intended', 'integrity', 'inspire', 'infant', 'individuals', 'indian', 'india', 'improved', 'imo', 'immediate', 'imagining', 'ikea', 'hustle', 'hurtful', 'honeymoon', 'homesick', 'hoarder', 'hillbillies', 'hermit', 'heirloom', 'hardwork', 'handicapped', 'hammock', 'gymnastics', 'gullible', 'grudge', 'grossest', 'grinds', 'grinding', 'grind', 'greeted', 'greener', 'greedy', 'greece', 'gray', 'grasp', 'graphics', 'grandmas', 'granddad', 'gossip', 'gorcery', 'goof', 'global', 'getaway', 'germs', 'gentle', 'generations', 'gains', 'function', 'fruits', 'friggin', 'freelance', 'freaks', 'fraud', 'frankly', 'forcing', 'foolish', 'flyers', 'flush', 'fluffy', 'floored', 'flights', 'flag', 'filling', 'files', 'fighters', 'fi', 'feb', 'fatigue', 'fate', 'farmer', 'falcons', 'fade', 'factor', 'facility', 'exploring', 'explains', 'evenings', 'essentially', 'errand', 'entertainment', 'elements', 'effective', 'educated', 'earthquake', 'earning', 'dryer', 'drops', 'download', 'dose', 'dope', 'documentary', 'document', 'docile', 'dna', 'disgrace', 'disconnect', 'disasters', 'diamonds', 'deli', 'definately', 'dancer', 'cycle', 'crib', 'creams', 'crashing', 'cox', 'costumes', 'corrected', 'corporate', 'contributing', 'context', 'consistently', 'congradulations', 'competitions', 'companionship', 'companions', 'comments', 'com', 'colored', 'collected', 'collage', 'coins', 'cloudy', 'climbed', 'cliff', 'click', 'cliche', 'claimed', 'cinnamon', 'cinema', 'chore', 'chilling', 'childrens', 'chicks', 'chick', 'chevrolet', 'cheesy', 'cheers', 'cheater', 'chaos', 'cells', 'category', 'castle', 'cashiers', 'cartoons', 'cartoon', 'cardio', 'cancelling', 'caffeine', 'cabinet', 'bud', 'brazil', 'bragging', 'bottled', 'bones', 'bone', 'bonding', 'bombed', 'blonde', 'bleeding', 'blah', 'bipolar', 'betrayal', 'beta', 'beneficial', 'believes', 'behaving', 'begged', 'barney', 'barista', 'balls', 'backup', 'backing', 'aweful', 'autumn', 'autopilot', 'aunts', 'attorney', 'attitudes', 'attempt', 'astonished', 'assumed', 'associate', 'assigned', 'ass', 'asheville', 'argh', 'appears', 'appalled', 'antique', 'anthony', 'alligator', 'allergy', 'alfredo', 'alcoholic', 'alarms', 'adviser', 'adulting', 'adjust', 'additional', 'acknowledge', 'according', 'absurd', 'yucky', 'youthful', 'wraps', 'worm', 'workload', 'woow', 'wool', 'winds', 'wimbledon', 'whys', 'whoop', 'whip', 'werewolves', 'wentz', 'welcoming', 'welcomed', 'weirdly', 'weapons', 'wasting', 'washroom', 'warehouse', 'wan', 'walker', 'waist', 'wagon', 'voting', 'volenteering', 'void', 'vivid', 'visa', 'violinist', 'vile', 'views', 'victim', 'via', 'verbal', 'vending', 'vegetable', 'v', 'utah', 'urgent', 'upgrades', 'updated', 'unwind', 'unruly', 'unreasonable', 'unprofessional', 'unloading', 'unemployed', 'undies', 'underground', 'underdog', 'uncommon', 'uncles', 'um', 'typing', 'tyke', 'tunes', 'tumor', 'tube', 'trucks', 'tricked', 'toughest', 'toothpaste', 'tolerate', 'tn', 'timid', 'throwback', 'thrive', 'testimony', 'terror', 'terrifies', 'terrier', 'terminal', 'techniques', 'teasing', 'tease', 'tan', 'taller', 'tables', 'tabby', 'swollen', 'sweatshop', 'swallowed', 'suspense', 'suspected', 'survivor', 'survival', 'surgeries', 'supreme', 'supply', 'suitcase', 'suicide', 'sufficient', 'subtle', 'stuttering', 'stung', 'stub', 'strongest', 'strive', 'strike', 'strengths', 'streaming', 'streak', 'stoop', 'stone', 'sticker', 'steel', 'steady', 'stated', 'stash', 'starter', 'stands', 'squeeze', 'sprint', 'spoiling', 'splitting', 'spine', 'species', 'sparring', 'spark', 'spa', 'sonic', 'solved', 'solitude', 'sole', 'socially', 'soak', 'snuggle', 'snapchat', 'smokes', 'slowing', 'slower', 'slippery', 'slimy', 'slim', 'slight', 'slides', 'slick', 'slamming', 'skydive', 'skis', 'silent', 'signing', 'sights', 'sigh', 'sickening', 'sickened', 'shutting', 'shoved', 'shouted', 'shortcake', 'shore', 'sheet', 'sheep', 'setup', 'settings', 'server', 'seasons', 'scumbag', 'screeching', 'scratcher', 'schedules', 'scaring', 'saver', 'saturdays', 'sang', 'sandals', 'sailed', 'saddening', 'rusty', 'rushes', 'rumors', 'rum', 'rub', 'rpg', 'roses', 'rose', 'ropes', 'rope', 'rolling', 'rocky', 'roaming', 'ripping', 'ricky', 'ribs', 'reviewed', 'rethink', 'resting', 'responding', 'respectfully', 'resilient', 'resented', 'researched', 'rescues', 'reporting', 'renovations', 'remission', 'reminding', 'remembers', 'remake', 'remained', 'relied', 'regiment', 'regarding', 'refusing', 'reflection', 'recreational', 'recliner', 'rank', 'rainfall', 'purposely', 'purple', 'punching', 'pubic', 'pros', 'prone', 'prompted', 'proceeded', 'probation', 'prized', 'priorities', 'principal', 'prince', 'prime', 'previews', 'prettiest', 'preteen', 'pressed', 'presidency', 'preordered', 'premiums', 'predict', 'prayed', 'praise', 'possibilities', 'portions', 'portable', 'popsicles', 'pops', 'politely', 'policeman', 'poem', 'plot', 'platform', 'planner', 'planes', 'pitcher', 'pipes', 'piggy', 'pigeons', 'pies', 'piercing', 'pickles', 'phrase', 'phoenix', 'phobia', 'petrified', 'peter', 'pesky', 'peru', 'permit', 'pens', 'pencil', 'peers', 'peanuts', 'paw', 'paul', 'patriots', 'password', 'passport', 'passenger', 'parlor', 'parallel', 'paradise', 'pancreatic', 'pancakes', 'pan', 'pairs', 'pains', 'pages', 'overreacting', 'outright', 'outer', 'outbid', 'opposed', 'offs', 'offense', 'odor', 'occurrence', 'obsessed', 'object', 'obama', 'nuclear', 'notorious', 'notified', 'northern', 'norm', 'noon', 'nonstop', 'nike', 'newly', 'nervewracking', 'neighbourhood', 'needle', 'naive', 'nab', 'muscles', 'mowed', 'motto', 'mole', 'mn', 'mmmm', 'mmm', 'misplaced', 'minded', 'min', 'microwave', 'method', 'memorized', 'membership', 'melted', 'medium', 'mechanics', 'meatloaf', 'martin', 'marrying', 'marriages', 'march', 'marathons', 'manning', 'manly', 'manages', 'malfunctioning', 'malfunction', 'maid', 'magician', 'lyrics', 'lyft', 'lowered', 'log', 'locks', 'liver', 'lipstick', 'link', 'lime', 'lil', 'lifter', 'licking', 'leaders', 'lathe', 'lasy', 'lanes', 'lanai', 'lamp', 'lacking', 'knox', 'knocks', 'knit', 'kindly', 'kindergarden', 'kills', 'kfc', 'karaoke', 'jurassic', 'jumpy', 'jumpscares', 'juggles', 'judgment', 'judging', 'jackets', 'iwas', 'issued', 'isp', 'isolating', 'isle', 'irritable', 'irate', 'inviting', 'invitation', 'intro', 'interrupts', 'internal', 'intentionally', 'intelligence', 'installing', 'inspires', 'inspirational', 'inspected', 'insightful', 'injure', 'initiative', 'influenced', 'indiana', 'inclined', 'inappropriate', 'immature', 'huskies', 'hunted', 'hungover', 'hunger', 'hum', 'hows', 'howling', 'hostile', 'horrid', 'hopeless', 'hoo', 'honorable', 'homeschooled', 'hoe', 'hindsight', 'herd', 'hatred', 'hating', 'haters', 'hasty', 'hardy', 'ham', 'hairy', 'hairstyle', 'hail', 'hahahah', 'gutter', 'guinea', 'grip', 'grieving', 'greed', 'greater', 'grease', 'grapes', 'granny', 'grandmothers', 'granddaughter', 'gramma', 'graduates', 'goodwill', 'goodluck', 'genre', 'generator', 'gay', 'gates', 'gang', 'gaining', 'gagging', 'fuzzy', 'furry', 'funnel', 'funding', 'functions', 'fullest', 'fulfilled', 'ft', 'fright', 'fridays', 'freeze', 'framed', 'forming', 'forgiving', 'forgiveness', 'forgets', 'floating', 'float', 'flirt', 'flashing', 'flames', 'flake', 'firing', 'fires', 'financing', 'filters', 'fighter', 'fibro', 'festivals', 'fender', 'fences', 'fenced', 'females', 'federal', 'fascinating', 'fascinated', 'fam', 'fallout', 'facts', 'extending', 'exposure', 'expert', 'excuses', 'exception', 'ethic', 'established', 'equipped', 'equal', 'ep', 'entrepreneur', 'energetic', 'endorsement', 'endeavor', 'encouragement', 'eli', 'elections', 'einstein', 'eek', 'edition', 'easiest', 'earworms', 'dwell', 'dumbest', 'duh', 'dresser', 'dreaming', 'dreamed', 'dreaded', 'downer', 'doubled', 'dot', 'domestic', 'dodged', 'dodge', 'doctorate', 'disrupted', 'disheartening', 'diseases', 'discussion', 'discovery', 'disconnected', 'disappointment', 'director', 'diploma', 'diligent', 'difficulty', 'diets', 'diego', 'diagnozed', 'dew', 'devoted', 'devious', 'developing', 'destroying', 'designed', 'dependable', 'departments', 'delays', 'decorate', 'deceased', 'debating', 'debate', 'deaths', 'deaf', 'deadbeat', 'dared', 'dangit', 'cv', 'custom', 'custody', 'curve', 'cupboards', 'cubicle', 'critical', 'crisp', 'crimes', 'cravings', 'coyote', 'courtesy', 'courageous', 'coupon', 'cottage', 'corvette', 'controller', 'continued', 'contestant', 'container', 'contacts', 'consolation', 'connections', 'congestive', 'confrontational', 'conflict', 'conditioner', 'concerning', 'compliments', 'completly', 'complaints', 'competent', 'comparison', 'commute', 'commendable', 'comforting', 'comforted', 'comfortably', 'cocoa', 'cocky', 'cobb', 'cinematic', 'chraneosyneostosis', 'chlorella', 'chipotle', 'chili', 'chewing', 'checkup', 'chats', 'charm', 'charger', 'cedar', 'cassette', 'carries', 'carb', 'cap', 'camper', 'campaign', 'buzzing', 'buttons', 'butterfly', 'busier', 'builds', 'bugger', 'buffets', 'buds', 'broadway', 'brewery', 'breaker', 'branches', 'brag', 'bowls', 'bow', 'bonkers', 'boil', 'boards', 'blog', 'blink', 'bits', 'bind', 'billion', 'bible', 'beverly', 'betray', 'bender', 'belive', 'believing', 'beliefs', 'beleive', 'belated', 'behaviors', 'becky', 'beast', 'battlefield', 'bartender', 'barefoot', 'barber', 'banking', 'balloons', 'bailed', 'awoke', 'avid', 'ave', 'avatar', 'automatically', 'audience', 'attempting', 'athletics', 'athlete', 'aswell', 'assure', 'association', 'ascended', 'artists', 'arrangements', 'architecture', 'apprehension', 'apologizing', 'apologise', 'anxiously', 'antibiotics', 'announcement', 'amsterdam', 'alzheimers', 'alternate', 'aging', 'affectionate', 'admired', 'adjusting', 'adding', 'addicting', 'actively', 'ache', 'accountant', 'accord', 'accomplishments', 'acceptable', 'abusing', 'absence', 'zealand', 'yrs', 'youve', 'yeezy', 'yards', 'wrx', 'writer', 'wriggling', 'wrecks', 'wreckless', 'wrappers', 'wrap', 'wowza', 'worthwhile', 'worlds', 'wooden', 'wizard', 'wired', 'winners', 'willpower', 'wholesome', 'whining', 'whim', 'wheeler', 'wheelchair', 'wendy', 'weirdos', 'weigh', 'weeked', 'wednesdays', 'wealth', 'waters', 'waterpark', 'waterfall', 'warrant', 'wardrobe', 'wander', 'wal', 'vs', 'vr', 'vividly', 'visual', 'virtual', 'viral', 'violin', 'vietnam', 'victims', 'verify', 'venture', 'venison', 'vampire', 'valentine', 'vague', 'vacay', 'utterly', 'ut', 'ust', 'usd', 'updates', 'update', 'upbeat', 'unpredictable', 'unplanned', 'unpack', 'uniforms', 'unfortunatly', 'unethical', 'uncalled', 'unbreakable', 'tying', 'tunnel', 'tundra', 'tuesdays', 'tubing', 'trunks', 'truely', 'tropical', 'tres', 'trends', 'treehouse', 'traumatizing', 'transferring', 'trains', 'tracks', 'tourney', 'touchy', 'totaly', 'tortoise', 'toothache', 'tone', 'todays', 'tissue', 'timeless', 'ticks', 'thus', 'threatened', 'thicker', 'ther', 'themself', 'themes', 'themed', 'texture', 'textbooks', 'testify', 'territorial', 'terrify', 'tendency', 'temptations', 'tehre', 'tearing', 'tapped', 'taping', 'sync', 'sword', 'swimsuit', 'swimmer', 'swiftly', 'swept', 'sweethearts', 'sweep', 'sweater', 'suspects', 'surveillance', 'surrounded', 'supposedly', 'superman', 'superior', 'sunlight', 'suite', 'suggestions', 'succeeded', 'suburbs', 'stunk', 'strzok', 'stripper', 'strikes', 'strep', 'stream', 'strays', 'strategies', 'strangely', 'stormed', 'storing', 'stomped', 'stings', 'stereo', 'stench', 'stellar', 'statue', 'stamp', 'stamina', 'stalker', 'stake', 'squat', 'sprain', 'spouses', 'spotted', 'sporting', 'spoon', 'spitting', 'spinning', 'speeds', 'speakers', 'spaced', 'southeast', 'sorting', 'soooooo', 'someting', 'solving', 'solutions', 'soemthing', 'snitch', 'snes', 'sneeze', 'smoothie', 'smeared', 'smartphones', 'smartest', 'slots', 'slob', 'sleepless', 'slack', 'skirt', 'skateboarding', 'sixth', 'sings', 'sincerely', 'sin', 'signals', 'showers', 'shouldve', 'shotgun', 'shores', 'shooter', 'shivers', 'shit', 'shipped', 'shipment', 'sheets', 'shaved', 'shattering', 'sewing', 'severely', 'sessions', 'session', 'sentences', 'semesters', 'sells', 'sega', 'seeds', 'seed', 'seattle', 'scuba', 'scraping', 'scout', 'sci', 'schoo', 'scenes', 'scarface', 'scarf', 'scaredy', 'scar', 'scan', 'savvy', 'salvage', 'salsa', 'salaries', 'salaried', 'sailing', 'safari', 'sacrificed', 'runt', 'runny', 'rummaging', 'rugrats', 'royal', 'rowdy', 'rounded', 'roomies', 'roofer', 'romance', 'rodents', 'rod', 'robbery', 'roadtrip', 'rising', 'rise', 'riley', 'rights', 'rift', 'ridiculously', 'rewind', 'reverse', 'reveal', 'reunions', 'retrospect', 'retreat', 'resulted', 'restrooms', 'responses', 'respecting', 'resolution', 'reservation', 'reports', 'repaying', 'renovation', 'remorse', 'remaining', 'relocate', 'region', 'reflecting', 'reduce', 'recycling', 'reconnecting', 'recluse', 'recklessly', 'recieved', 'recharge', 'recession', 'receptionist', 'reception', 'rec', 'rebuilt', 'reboot', 'reassuring', 'rc', 'ravioli', 'rattle', 'rapid', 'rang', 'ramsey', 'ramp', 'raid', 'raging', 'radiation', 'rad', 'raccoons', 'rabies', 'quietly', 'questioning', 'questionable', 'quantity', 'pushy', 'purchasing', 'pun', 'pumping', 'publicly', 'psyched', 'providers', 'props', 'proposing', 'properties', 'promptly', 'profile', 'professors', 'professionals', 'produced', 'procrastination', 'procrastinating', 'procrastinated', 'processed', 'procedure', 'privilege', 'priority', 'printed', 'previously', 'preserve', 'presentations', 'prepping', 'premature', 'preimum', 'preferences', 'precautions', 'precaution', 'preacher', 'ppl', 'powerless', 'poverty', 'pots', 'posting', 'positives', 'port', 'poodle', 'pond', 'pollution', 'po', 'plunge', 'pleasures', 'playful', 'planting', 'pitt', 'pipe', 'pillows', 'pill', 'piling', 'piled', 'pier', 'pic', 'philadelphia', 'pest', 'personalities', 'permanently', 'perk', 'percentage', 'pending', 'patiently', 'passive', 'participating', 'partially', 'parm', 'pantry', 'panel', 'palm', 'paintball', 'packet', 'packaged', 'oz', 'overjoyed', 'overflowed', 'outs', 'outrageous', 'outgoing', 'outfits', 'outage', 'ought', 'ou', 'othe', 'otehr', 'organizations', 'orchestra', 'optimism', 'oooo', 'ongoing', 'oklahoma', 'oi', 'oculus', 'obligated', 'nurses', 'numb', 'nuisance', 'notifying', 'norovirus', 'nominated', 'nissan', 'nighttime', 'nicu', 'nevermind', 'neurofeedback', 'nervousness', 'neglect', 'negativity', 'negatives', 'necessities', 'nc', 'nauseous', 'naps', 'mustve', 'muster', 'mustard', 'museums', 'mugged', 'motivates', 'mosquito', 'mortifying', 'mortality', 'monkeys', 'monitoring', 'mon', 'models', 'mock', 'misunderstood', 'mississippi', 'minister', 'minimize', 'minding', 'mileage', 'mighty', 'micro', 'mickey', 'mic', 'metallica', 'metabolism', 'merchandise', 'mentality', 'mega', 'meets', 'meditating', 'mechanical', 'meats', 'maximum', 'mattress', 'maths', 'martial', 'mart', 'marshmallows', 'mars', 'markets', 'managment', 'malnourished', 'malls', 'malicious', 'males', 'magazine', 'luxury', 'lupus', 'lucrative', 'lsast', 'loop', 'lookng', 'loner', 'lone', 'locksmith', 'lobby', 'loaf', 'lite', 'licensing', 'liberating', 'leukemia', 'lettuce', 'letdown', 'lending', 'legends', 'legend', 'leche', 'leaked', 'layoffs', 'layoff', 'layer', 'launch', 'laughter', 'landing', 'labrador', 'kings', 'kicker', 'keyed', 'keot', 'keepsakes', 'kangaroo', 'justify', 'judgement', 'jsut', 'jr', 'jon', 'jk', 'jewelry', 'jersey', 'jelly', 'jeeze', 'jacks', 'j', 'itll', 'ithey', 'ish', 'irreplaceable', 'ipod', 'invites', 'invented', 'intriguing', 'intimidated', 'intimate', 'intervene', 'intake', 'insulin', 'instill', 'install', 'instagram', 'ins', 'ink', 'indigestion', 'indicators', 'inconvenience', 'include', 'incidents', 'importantly', 'importance', 'immigration', 'images', 'ignores', 'ignorant', 'identity', 'icing', 'icecream', 'iam', 'hurrying', 'hunters', 'hunter', 'housing', 'hottest', 'horrendous', 'honored', 'honking', 'homeschooling', 'hiv', 'hitch', 'hime', 'hills', 'hides', 'hershey', 'heels', 'heating', 'heater', 'hearts', 'heartfelt', 'hearted', 'hears', 'hbu', 'hawk', 'harmless', 'hangout', 'haiti', 'hairs', 'hairball', 'hacked', 'guaranteed', 'guacamole', 'grounding', 'groove', 'greet', 'greatful', 'gratitude', 'gradually', 'grader', 'grabbing', 'gouvernment', 'gourmet', 'gossiping', 'goo', 'goldie', 'gods', 'goats', 'goat', 'glued', 'glue', 'glory', 'giver', 'genuinely', 'genuine', 'genes', 'gauge', 'gameboy', 'galaxy', 'gag', 'fryer', 'frusterating', 'frugal', 'frogs', 'freely', 'freeing', 'freaky', 'forecast', 'foodie', 'fonder', 'fo', 'flute', 'flunk', 'flops', 'floods', 'flirty', 'flips', 'flashbacks', 'flare', 'fixes', 'fines', 'fined', 'filming', 'fills', 'figuring', 'fess', 'fend', 'feline', 'feces', 'feast', 'favors', 'fatty', 'fatal', 'fashioned', 'farts', 'fare', 'extras', 'explanation', 'expectation', 'expectant', 'exhilarating', 'excessive', 'excel', 'exceed', 'ewwww', 'evcacuated', 'evacuated', 'escort', 'equally', 'environmental', 'enthusiastic', 'enormous', 'engagement', 'energized', 'endurance', 'endless', 'encouraged', 'employment', 'embarrassment', 'embarasing', 'emailed', 'elvis', 'elected', 'eldest', 'elbow', 'eerie', 'earrings', 'earliest', 'dvd', 'drunks', 'drum', 'drowns', 'drinker', 'drifted', 'drawings', 'drawers', 'dramatic', 'dramas', 'drains', 'drained', 'dragging', 'dragged', 'draft', 'downloading', 'downloaded', 'doughnuts', 'doubts', 'doubtful', 'dorms', 'doritos', 'donut', 'dominos', 'dolphins', 'doggo', 'doe', 'doc', 'doberman', 'disturbed', 'distress', 'distraction', 'dissapointed', 'dispose', 'disorder', 'dishonest', 'disguised', 'discouraged', 'discounts', 'disappoint', 'dinosaur', 'dinners', 'diner', 'dime', 'dillishaw', 'digestive', 'diagnose', 'devils', 'detention', 'detect', 'detailed', 'despise', 'despicable', 'desired', 'designer', 'described', 'deployed', 'denver', 'delicate', 'defintely', 'definitly', 'definitley', 'definite', 'deff', 'defensive', 'defeat', 'deed', 'decorations', 'deciding', 'debris', 'dawn', 'dash', 'daring', 'dances', 'damper', 'cursing', 'cuddles', 'cucumber', 'cuba', 'ct', 'crust', 'crunch', 'crummy', 'crosswalk', 'critter', 'criminology', 'criminals', 'creeping', 'creates', 'crate', 'crashes', 'cramming', 'cracker', 'cps', 'costing', 'corolla', 'coordinated', 'cooling', 'cooker', 'contribute', 'contrary', 'continuing', 'contentment', 'congress', 'confrontation', 'confidently', 'confession', 'completing', 'competed', 'compensation', 'compensate', 'comparing', 'commuting', 'communities', 'comical', 'combine', 'cologne', 'colleges', 'collector', 'cola', 'coke', 'coin', 'coding', 'clutter', 'clubbin', 'clot', 'clocks', 'clicking', 'clearwater', 'cleans', 'circles', 'cigar', 'chris', 'choking', 'chemo', 'chatted', 'chatroom', 'charming', 'changer', 'champion', 'chained', 'cents', 'centers', 'cellphones', 'caterer', 'catches', 'casinos', 'carson', 'carrot', 'caregiver', 'captured', 'canyon', 'canal', 'camry', 'camaro', 'calendar', 'calculator', 'cactus', 'cabinets', 'buyer', 'butler', 'burritos', 'buns', 'bunker', 'bumps', 'buggy', 'btw', 'bruises', 'broom', 'brite', 'brisket', 'bride', 'bribe', 'breezy', 'braver', 'brands', 'braces', 'bowels', 'bourdain', 'bounce', 'bottoms', 'border', 'bora', 'bopped', 'boosted', 'boils', 'bogus', 'bodybuilding', 'boating', 'boarding', 'blushing', 'blush', 'bluegrass', 'blu', 'bloody', 'bloated', 'blinker', 'bleh', 'bleach', 'bitcoin', 'bestfriend', 'benign', 'belts', 'behalf', 'bedtime', 'beautifully', 'bay', 'bathrooms', 'bass', 'basics', 'bash', 'barbados', 'banker', 'balling', 'baker', 'bait', 'baffled', 'bacteria', 'backpacking', 'backpack', 'babysat', 'awwwww', 'awfully', 'awards', 'authentic', 'auntie', 'attracted', 'attract', 'asset', 'assemble', 'arts', 'arthritis', 'arguments', 'argentina', 'aretha', 'ar', 'aquarium', 'apricot', 'approval', 'appropriately', 'appeal', 'apocalypse', 'aol', 'antonio', 'amounts', 'amen', 'ambitious', 'alzheimer', 'altogether', 'alternatives', 'allay', 'alarming', 'aint', 'aiming', 'aim', 'aids', 'aha', 'agency', 'afterall', 'aerospace', 'advantages', 'adulthood', 'ads', 'admitting', 'accounts', 'accidently', 'accidental', 'zoom', 'zombies', 'z', 'yuk', 'yu', 'yr', 'yorkie', 'yessir', 'yen', 'yearn', 'ye', 'xmas', 'xd', 'writers', 'wrestle', 'wrench', 'wrangler', 'wounded', 'woulda', 'worship', 'woohooo', 'woohoo', 'wiz', 'wives', 'wits', 'withhold', 'wiser', 'windy', 'windstorm', 'wifi', 'widow', 'whisked', 'whereabouts', 'whatsoever', 'whataburger', 'whack', 'wetting', 'welldone', 'weighed', 'weel', 'wed', 'weaknesses', 'weakness', 'waving', 'waterslide', 'waterproof', 'watering', 'waterboy', 'washer', 'warms', 'wandered', 'waits', 'waht', 'waddle', 'wa', 'w', 'vw', 'vows', 'vowed', 'voucher', 'vouch', 'volcano', 'vodka', 'visualize', 'visitor', 'visibly', 'virus', 'virtually', 'vintage', 'vinegar', 'vietnamese', 'vibe', 'veterans', 'versa', 'venue', 'venice', 'veggie', 'vacuums', 'vaccines', 'vaccine', 'va', 'utility', 'uti', 'user', 'usage', 'uprooted', 'unwanted', 'untrustworthy', 'untill', 'unsuccessful', 'unseen', 'unrelated', 'unpacked', 'unnoticed', 'unmotivated', 'unloaded', 'unlimited', 'uninvolved', 'uninvited', 'unicorn', 'ungrateful', 'unfairly', 'understatement', 'undermine', 'underlying', 'unconditional', 'unclear', 'unbelievably', 'unavoidable', 'unannounced', 'un', 'ukelele', 'uhmnnn', 'uhmmnn', 'ughhh', 'tyson', 'typed', 'tylenol', 'twisted', 'tweet', 'tvs', 'turmoil', 'turbulance', 'turbo', 'tshirts', 'trusts', 'trustful', 'trucking', 'trophies', 'trolls', 'trivia', 'trimming', 'trimmed', 'trilogy', 'triggers', 'triggered', 'trevor', 'trepidation', 'treatable', 'treasures', 'tray', 'transitioning', 'trailers', 'traded', 'tourist', 'tote', 'totalled', 'tornados', 'topping', 'topics', 'tooo', 'tobacco', 'titles', 'tiresome', 'tipsy', 'tipped', 'tin', 'timer', 'tile', 'ti', 'throught', 'thirteen', 'thief', 'theyre', 'thermostat', 'theft', 'theatres', 'thanking', 'territory', 'tentacles', 'tensed', 'tended', 'temp', 'tedious', 'teared', 'teammates', 'teammate', 'taxing', 'taped', 'tantrum', 'tampa', 'tallest', 'tale', 'takeout', 'tailgating', 'tailgate', 'taht', 'tahiti', 'tagged', 'tabs', 'tab', 'syracuse', 'sympathy', 'sympathize', 'swings', 'swerving', 'swelled', 'sweetie', 'sweats', 'swab', 'sustainable', 'surveys', 'surround', 'surpassed', 'surf', 'supports', 'supporter', 'superstitious', 'superhero', 'supercopa', 'sunglasses', 'sunflower', 'sumer', 'suits', 'suing', 'suggested', 'sugary', 'substitute', 'sturgis', 'stunning', 'stroll', 'striving', 'strips', 'stripped', 'strings', 'stride', 'strap', 'strain', 'stomping', 'stomp', 'stinky', 'stiff', 'stew', 'stepmother', 'stepmom', 'stepdaughter', 'stefan', 'steals', 'statuette', 'stats', 'starfish', 'staples', 'stank', 'stalking', 'stair', 'stained', 'stages', 'stabbed', 'squash', 'squad', 'spyro', 'sprite', 'springs', 'spraying', 'splatoon', 'spiritual', 'spiral', 'spinach', 'spices', 'speechless', 'sped', 'spears', 'spanking', 'spanked', 'spank', 'southern', 'sounding', 'somthing', 'someplace', 'soggy', 'sodas', 'sobriety', 'snows', 'snowing', 'snowed', 'snowboarding', 'sneezed', 'snatch', 'snapping', 'smores', 'smoother', 'smh', 'slows', 'slowed', 'sliced', 'sleeper', 'skunks', 'skates', 'sizing', 'situated', 'sitter', 'sirens', 'sins', 'sincere', 'silverfish', 'sickly', 'si', 'shutters', 'shucks', 'shrugged', 'shrink', 'shrieked', 'shreds', 'shotguns', 'shopkeeper', 'shootings', 'shiver', 'shiny', 'shelves', 'sheer', 'shapes', 'shadowy', 'shades', 'sexual', 'settling', 'serves', 'serial', 'serene', 'sequel', 'seperated', 'separation', 'separately', 'sensor', 'seniors', 'seminar', 'seller', 'selfless', 'seeming', 'seeking', 'secretary', 'sebastian', 'seasoned', 'searched', 'seagulls', 'scuffed', 'screws', 'screens', 'screams', 'scrambling', 'scrambled', 'scouts', 'scoring', 'scooter', 'scolding', 'scientists', 'schooling', 'schooled', 'scheme', 'scams', 'scamp', 'sawing', 'savers', 'savannah', 'saturated', 'sats', 'sappy', 'santorini', 'sample', 'samaritan', 'salty', 'sally', 'saints', 'safest', 'sabotage', 'sa', 'rv', 'ruth', 'rut', 'rustling', 'rule', 'ruby', 'rubbish', 'rubbed', 'rsvp', 'rows', 'rover', 'router', 'roomates', 'rom', 'rodeo', 'rockies', 'robots', 'roasting', 'rivalry', 'rite', 'risks', 'risen', 'rifle', 'rewatching', 'revealed', 'retrieve', 'retrace', 'retiring', 'retaliate', 'resturaunt', 'restored', 'restful', 'restart', 'responsibly', 'responsibilites', 'responds', 'resource', 'reserved', 'reserve', 'rescheduled', 'reruns', 'representatives', 'replaceable', 'renovated', 'reminiscent', 'reminisced', 'remastered', 'remarks', 'remainder', 'relocated', 'relly', 'relieving', 'relevant', 'relaxes', 'rekindle', 'rehearsed', 'regional', 'regards', 'regard', 'regain', 'reference', 'reddit', 'recruiting', 'records', 'recorded', 'reassure', 'realtor', 'reall', 'reader', 'ray', 'raving', 'raves', 'rated', 'rascal', 'rant', 'ransacked', 'ranch', 'rag', 'rafting', 'racial', 'quits', 'quieter', 'questioned', 'quarters', 'qualification', 'q', 'purge', 'purchases', 'pups', 'punishing', 'pumps', 'pukes', 'publication', 'pub', 'ptsd', 'psycho', 'psychic', 'provides', 'protest', 'profound', 'profits', 'productivity', 'processing', 'problematic', 'priest', 'prevents', 'prevented', 'prett', 'prescription', 'premium', 'prek', 'preform', 'preferred', 'preference', 'prefered', 'preach', 'praised', 'powerpoint', 'powerball', 'pour', 'pounded', 'posts', 'postal', 'possession', 'porcelain', 'popularity', 'pooted', 'pooch', 'podcasts', 'podcast', 'plugs', 'plug', 'plasma', 'planter', 'placing', 'placement', 'pitiful', 'pisses', 'piss', 'pin', 'piles', 'pickle', 'phil', 'pestering', 'persistent', 'performers', 'performances', 'peole', 'pekingese', 'peeves', 'peel', 'peacefully', 'pe', 'payoff', 'paws', 'pawn', 'patterns', 'paths', 'passions', 'parenthood', 'parasailing', 'paramedic', 'par', 'panera', 'pancake', 'pampering', 'pamper', 'pal', 'pajama', 'paintings', 'painless', 'pa', 'oysters', 'oxygen', 'ovulation', 'overthink', 'overspend', 'oversleep', 'overrated', 'overheated', 'overhead', 'overeat', 'overdose', 'overbearing', 'outgrown', 'outcomes', 'orientation', 'oreos', 'oregon', 'ordinary', 'ops', 'op', 'onwards', 'onion', 'oldie', 'officers', 'obstacle', 'obsessive', 'oblivious', 'objective', 'obedient', 'oatmeal', 'nutrient', 'nut', 'nude', 'nt', 'notify', 'nosy', 'nooooo', 'nonsense', 'nikes', 'nickname', 'nick', 'newegg', 'networking', 'neighbours', 'neices', 'nba', 'nauseated', 'nausea', 'native', 'nation', 'nastiness', 'nascar', 'nasa', 'narrow', 'napkin', 'mystic', 'mw', 'mvp', 'mutts', 'musk', 'mushrooms', 'murphy', 'murdered', 'mummy', 'multiplayer', 'movements', 'motorist', 'motivator', 'motivational', 'motivating', 'motion', 'motherboard', 'moth', 'morals', 'monsoon', 'monkey', 'mondays', 'momento', 'mofo', 'moderate', 'mixing', 'misunderstanding', 'mistakenly', 'misread', 'mishap', 'misery', 'miserably', 'mischievous', 'minimal', 'minecraft', 'mindset', 'millennials', 'mike', 'miffed', 'microsoft', 'meter', 'merit', 'meows', 'mentor', 'mementos', 'melatonin', 'meh', 'meetups', 'mee', 'meditation', 'meditate', 'mediocre', 'meatballs', 'meaningless', 'mazda', 'maxed', 'maturity', 'matured', 'mattered', 'matt', 'matched', 'maroon', 'marijuana', 'maps', 'manuel', 'maniac', 'manhattan', 'maneuver', 'mandatory', 'makeover', 'maintenence', 'lug', 'louder', 'losses', 'longs', 'lolol', 'lola', 'logic', 'locate', 'locals', 'literature', 'lists', 'listener', 'listed', 'liquid', 'linked', 'lineup', 'lin', 'lily', 'likewise', 'lighting', 'lifes', 'liek', 'liberal', 'lexus', 'leo', 'lenovo', 'lemons', 'legendary', 'lee', 'lecture', 'leaks', 'leaf', 'laziness', 'lawsuit', 'laser', 'lapse', 'landlords', 'laidback', 'labs', 'labeled', 'l', 'krystals', 'knives', 'kingdom', 'kickoff', 'khaki', 'keychain', 'kelly', 'kazakhstan', 'kaching', 'judy', 'judgmental', 'judgemental', 'joyous', 'joyed', 'jordan', 'johnson', 'johnny', 'jittery', 'jinx', 'jets', 'jerseys', 'jerker', 'jeopardy', 'jennifer', 'jelous', 'jeeps', 'jaw', 'janitor', 'jackson', 'izzy', 'isolation', 'irritate', 'ironic', 'ireland', 'involving', 'involve', 'investigation']\n"
          ]
        }
      ],
      "source": [
        "pkl_file = open(\"vocab.pkl\", \"rb\")\n",
        "uploaded_VOCAB = pickle.load(pkl_file)\n",
        "print(uploaded_VOCAB)"
      ]
    },
    {
      "cell_type": "code",
      "execution_count": 72,
      "metadata": {},
      "outputs": [],
      "source": [
        "\n",
        "def decode_sentence(input_sentence):\n",
        "    # Mapping the input sentence to tokens and adding start and end tokens\n",
        "    tokenized_input_sentence = vectorizer(\n",
        "        tf.constant(\"[start] \" + preprocess_text(input_sentence) + \" [end]\")\n",
        "    )\n",
        "    # Initializing the initial sentence consisting of only the start token.\n",
        "    tokenized_target_sentence = tf.expand_dims(uploaded_VOCAB.index(\"[start]\"), 0)\n",
        "    decoded_sentence = \"\"\n",
        "\n",
        "    for i in range(MAX_LENGTH):\n",
        "        # Get the predictions\n",
        "        predictions = loaded_model.predict(\n",
        "            {\n",
        "                \"encoder_inputs\": tf.expand_dims(tokenized_input_sentence, 0),\n",
        "                \"decoder_inputs\": tf.expand_dims(\n",
        "                    tf.pad(\n",
        "                        tokenized_target_sentence,\n",
        "                        [[0, MAX_LENGTH - tf.shape(tokenized_target_sentence)[0]]],\n",
        "                    ),\n",
        "                    0,\n",
        "                ),\n",
        "            }\n",
        "        )\n",
        "        # Calculating the token with maximum probability and getting the corresponding word\n",
        "        sampled_token_index = tf.argmax(predictions[0, i, :])\n",
        "        sampled_token = uploaded_VOCAB[sampled_token_index.numpy()]\n",
        "        # If sampled token is the end token then stop generating and return the sentence\n",
        "        if tf.equal(sampled_token_index, uploaded_VOCAB.index(\"[end]\")):\n",
        "            break\n",
        "        decoded_sentence += sampled_token + \" \"\n",
        "        tokenized_target_sentence = tf.concat(\n",
        "            [tokenized_target_sentence, [sampled_token_index]], 0\n",
        "        )\n",
        "    decoded_sentence = decoded_sentence.replace('comma', ',') \n",
        "    \n",
        "    return decoded_sentence"
      ]
    },
    {
      "cell_type": "code",
      "execution_count": 73,
      "metadata": {},
      "outputs": [
        {
          "name": "stdout",
          "output_type": "stream",
          "text": [
            "1/1 [==============================] - 1s 741ms/step\n",
            "1/1 [==============================] - 0s 44ms/step\n",
            "1/1 [==============================] - 0s 67ms/step\n",
            "1/1 [==============================] - 0s 46ms/step\n",
            "1/1 [==============================] - 0s 50ms/step\n",
            "1/1 [==============================] - 0s 56ms/step\n",
            "1/1 [==============================] - 0s 53ms/step\n",
            "1/1 [==============================] - 0s 49ms/step\n",
            "1/1 [==============================] - 0s 60ms/step\n",
            "1/1 [==============================] - 0s 74ms/step\n",
            "1/1 [==============================] - 0s 80ms/step\n",
            "1/1 [==============================] - 0s 49ms/step\n",
            "1/1 [==============================] - 0s 55ms/step\n",
            "1/1 [==============================] - 0s 48ms/step\n",
            "1/1 [==============================] - 0s 43ms/step\n",
            "1/1 [==============================] - 0s 57ms/step\n",
            "1/1 [==============================] - 0s 45ms/step\n"
          ]
        },
        {
          "data": {
            "text/plain": [
              "'i m sorry to hear that . have you tried yourself a lot of people ? '"
            ]
          },
          "execution_count": 73,
          "metadata": {},
          "output_type": "execute_result"
        }
      ],
      "source": [
        "decode_sentence(\"sad: I am not feeling good.\")"
      ]
    },
    {
      "cell_type": "code",
      "execution_count": 74,
      "metadata": {},
      "outputs": [
        {
          "name": "stdout",
          "output_type": "stream",
          "text": [
            "1/1 [==============================] - 0s 51ms/step\n"
          ]
        },
        {
          "name": "stdout",
          "output_type": "stream",
          "text": [
            "1/1 [==============================] - 0s 59ms/step\n",
            "1/1 [==============================] - 0s 40ms/step\n",
            "1/1 [==============================] - 0s 56ms/step\n",
            "1/1 [==============================] - 0s 51ms/step\n",
            "1/1 [==============================] - 0s 57ms/step\n",
            "1/1 [==============================] - 0s 44ms/step\n",
            "1/1 [==============================] - 0s 45ms/step\n",
            "1/1 [==============================] - 0s 62ms/step\n",
            "1/1 [==============================] - 0s 43ms/step\n",
            "1/1 [==============================] - 0s 57ms/step\n",
            "1/1 [==============================] - 0s 48ms/step\n",
            "1/1 [==============================] - 0s 59ms/step\n",
            "1/1 [==============================] - 0s 44ms/step\n",
            "1/1 [==============================] - 0s 45ms/step\n",
            "1/1 [==============================] - 0s 60ms/step\n",
            "1/1 [==============================] - 0s 48ms/step\n"
          ]
        },
        {
          "data": {
            "text/plain": [
              "'i know what you mean , i m sure it s not good at all . '"
            ]
          },
          "execution_count": 74,
          "metadata": {},
          "output_type": "execute_result"
        }
      ],
      "source": [
        "decode_sentence(\"angry: People can be so mean!\")"
      ]
    },
    {
      "cell_type": "code",
      "execution_count": 75,
      "metadata": {},
      "outputs": [
        {
          "name": "stdout",
          "output_type": "stream",
          "text": [
            "1/1 [==============================] - 0s 69ms/step\n",
            "1/1 [==============================] - 0s 62ms/step\n",
            "1/1 [==============================] - 0s 63ms/step\n",
            "1/1 [==============================] - 0s 43ms/step\n",
            "1/1 [==============================] - 0s 52ms/step\n",
            "1/1 [==============================] - 0s 61ms/step\n",
            "1/1 [==============================] - 0s 45ms/step\n",
            "1/1 [==============================] - 0s 64ms/step\n",
            "1/1 [==============================] - 0s 44ms/step\n",
            "1/1 [==============================] - 0s 64ms/step\n",
            "1/1 [==============================] - 0s 47ms/step\n",
            "1/1 [==============================] - 0s 65ms/step\n",
            "1/1 [==============================] - 0s 47ms/step\n",
            "1/1 [==============================] - 0s 56ms/step\n"
          ]
        },
        {
          "data": {
            "text/plain": [
              "'i know what you mean ! you sound like a good one ! '"
            ]
          },
          "execution_count": 75,
          "metadata": {},
          "output_type": "execute_result"
        }
      ],
      "source": [
        "decode_sentence(\"angry: I just can not stand this injustice!\")"
      ]
    },
    {
      "cell_type": "code",
      "execution_count": 76,
      "metadata": {},
      "outputs": [
        {
          "name": "stdout",
          "output_type": "stream",
          "text": [
            "1/1 [==============================] - 0s 43ms/step\n"
          ]
        },
        {
          "name": "stdout",
          "output_type": "stream",
          "text": [
            "1/1 [==============================] - 0s 70ms/step\n",
            "1/1 [==============================] - 0s 50ms/step\n",
            "1/1 [==============================] - 0s 39ms/step\n",
            "1/1 [==============================] - 0s 56ms/step\n",
            "1/1 [==============================] - 0s 42ms/step\n",
            "1/1 [==============================] - 0s 61ms/step\n",
            "1/1 [==============================] - 0s 48ms/step\n",
            "1/1 [==============================] - 0s 59ms/step\n",
            "1/1 [==============================] - 0s 44ms/step\n",
            "1/1 [==============================] - 0s 59ms/step\n",
            "1/1 [==============================] - 0s 56ms/step\n",
            "1/1 [==============================] - 0s 49ms/step\n",
            "1/1 [==============================] - 0s 68ms/step\n",
            "1/1 [==============================] - 0s 50ms/step\n",
            "1/1 [==============================] - 0s 54ms/step\n"
          ]
        },
        {
          "data": {
            "text/plain": [
              "'i m so sorry to hear that . what will you be worried about ? '"
            ]
          },
          "execution_count": 76,
          "metadata": {},
          "output_type": "execute_result"
        }
      ],
      "source": [
        "decode_sentence(\"fearful: I am afraid to have a car crash.\")"
      ]
    },
    {
      "cell_type": "code",
      "execution_count": 77,
      "metadata": {},
      "outputs": [
        {
          "name": "stdout",
          "output_type": "stream",
          "text": [
            "1/1 [==============================] - 0s 52ms/step\n"
          ]
        },
        {
          "name": "stdout",
          "output_type": "stream",
          "text": [
            "1/1 [==============================] - 0s 50ms/step\n",
            "1/1 [==============================] - 0s 49ms/step\n",
            "1/1 [==============================] - 0s 53ms/step\n",
            "1/1 [==============================] - 0s 58ms/step\n",
            "1/1 [==============================] - 0s 59ms/step\n",
            "1/1 [==============================] - 0s 63ms/step\n",
            "1/1 [==============================] - 0s 99ms/step\n",
            "1/1 [==============================] - 0s 47ms/step\n",
            "1/1 [==============================] - 0s 54ms/step\n",
            "1/1 [==============================] - 0s 50ms/step\n",
            "1/1 [==============================] - 0s 62ms/step\n",
            "1/1 [==============================] - 0s 48ms/step\n",
            "1/1 [==============================] - 0s 64ms/step\n",
            "1/1 [==============================] - 0s 48ms/step\n",
            "1/1 [==============================] - 0s 61ms/step\n",
            "1/1 [==============================] - 0s 48ms/step\n"
          ]
        },
        {
          "data": {
            "text/plain": [
              "'i m sorry to hear that . what is your favorite part about the weekend ? '"
            ]
          },
          "execution_count": 77,
          "metadata": {},
          "output_type": "execute_result"
        }
      ],
      "source": [
        "decode_sentence(\"sad: Today is a sad day. I feel lonely now.\") "
      ]
    },
    {
      "cell_type": "code",
      "execution_count": 78,
      "metadata": {},
      "outputs": [
        {
          "name": "stdout",
          "output_type": "stream",
          "text": [
            "1/1 [==============================] - 0s 58ms/step\n",
            "1/1 [==============================] - 0s 46ms/step\n",
            "1/1 [==============================] - 0s 50ms/step\n",
            "1/1 [==============================] - 0s 64ms/step\n",
            "1/1 [==============================] - 0s 50ms/step\n",
            "1/1 [==============================] - 0s 72ms/step\n",
            "1/1 [==============================] - 0s 45ms/step\n",
            "1/1 [==============================] - 0s 69ms/step\n",
            "1/1 [==============================] - 0s 51ms/step\n",
            "1/1 [==============================] - 0s 53ms/step\n",
            "1/1 [==============================] - 0s 56ms/step\n"
          ]
        },
        {
          "data": {
            "text/plain": [
              "'oh wow ! i m so sorry to hear that '"
            ]
          },
          "execution_count": 78,
          "metadata": {},
          "output_type": "execute_result"
        }
      ],
      "source": [
        "decode_sentence(\"sad: My sister had a car accident.\")"
      ]
    },
    {
      "cell_type": "code",
      "execution_count": 79,
      "metadata": {},
      "outputs": [
        {
          "name": "stdout",
          "output_type": "stream",
          "text": [
            "1/1 [==============================] - 0s 44ms/step\n",
            "1/1 [==============================] - 0s 44ms/step\n",
            "1/1 [==============================] - 0s 54ms/step\n",
            "1/1 [==============================] - 0s 56ms/step\n",
            "1/1 [==============================] - 0s 45ms/step\n",
            "1/1 [==============================] - 0s 52ms/step\n",
            "1/1 [==============================] - 0s 48ms/step\n",
            "1/1 [==============================] - 0s 63ms/step\n",
            "1/1 [==============================] - 0s 46ms/step\n",
            "1/1 [==============================] - 0s 50ms/step\n",
            "1/1 [==============================] - 0s 55ms/step\n",
            "1/1 [==============================] - 0s 44ms/step\n",
            "1/1 [==============================] - 0s 63ms/step\n",
            "1/1 [==============================] - 0s 42ms/step\n",
            "1/1 [==============================] - 0s 69ms/step\n",
            "1/1 [==============================] - 0s 45ms/step\n",
            "1/1 [==============================] - 0s 68ms/step\n"
          ]
        },
        {
          "data": {
            "text/plain": [
              "'i m sure you ll do great ! what s your new job you have ? '"
            ]
          },
          "execution_count": 79,
          "metadata": {},
          "output_type": "execute_result"
        }
      ],
      "source": [
        "decode_sentence(\"joyful: I got promotion at work!\")"
      ]
    },
    {
      "cell_type": "code",
      "execution_count": 80,
      "metadata": {},
      "outputs": [
        {
          "name": "stdout",
          "output_type": "stream",
          "text": [
            "1/1 [==============================] - 0s 61ms/step\n",
            "1/1 [==============================] - 0s 56ms/step\n",
            "1/1 [==============================] - 0s 46ms/step\n",
            "1/1 [==============================] - 0s 63ms/step\n",
            "1/1 [==============================] - 0s 45ms/step\n",
            "1/1 [==============================] - 0s 69ms/step\n",
            "1/1 [==============================] - 0s 47ms/step\n",
            "1/1 [==============================] - 0s 60ms/step\n",
            "1/1 [==============================] - 0s 45ms/step\n",
            "1/1 [==============================] - 0s 67ms/step\n",
            "1/1 [==============================] - 0s 44ms/step\n",
            "1/1 [==============================] - 0s 63ms/step\n",
            "1/1 [==============================] - 0s 57ms/step\n",
            "1/1 [==============================] - 0s 48ms/step\n",
            "1/1 [==============================] - 0s 50ms/step\n",
            "1/1 [==============================] - 0s 48ms/step\n",
            "1/1 [==============================] - 0s 57ms/step\n",
            "1/1 [==============================] - 0s 58ms/step\n"
          ]
        },
        {
          "data": {
            "text/plain": [
              "'i am so excited . i am excited too , but i am so proud of you '"
            ]
          },
          "execution_count": 80,
          "metadata": {},
          "output_type": "execute_result"
        }
      ],
      "source": [
        "decode_sentence(\"joyful: I won a lottery!\")"
      ]
    },
    {
      "cell_type": "code",
      "execution_count": 81,
      "metadata": {},
      "outputs": [
        {
          "name": "stdout",
          "output_type": "stream",
          "text": [
            "1/1 [==============================] - 0s 78ms/step\n",
            "1/1 [==============================] - 0s 52ms/step\n",
            "1/1 [==============================] - 0s 67ms/step\n",
            "1/1 [==============================] - 0s 56ms/step\n",
            "1/1 [==============================] - 0s 58ms/step\n",
            "1/1 [==============================] - 0s 57ms/step\n",
            "1/1 [==============================] - 0s 54ms/step\n",
            "1/1 [==============================] - 0s 68ms/step\n",
            "1/1 [==============================] - 0s 52ms/step\n",
            "1/1 [==============================] - 0s 58ms/step\n",
            "1/1 [==============================] - 0s 45ms/step\n",
            "1/1 [==============================] - 0s 65ms/step\n",
            "1/1 [==============================] - 0s 50ms/step\n",
            "1/1 [==============================] - 0s 47ms/step\n",
            "1/1 [==============================] - 0s 65ms/step\n",
            "1/1 [==============================] - 0s 52ms/step\n",
            "1/1 [==============================] - 0s 76ms/step\n",
            "1/1 [==============================] - 0s 48ms/step\n"
          ]
        },
        {
          "data": {
            "text/plain": [
              "'i know what you mean , i have you ever been on a road trip before ? '"
            ]
          },
          "execution_count": 81,
          "metadata": {},
          "output_type": "execute_result"
        }
      ],
      "source": [
        "decode_sentence(\"fearful: I am afraid to drive a car.\")"
      ]
    },
    {
      "cell_type": "code",
      "execution_count": 82,
      "metadata": {},
      "outputs": [
        {
          "name": "stdout",
          "output_type": "stream",
          "text": [
            "1/1 [==============================] - 0s 49ms/step\n",
            "1/1 [==============================] - 0s 66ms/step\n",
            "1/1 [==============================] - 0s 53ms/step\n",
            "1/1 [==============================] - 0s 63ms/step\n",
            "1/1 [==============================] - 0s 50ms/step\n",
            "1/1 [==============================] - 0s 40ms/step\n",
            "1/1 [==============================] - 0s 55ms/step\n",
            "1/1 [==============================] - 0s 45ms/step\n",
            "1/1 [==============================] - 0s 57ms/step\n",
            "1/1 [==============================] - 0s 46ms/step\n",
            "1/1 [==============================] - 0s 61ms/step\n",
            "1/1 [==============================] - 0s 47ms/step\n",
            "1/1 [==============================] - 0s 61ms/step\n",
            "1/1 [==============================] - 0s 62ms/step\n",
            "1/1 [==============================] - 0s 65ms/step\n",
            "1/1 [==============================] - 0s 42ms/step\n",
            "1/1 [==============================] - 0s 55ms/step\n"
          ]
        },
        {
          "data": {
            "text/plain": [
              "'i m so ready to go to a new house so i can t wait . '"
            ]
          },
          "execution_count": 82,
          "metadata": {},
          "output_type": "execute_result"
        }
      ],
      "source": [
        "decode_sentence(\"surprised: I bought a house.\")"
      ]
    },
    {
      "cell_type": "code",
      "execution_count": 83,
      "metadata": {},
      "outputs": [
        {
          "name": "stdout",
          "output_type": "stream",
          "text": [
            "1/1 [==============================] - 0s 63ms/step\n",
            "1/1 [==============================] - 0s 44ms/step\n",
            "1/1 [==============================] - 0s 66ms/step\n",
            "1/1 [==============================] - 0s 47ms/step\n",
            "1/1 [==============================] - 0s 62ms/step\n",
            "1/1 [==============================] - 0s 44ms/step\n",
            "1/1 [==============================] - 0s 63ms/step\n",
            "1/1 [==============================] - 0s 48ms/step\n",
            "1/1 [==============================] - 0s 50ms/step\n"
          ]
        },
        {
          "data": {
            "text/plain": [
              "'oh wow ! where are you going ? '"
            ]
          },
          "execution_count": 83,
          "metadata": {},
          "output_type": "execute_result"
        }
      ],
      "source": [
        "decode_sentence(\"surprised: I am going on vacation!\")"
      ]
    },
    {
      "cell_type": "code",
      "execution_count": 84,
      "metadata": {},
      "outputs": [
        {
          "name": "stdout",
          "output_type": "stream",
          "text": [
            "1/1 [==============================] - 0s 59ms/step\n"
          ]
        },
        {
          "name": "stdout",
          "output_type": "stream",
          "text": [
            "1/1 [==============================] - 0s 47ms/step\n",
            "1/1 [==============================] - 0s 65ms/step\n",
            "1/1 [==============================] - 0s 56ms/step\n",
            "1/1 [==============================] - 0s 49ms/step\n",
            "1/1 [==============================] - 0s 63ms/step\n",
            "1/1 [==============================] - 0s 52ms/step\n",
            "1/1 [==============================] - 0s 62ms/step\n",
            "1/1 [==============================] - 0s 43ms/step\n",
            "1/1 [==============================] - 0s 49ms/step\n",
            "1/1 [==============================] - 0s 65ms/step\n",
            "1/1 [==============================] - 0s 44ms/step\n",
            "1/1 [==============================] - 0s 60ms/step\n",
            "1/1 [==============================] - 0s 60ms/step\n"
          ]
        },
        {
          "data": {
            "text/plain": [
              "'i m sure you ll do great ! what are you studying ? '"
            ]
          },
          "execution_count": 84,
          "metadata": {},
          "output_type": "execute_result"
        }
      ],
      "source": [
        "decode_sentence(\"netral: I am not ready to the exam.\")"
      ]
    }
  ],
  "metadata": {
    "accelerator": "GPU",
    "colab": {
      "name": "text_generation_fnet",
      "provenance": [],
      "toc_visible": true
    },
    "kernelspec": {
      "display_name": "Python 3",
      "language": "python",
      "name": "python3"
    },
    "language_info": {
      "codemirror_mode": {
        "name": "ipython",
        "version": 3
      },
      "file_extension": ".py",
      "mimetype": "text/x-python",
      "name": "python",
      "nbconvert_exporter": "python",
      "pygments_lexer": "ipython3",
      "version": "3.9.5"
    }
  },
  "nbformat": 4,
  "nbformat_minor": 0
}
